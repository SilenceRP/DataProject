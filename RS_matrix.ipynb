{
 "cells": [
  {
   "cell_type": "markdown",
   "metadata": {},
   "source": [
    "# 矩陣分解"
   ]
  },
  {
   "cell_type": "code",
   "execution_count": 136,
   "metadata": {},
   "outputs": [],
   "source": [
    "import numpy as np\n",
    "import time"
   ]
  },
  {
   "cell_type": "code",
   "execution_count": 47,
   "metadata": {},
   "outputs": [],
   "source": [
    "user = 5\n",
    "item = 5\n",
    "latent = 2 # K 隱語義"
   ]
  },
  {
   "cell_type": "code",
   "execution_count": 48,
   "metadata": {},
   "outputs": [],
   "source": [
    "y = np.array([[1,1,1,0,0],\n",
    "              [1,1,1,0,0], \n",
    "              [1,1,1,0,0],\n",
    "              [0,0,0,1,1],\n",
    "              [0,0,0,1,1]], dtype = np.float)"
   ]
  },
  {
   "cell_type": "code",
   "execution_count": 49,
   "metadata": {},
   "outputs": [],
   "source": [
    "y_hat = y.copy()"
   ]
  },
  {
   "cell_type": "code",
   "execution_count": 50,
   "metadata": {},
   "outputs": [],
   "source": [
    "y_hat[0,4] = y_hat[1,3] = y_hat[2,2] = y_hat[3,1] = y_hat[4,0] = None"
   ]
  },
  {
   "cell_type": "code",
   "execution_count": 51,
   "metadata": {},
   "outputs": [
    {
     "data": {
      "text/plain": [
       "array([[ 1.,  1.,  1.,  0., nan],\n",
       "       [ 1.,  1.,  1., nan,  0.],\n",
       "       [ 1.,  1., nan,  0.,  0.],\n",
       "       [ 0., nan,  0.,  1.,  1.],\n",
       "       [nan,  0.,  0.,  1.,  1.]])"
      ]
     },
     "execution_count": 51,
     "metadata": {},
     "output_type": "execute_result"
    }
   ],
   "source": [
    "y_hat"
   ]
  },
  {
   "cell_type": "code",
   "execution_count": 52,
   "metadata": {},
   "outputs": [],
   "source": [
    "y_hat2 = np.nan_to_num(y_hat, nan = 0.5)"
   ]
  },
  {
   "cell_type": "code",
   "execution_count": 53,
   "metadata": {},
   "outputs": [
    {
     "data": {
      "text/plain": [
       "array([[1. , 1. , 1. , 0. , 0.5],\n",
       "       [1. , 1. , 1. , 0.5, 0. ],\n",
       "       [1. , 1. , 0.5, 0. , 0. ],\n",
       "       [0. , 0.5, 0. , 1. , 1. ],\n",
       "       [0.5, 0. , 0. , 1. , 1. ]])"
      ]
     },
     "execution_count": 53,
     "metadata": {},
     "output_type": "execute_result"
    }
   ],
   "source": [
    "y_hat2"
   ]
  },
  {
   "cell_type": "code",
   "execution_count": 54,
   "metadata": {},
   "outputs": [],
   "source": [
    "U, S, Vh = np.linalg.svd(y_hat2, full_matrices=True)"
   ]
  },
  {
   "cell_type": "code",
   "execution_count": 21,
   "metadata": {},
   "outputs": [
    {
     "data": {
      "text/plain": [
       "(5, 5)"
      ]
     },
     "execution_count": 21,
     "metadata": {},
     "output_type": "execute_result"
    }
   ],
   "source": [
    "U.shape"
   ]
  },
  {
   "cell_type": "code",
   "execution_count": 23,
   "metadata": {},
   "outputs": [
    {
     "data": {
      "text/plain": [
       "(5,)"
      ]
     },
     "execution_count": 23,
     "metadata": {},
     "output_type": "execute_result"
    }
   ],
   "source": [
    "S.shape"
   ]
  },
  {
   "cell_type": "code",
   "execution_count": 24,
   "metadata": {},
   "outputs": [
    {
     "data": {
      "text/plain": [
       "(5, 5)"
      ]
     },
     "execution_count": 24,
     "metadata": {},
     "output_type": "execute_result"
    }
   ],
   "source": [
    "Vh.shape"
   ]
  },
  {
   "cell_type": "code",
   "execution_count": 25,
   "metadata": {},
   "outputs": [
    {
     "data": {
      "text/plain": [
       "(5,)"
      ]
     },
     "execution_count": 25,
     "metadata": {},
     "output_type": "execute_result"
    }
   ],
   "source": [
    "S.shape"
   ]
  },
  {
   "cell_type": "code",
   "execution_count": 26,
   "metadata": {},
   "outputs": [
    {
     "data": {
      "text/plain": [
       "array([3.03208889, 1.84729636, 0.5       , 0.5       , 0.37938524])"
      ]
     },
     "execution_count": 26,
     "metadata": {},
     "output_type": "execute_result"
    }
   ],
   "source": [
    "\n",
    "S"
   ]
  },
  {
   "cell_type": "code",
   "execution_count": 30,
   "metadata": {},
   "outputs": [
    {
     "data": {
      "text/plain": [
       "array([[-0.56857902,  0.19746542],\n",
       "       [-0.56857902,  0.19746542],\n",
       "       [-0.44909879,  0.29312841],\n",
       "       [-0.27545061, -0.64656421],\n",
       "       [-0.27545061, -0.64656421]])"
      ]
     },
     "execution_count": 30,
     "metadata": {},
     "output_type": "execute_result"
    }
   ],
   "source": [
    "U[:,:latent]"
   ]
  },
  {
   "cell_type": "code",
   "execution_count": 36,
   "metadata": {},
   "outputs": [
    {
     "data": {
      "text/plain": [
       "array([[-0.99006064,  0.26838568],\n",
       "       [-0.99006064,  0.26838568],\n",
       "       [-0.78201097,  0.39840631],\n",
       "       [-0.47963923, -0.87877956],\n",
       "       [-0.47963923, -0.87877956]])"
      ]
     },
     "execution_count": 36,
     "metadata": {},
     "output_type": "execute_result"
    }
   ],
   "source": [
    "U[:,:latent] * np.sqrt(S[:latent]).reshape(1,-1)"
   ]
  },
  {
   "cell_type": "code",
   "execution_count": 38,
   "metadata": {},
   "outputs": [
    {
     "data": {
      "text/plain": [
       "array([[-0.99006064, -0.99006064, -0.78201097, -0.47963923, -0.47963923],\n",
       "       [ 0.26838568,  0.26838568,  0.39840631, -0.87877956, -0.87877956]])"
      ]
     },
     "execution_count": 38,
     "metadata": {},
     "output_type": "execute_result"
    }
   ],
   "source": [
    "Vh[:latent, :] * np.sqrt(S[:latent]).reshape(-1,1)"
   ]
  },
  {
   "cell_type": "code",
   "execution_count": 41,
   "metadata": {},
   "outputs": [],
   "source": [
    "P = U[:,:latent] * np.sqrt(S[:latent]).reshape(1,-1)\n",
    "Q = Vh[:latent, :] * np.sqrt(S[:latent]).reshape(-1,1)"
   ]
  },
  {
   "cell_type": "code",
   "execution_count": 43,
   "metadata": {},
   "outputs": [
    {
     "data": {
      "text/plain": [
       "array([[1.05225095, 1.05225095, 0.88116483, 0.23902007, 0.23902007],\n",
       "       [1.05225095, 1.05225095, 0.88116483, 0.23902007, 0.23902007],\n",
       "       [0.88116483, 0.88116483, 0.77026874, 0.02497182, 0.02497182],\n",
       "       [0.23902007, 0.23902007, 0.02497182, 1.0023073 , 1.0023073 ],\n",
       "       [0.23902007, 0.23902007, 0.02497182, 1.0023073 , 1.0023073 ]])"
      ]
     },
     "execution_count": 43,
     "metadata": {},
     "output_type": "execute_result"
    }
   ],
   "source": [
    "P @ Q"
   ]
  },
  {
   "cell_type": "code",
   "execution_count": 45,
   "metadata": {},
   "outputs": [
    {
     "data": {
      "text/plain": [
       "array([[1., 1., 1., 0., 0.],\n",
       "       [1., 1., 1., 0., 0.],\n",
       "       [1., 1., 1., 0., 0.],\n",
       "       [0., 0., 0., 1., 1.],\n",
       "       [0., 0., 0., 1., 1.]])"
      ]
     },
     "execution_count": 45,
     "metadata": {},
     "output_type": "execute_result"
    }
   ],
   "source": [
    "y"
   ]
  },
  {
   "cell_type": "code",
   "execution_count": null,
   "metadata": {},
   "outputs": [],
   "source": [
    "######################################"
   ]
  },
  {
   "cell_type": "code",
   "execution_count": 77,
   "metadata": {},
   "outputs": [],
   "source": [
    "t1 = np.random.choice(range(1, 11), size = 35).reshape(7,5)"
   ]
  },
  {
   "cell_type": "code",
   "execution_count": 78,
   "metadata": {},
   "outputs": [],
   "source": [
    "t1 = np.array(t1, dtype = np.float)"
   ]
  },
  {
   "cell_type": "code",
   "execution_count": 79,
   "metadata": {},
   "outputs": [],
   "source": [
    "t1[0,0] = t1[2,1] = t1[6,1] = t1[4,3] = t1[2,3] =\\\n",
    "t1[1,3] = t1[3,2] = t1[0,4] = t1[2,4] = t1[4,0] = None "
   ]
  },
  {
   "cell_type": "code",
   "execution_count": 80,
   "metadata": {},
   "outputs": [
    {
     "data": {
      "text/plain": [
       "array([[nan,  2.,  4.,  8., nan],\n",
       "       [ 4.,  2.,  1., nan,  8.],\n",
       "       [ 3., nan,  6., nan, nan],\n",
       "       [ 2.,  2., nan,  4.,  2.],\n",
       "       [nan,  3.,  8., nan,  7.],\n",
       "       [ 8.,  9.,  3.,  2., 10.],\n",
       "       [ 6., nan,  5.,  3.,  7.]])"
      ]
     },
     "execution_count": 80,
     "metadata": {},
     "output_type": "execute_result"
    }
   ],
   "source": [
    "t1"
   ]
  },
  {
   "cell_type": "code",
   "execution_count": 81,
   "metadata": {},
   "outputs": [],
   "source": [
    "t2 = np.nan_to_num(t1, 0)"
   ]
  },
  {
   "cell_type": "code",
   "execution_count": 83,
   "metadata": {},
   "outputs": [],
   "source": [
    "U, S, Vh = np.linalg.svd(t2, full_matrices=True)"
   ]
  },
  {
   "cell_type": "code",
   "execution_count": 84,
   "metadata": {},
   "outputs": [
    {
     "name": "stdout",
     "output_type": "stream",
     "text": [
      "(7, 7)\n",
      "(5,)\n",
      "(5, 5)\n"
     ]
    }
   ],
   "source": [
    "print(U.shape)\n",
    "print(S.shape)\n",
    "print(Vh.shape)"
   ]
  },
  {
   "cell_type": "code",
   "execution_count": 102,
   "metadata": {},
   "outputs": [],
   "source": [
    "latent = 3"
   ]
  },
  {
   "cell_type": "code",
   "execution_count": 87,
   "metadata": {},
   "outputs": [
    {
     "data": {
      "text/plain": [
       "array([[-0.1728582 , -0.76904163],\n",
       "       [-0.36206718,  0.34292623],\n",
       "       [-0.16304388, -0.31482176],\n",
       "       [-0.16453089, -0.12751071],\n",
       "       [-0.39529682, -0.21090506],\n",
       "       [-0.66291144,  0.33629222],\n",
       "       [-0.43550262, -0.13428122]])"
      ]
     },
     "execution_count": 87,
     "metadata": {},
     "output_type": "execute_result"
    }
   ],
   "source": [
    "U[:,:latent]"
   ]
  },
  {
   "cell_type": "code",
   "execution_count": 89,
   "metadata": {},
   "outputs": [
    {
     "data": {
      "text/plain": [
       "array([[-0.44155216, -0.37079452, -0.40589138, -0.20264767, -0.6795066 ],\n",
       "       [ 0.21190722,  0.13255736, -0.61525434, -0.65859603,  0.35388876]])"
      ]
     },
     "execution_count": 89,
     "metadata": {},
     "output_type": "execute_result"
    }
   ],
   "source": [
    "Vh[:latent,:]"
   ]
  },
  {
   "cell_type": "code",
   "execution_count": 103,
   "metadata": {},
   "outputs": [
    {
     "data": {
      "text/plain": [
       "array([[-0.83010293, -2.39596382, -1.18639622],\n",
       "       [-1.73872581,  1.0683932 ,  0.07673955],\n",
       "       [-0.78297238, -0.98083316,  1.13264776],\n",
       "       [-0.79011336, -0.39726204, -1.1993048 ],\n",
       "       [-1.89830183, -0.65707874,  1.72114149],\n",
       "       [-3.18344581,  1.0477248 , -0.9677638 ],\n",
       "       [-2.09137888, -0.4183557 ,  0.34701237]])"
      ]
     },
     "execution_count": 103,
     "metadata": {},
     "output_type": "execute_result"
    }
   ],
   "source": [
    "U[:,:latent] * np.sqrt(S[:latent]).reshape(1,-1)"
   ]
  },
  {
   "cell_type": "code",
   "execution_count": 104,
   "metadata": {},
   "outputs": [
    {
     "data": {
      "text/plain": [
       "array([[-2.12043009, -1.78063646, -1.94917922, -0.97315847, -3.26313942],\n",
       "       [ 0.66020096,  0.41298498, -1.91683658, -2.05186844,  1.10254715],\n",
       "       [-0.5339423 , -1.00127697,  1.80623196, -1.86202519,  0.36972781]])"
      ]
     },
     "execution_count": 104,
     "metadata": {},
     "output_type": "execute_result"
    }
   ],
   "source": [
    "Vh[:latent, :] * np.sqrt(S[:latent]).reshape(-1,1)"
   ]
  },
  {
   "cell_type": "code",
   "execution_count": 105,
   "metadata": {},
   "outputs": [],
   "source": [
    "tP = U[:,:latent] * np.sqrt(S[:latent]).reshape(1,-1)\n",
    "tQ = Vh[:latent, :] * np.sqrt(S[:latent]).reshape(-1,1)"
   ]
  },
  {
   "cell_type": "code",
   "execution_count": 108,
   "metadata": {},
   "outputs": [
    {
     "data": {
      "text/plain": [
       "array([[ 0.8,  1.7,  4.1,  7.9, -0.4],\n",
       "       [ 4.4,  3.5,  1.5, -0.6,  6.9],\n",
       "       [ 0.4, -0.1,  5.5,  0.7,  1.9],\n",
       "       [ 2.1,  2.4,  0.1,  3.8,  1.7],\n",
       "       [ 2.7,  1.4,  8.1, -0. ,  6.1],\n",
       "       [ 8. ,  7.1,  2.4,  2.8, 11.2],\n",
       "       [ 4. ,  3.2,  5.5,  2.2,  6.5]])"
      ]
     },
     "execution_count": 108,
     "metadata": {},
     "output_type": "execute_result"
    }
   ],
   "source": [
    "np.around(tP @ tQ,1)"
   ]
  },
  {
   "cell_type": "code",
   "execution_count": 100,
   "metadata": {},
   "outputs": [
    {
     "data": {
      "text/plain": [
       "array([[ 0.,  2.,  4.,  8.,  0.],\n",
       "       [ 4.,  2.,  1.,  0.,  8.],\n",
       "       [ 3.,  0.,  6.,  0.,  0.],\n",
       "       [ 2.,  2.,  0.,  4.,  2.],\n",
       "       [ 0.,  3.,  8.,  0.,  7.],\n",
       "       [ 8.,  9.,  3.,  2., 10.],\n",
       "       [ 6.,  0.,  5.,  3.,  7.]])"
      ]
     },
     "execution_count": 100,
     "metadata": {},
     "output_type": "execute_result"
    }
   ],
   "source": [
    "t1"
   ]
  },
  {
   "cell_type": "markdown",
   "metadata": {},
   "source": [
    "推荐算法之--矩阵分解(Matrix Factorization)\n",
    "https://blog.csdn.net/qq_36870202/article/details/123390202?spm=1001.2101.3001.6661.1&utm_medium=distribute.pc_relevant_t0.none-task-blog-2%7Edefault%7ECTRLIST%7Edefault-1-123390202-blog-84525643.pc_relevant_sortByAnswer&depth_1-utm_source=distribute.pc_relevant_t0.none-task-blog-2%7Edefault%7ECTRLIST%7Edefault-1-123390202-blog-84525643.pc_relevant_sortByAnswer&utm_relevant_index=1"
   ]
  },
  {
   "cell_type": "markdown",
   "metadata": {},
   "source": [
    "<href>https://blog.csdn.net/qq_36870202/article/details/123390202?spm=1001.2101.3001.6661.1&utm_medium=distribute.pc_relevant_t0.none-task-blog-2%7Edefault%7ECTRLIST%7Edefault-1-123390202-blog-84525643.pc_relevant_sortByAnswer&depth_1-utm_source=distribute.pc_relevant_t0.none-task-blog-2%7Edefault%7ECTRLIST%7Edefault-1-123390202-blog-84525643.pc_relevant_sortByAnswer&utm_relevant_index=1 <href/>"
   ]
  },
  {
   "cell_type": "code",
   "execution_count": 110,
   "metadata": {},
   "outputs": [],
   "source": [
    "from math import pow\n",
    "import numpy"
   ]
  },
  {
   "cell_type": "code",
   "execution_count": 115,
   "metadata": {},
   "outputs": [],
   "source": [
    "def matrix_factorzation(R, P, Q, K, N = 5000, step = 0.0002, beta = 0.02):\n",
    "    # N 是迭代次數，step為學習率，beta是正則化參數\n",
    "    Q = Q.T # 矩陣轉置\n",
    "    for n in range(N):\n",
    "        for m in range(len(R)):\n",
    "            for n in range(len(R[m])):\n",
    "                if R[m][n] > 0: # 對原始矩陣中有評分的項目計算lossfunc\n",
    "                    emn = R[m][n] - np.dot(P[m, :], Q[:,n]) #.dot(P,Q)表示矩陣乘法\n",
    "                    for k in range(K):\n",
    "                        P[m][k] = P[m][k] + step*(2*emn*Q[k][n] - beta * P[m][k])\n",
    "                        Q[k][n] = Q[k][n] + step*(2*emn*P[m][k] - beta * Q[k][n])\n",
    "        e = 0\n",
    "        for m in range(len(R)):\n",
    "            for n in range(len(R[m])):\n",
    "                if R[m][n] > 0:\n",
    "                    e = e+pow(R[m][n] - np.dot(P[m,:], Q[:,n]),2)\n",
    "                    for k in range(K):\n",
    "                        e = e+(beta/2) * (pow(P[m][k],2) + pow(Q[k][n],2))\n",
    "        if e < 0.001:\n",
    "            break\n",
    "    return P, Q.T\n",
    "            "
   ]
  },
  {
   "cell_type": "code",
   "execution_count": 116,
   "metadata": {},
   "outputs": [],
   "source": [
    "R = [[5,3,0,1],\n",
    "     [4,0,0,1],\n",
    "     [1,1,0,5],\n",
    "     [0,1,5,4]]"
   ]
  },
  {
   "cell_type": "code",
   "execution_count": 131,
   "metadata": {},
   "outputs": [],
   "source": [
    "R = np.array(R)\n",
    "K = 10\n",
    "P = np.random.rand(len(R), K)\n",
    "Q = np.random.rand(len(R[0]), K)\n"
   ]
  },
  {
   "cell_type": "code",
   "execution_count": 137,
   "metadata": {},
   "outputs": [
    {
     "name": "stdout",
     "output_type": "stream",
     "text": [
      "Wall time: 4.08 s\n"
     ]
    }
   ],
   "source": [
    "%%time\n",
    "p, q = matrix_factorzation(R, P, Q, K)"
   ]
  },
  {
   "cell_type": "code",
   "execution_count": 133,
   "metadata": {},
   "outputs": [
    {
     "data": {
      "text/plain": [
       "array([[4.98098836, 2.98117395, 3.34226551, 1.00297659],\n",
       "       [3.98434392, 1.40927965, 2.68520117, 1.00157301],\n",
       "       [1.00271252, 0.99421379, 4.18474791, 4.97073336],\n",
       "       [3.45080484, 1.00630655, 4.98560325, 3.98868165]])"
      ]
     },
     "execution_count": 133,
     "metadata": {},
     "output_type": "execute_result"
    }
   ],
   "source": [
    "np.dot(p,q.T)"
   ]
  },
  {
   "cell_type": "code",
   "execution_count": 134,
   "metadata": {},
   "outputs": [
    {
     "data": {
      "text/plain": [
       "array([[4.98098836, 2.98117395, 3.34226551, 1.00297659],\n",
       "       [3.98434392, 1.40927965, 2.68520117, 1.00157301],\n",
       "       [1.00271252, 0.99421379, 4.18474791, 4.97073336],\n",
       "       [3.45080484, 1.00630655, 4.98560325, 3.98868165]])"
      ]
     },
     "execution_count": 134,
     "metadata": {},
     "output_type": "execute_result"
    }
   ],
   "source": [
    "p @ q.T"
   ]
  },
  {
   "cell_type": "code",
   "execution_count": 135,
   "metadata": {},
   "outputs": [
    {
     "data": {
      "text/plain": [
       "array([[5, 3, 0, 1],\n",
       "       [4, 0, 0, 1],\n",
       "       [1, 1, 0, 5],\n",
       "       [0, 1, 5, 4]])"
      ]
     },
     "execution_count": 135,
     "metadata": {},
     "output_type": "execute_result"
    }
   ],
   "source": [
    "R"
   ]
  },
  {
   "cell_type": "code",
   "execution_count": null,
   "metadata": {},
   "outputs": [],
   "source": []
  }
 ],
 "metadata": {
  "kernelspec": {
   "display_name": "Python 3",
   "language": "python",
   "name": "python3"
  },
  "language_info": {
   "codemirror_mode": {
    "name": "ipython",
    "version": 3
   },
   "file_extension": ".py",
   "mimetype": "text/x-python",
   "name": "python",
   "nbconvert_exporter": "python",
   "pygments_lexer": "ipython3",
   "version": "3.7.7"
  }
 },
 "nbformat": 4,
 "nbformat_minor": 4
}
