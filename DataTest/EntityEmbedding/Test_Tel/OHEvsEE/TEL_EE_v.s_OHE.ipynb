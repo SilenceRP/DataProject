{
 "cells": [
  {
   "cell_type": "markdown",
   "metadata": {},
   "source": [
    "# TEL_OHE_v.s_EE"
   ]
  },
  {
   "cell_type": "code",
   "execution_count": 87,
   "metadata": {},
   "outputs": [],
   "source": [
    "# 相關套件載入\n",
    "import pandas as pd\n",
    "import numpy as np\n",
    "import random as rn\n",
    "import pydotplus # 繪製tensflow圖\n",
    "import graphviz # 繪製tensflow圖\n",
    "\n",
    "\n",
    "from tensorflow.keras.layers import Embedding, Dropout, Input, Dense, Reshape, Concatenate\n",
    "from tensorflow.keras.models import Sequential\n",
    "from tensorflow.keras import Model"
   ]
  },
  {
   "cell_type": "code",
   "execution_count": 19,
   "metadata": {},
   "outputs": [],
   "source": [
    "# 讀取資料\n",
    "tel = pd.read_excel('C:/Users/hsu/Desktop/data/ess_data/OHEDATA.xlsx')\n",
    "df = tel.copy()"
   ]
  },
  {
   "cell_type": "code",
   "execution_count": 20,
   "metadata": {},
   "outputs": [],
   "source": [
    "# 'Account Length'欄位不需動用予以刪除\n",
    "df = df.drop('Account Length', axis = 1)"
   ]
  },
  {
   "cell_type": "code",
   "execution_count": 21,
   "metadata": {},
   "outputs": [],
   "source": [
    "# 將原先特徵資料轉為數值代表資料\n",
    "di = dict(zip(df['State'].value_counts().index,range(0,51)))\n",
    "for i, j in di.items():\n",
    "    df['State'] = df['State'].replace({str(i):j})\n",
    "\n",
    "\n",
    "df['Area Code'] = df['Area Code'].replace({415:0, 510:1, 408:2})\n",
    "df['Intl Plan'] = df['Intl Plan'].replace({'no':0,'yes':1})\n",
    "df['VMail Plan'] = df['VMail Plan'].replace({'no':0, 'yes':1})"
   ]
  },
  {
   "cell_type": "code",
   "execution_count": 22,
   "metadata": {},
   "outputs": [],
   "source": [
    "dfx = df.iloc[:,:-1]\n",
    "dfy = df[['churn']]"
   ]
  },
  {
   "cell_type": "code",
   "execution_count": 23,
   "metadata": {},
   "outputs": [],
   "source": [
    "# 將特徵與目標變數轉為EE置入格式\n",
    "tx = []\n",
    "for i in dfx.columns:\n",
    "    f = np.array(dfx[i]).reshape(3333,1)\n",
    "    tx.append(f)\n",
    "\n",
    "ty = np.array([i for i in dfy['churn']]).reshape(3333,1)    "
   ]
  },
  {
   "cell_type": "markdown",
   "metadata": {},
   "source": [
    "# 撰寫EntityEmbedding函數"
   ]
  },
  {
   "cell_type": "code",
   "execution_count": 24,
   "metadata": {},
   "outputs": [],
   "source": [
    "# 撰寫EE運作函數\n",
    "sample_num = 3333 # 觀察值為32\n",
    "cate_feature_num = 4 # 類別特徵 4\n",
    "contious_feature_num = 14 # 數值特徵 6\n",
    "cate_embedding_dimension = {'0':8, '1':3, '2':2, '3':2} # EE轉換後特徵\n",
    "\n",
    "\n",
    "def build_embedding_network():\n",
    " \n",
    "    '''\n",
    "    通常寫法會將dataframe資料調整，將類別變數放置dataframe前面位置\n",
    "    ''' \n",
    "    \n",
    "    inputs = []\n",
    "    embeddings = []\n",
    "    \n",
    "    ### 所有dataframe的特徵都需寫進行E.E中，一個資料集如有3個欄位(2個類別特徵，1個數值特徵)\n",
    "    ### 就必須寫3次。通常為了後續容易了解，我們先將類別的向量嵌入寫在前面，\n",
    "    ### 而且需增加Embedding嵌入資料，再用Reshape拉直。\n",
    "    ### 數值資料只需增加Dense\n",
    "    \n",
    "    input_cate_feature_1 = Input(shape=(1,))\n",
    "    embedding = Embedding(51, 8, input_length=1, name = 'state')(input_cate_feature_1) # name可以命名該層名稱\n",
    "    # embedding後是10*1*3，為了後續计算方便，因此使用Reshape轉為10*3(易使後續concat)\n",
    "    embedding = Reshape(target_shape=(8,))(embedding)\n",
    "    inputs.append(input_cate_feature_1)\n",
    "    embeddings.append(embedding)\n",
    "    \n",
    "    input_cate_feature_2 = Input(shape=(1,))\n",
    "    embedding = Embedding(3, 3, input_length=1, name = 'area_code')(input_cate_feature_2)\n",
    "    embedding = Reshape(target_shape=(3,))(embedding)\n",
    "    inputs.append(input_cate_feature_2)\n",
    "    embeddings.append(embedding)\n",
    "    \n",
    "    input_cate_feature_3 = Input(shape=(1,))\n",
    "    embedding = Embedding(2, 2, input_length=1, name = 'international_plan')(input_cate_feature_3)\n",
    "    embedding = Reshape(target_shape=(2,))(embedding)\n",
    "    inputs.append(input_cate_feature_3)\n",
    "    embeddings.append(embedding)\n",
    "    \n",
    "    input_cate_feature_4 = Input(shape=(1,))\n",
    "    embedding = Embedding(2, 2, input_length=1, name = 'voice_mail_plan')(input_cate_feature_4)\n",
    "    embedding = Reshape(target_shape=(2,))(embedding)\n",
    "    inputs.append(input_cate_feature_4)\n",
    "    embeddings.append(embedding)\n",
    "    \n",
    "    input_numeric_1 = Input(shape=(1,))\n",
    "    embedding_numeric = Dense(1)(input_numeric_1) \n",
    "    inputs.append(input_numeric_1)\n",
    "    embeddings.append(embedding_numeric)\n",
    "    \n",
    "    input_numeric_2 = Input(shape=(1,))\n",
    "    embedding_numeric = Dense(1)(input_numeric_2) \n",
    "    inputs.append(input_numeric_2)\n",
    "    embeddings.append(embedding_numeric)\n",
    "    \n",
    "    input_numeric_3 = Input(shape=(1,))\n",
    "    embedding_numeric = Dense(1)(input_numeric_3) \n",
    "    inputs.append(input_numeric_3)\n",
    "    embeddings.append(embedding_numeric)\n",
    "    \n",
    "    input_numeric_4 = Input(shape=(1,))\n",
    "    embedding_numeric = Dense(1)(input_numeric_4) \n",
    "    inputs.append(input_numeric_4)\n",
    "    embeddings.append(embedding_numeric)\n",
    "    \n",
    "    \n",
    "    input_numeric_5 = Input(shape=(1,))\n",
    "    embedding_numeric = Dense(1)(input_numeric_5) \n",
    "    inputs.append(input_numeric_5)\n",
    "    embeddings.append(embedding_numeric)\n",
    "    \n",
    "    input_numeric_6 = Input(shape=(1,))\n",
    "    embedding_numeric = Dense(1)(input_numeric_6) \n",
    "    inputs.append(input_numeric_6)\n",
    "    embeddings.append(embedding_numeric)\n",
    "    \n",
    "    input_numeric_7 = Input(shape=(1,))\n",
    "    embedding_numeric = Dense(1)(input_numeric_7) \n",
    "    inputs.append(input_numeric_7)\n",
    "    embeddings.append(embedding_numeric)\n",
    "    \n",
    "    input_numeric_8 = Input(shape=(1,))\n",
    "    embedding_numeric = Dense(1)(input_numeric_8) \n",
    "    inputs.append(input_numeric_8)\n",
    "    embeddings.append(embedding_numeric)\n",
    "    \n",
    "    input_numeric_9 = Input(shape=(1,))\n",
    "    embedding_numeric = Dense(1)(input_numeric_9) \n",
    "    inputs.append(input_numeric_9)\n",
    "    embeddings.append(embedding_numeric)\n",
    "    \n",
    "    input_numeric_10 = Input(shape=(1,))\n",
    "    embedding_numeric = Dense(1)(input_numeric_10) \n",
    "    inputs.append(input_numeric_10)\n",
    "    embeddings.append(embedding_numeric)\n",
    "    \n",
    "    input_numeric_11 = Input(shape=(1,))\n",
    "    embedding_numeric = Dense(1)(input_numeric_11) \n",
    "    inputs.append(input_numeric_11)\n",
    "    embeddings.append(embedding_numeric)\n",
    "    \n",
    "    input_numeric_12 = Input(shape=(1,))\n",
    "    embedding_numeric = Dense(1)(input_numeric_12) \n",
    "    inputs.append(input_numeric_12)\n",
    "    embeddings.append(embedding_numeric)\n",
    "    \n",
    "    input_numeric_13 = Input(shape=(1,))\n",
    "    embedding_numeric = Dense(1)(input_numeric_13) \n",
    "    inputs.append(input_numeric_13)\n",
    "    embeddings.append(embedding_numeric)\n",
    "    \n",
    "    input_numeric_14 = Input(shape=(1,))\n",
    "    embedding_numeric = Dense(1)(input_numeric_14) \n",
    "    inputs.append(input_numeric_14)\n",
    "    embeddings.append(embedding_numeric)   \n",
    "       \n",
    "    # 此一過程，再於將所有嵌入後的類別資料以及數值資料(不需調整)，拉成一條\n",
    "    x = Concatenate()(embeddings)\n",
    "    \n",
    "    # 經過二層Dense\n",
    "    x = Dense(50, activation='tanh')(x)\n",
    "    #x = Dropout(.15)(x)\n",
    "    x = Dense(30, activation='tanh')(x)\n",
    "    #x = Dropout(.15)(x)\n",
    "    \n",
    "    # 最後進行output輸出\n",
    "    output = Dense(1, activation='sigmoid')(x)\n",
    "    \n",
    "    model = Model(inputs, output)\n",
    " \n",
    "    model.compile(loss='binary_crossentropy', optimizer='adam', metrics = ['accuracy'])\n",
    "    \n",
    "    return model"
   ]
  },
  {
   "cell_type": "code",
   "execution_count": 25,
   "metadata": {},
   "outputs": [],
   "source": [
    "# 建立EE模型\n",
    "NN = build_embedding_network()"
   ]
  },
  {
   "cell_type": "code",
   "execution_count": 32,
   "metadata": {},
   "outputs": [
    {
     "name": "stdout",
     "output_type": "stream",
     "text": [
      "Train on 3333 samples\n",
      "Epoch 1/100\n",
      "3333/3333 [==============================] - 0s 35us/sample - loss: 0.1252 - accuracy: 0.9598\n",
      "Epoch 2/100\n",
      "3333/3333 [==============================] - 0s 40us/sample - loss: 0.1173 - accuracy: 0.9583\n",
      "Epoch 3/100\n",
      "3333/3333 [==============================] - 0s 35us/sample - loss: 0.1165 - accuracy: 0.9589\n",
      "Epoch 4/100\n",
      "3333/3333 [==============================] - 0s 36us/sample - loss: 0.0998 - accuracy: 0.9649\n",
      "Epoch 5/100\n",
      "3333/3333 [==============================] - 0s 31us/sample - loss: 0.0793 - accuracy: 0.9703\n",
      "Epoch 6/100\n",
      "3333/3333 [==============================] - 0s 35us/sample - loss: 0.0737 - accuracy: 0.9751\n",
      "Epoch 7/100\n",
      "3333/3333 [==============================] - 0s 35us/sample - loss: 0.0723 - accuracy: 0.9748\n",
      "Epoch 8/100\n",
      "3333/3333 [==============================] - 0s 37us/sample - loss: 0.0702 - accuracy: 0.9769\n",
      "Epoch 9/100\n",
      "3333/3333 [==============================] - 0s 41us/sample - loss: 0.0695 - accuracy: 0.9769\n",
      "Epoch 10/100\n",
      "3333/3333 [==============================] - 0s 34us/sample - loss: 0.0705 - accuracy: 0.9763\n",
      "Epoch 11/100\n",
      "3333/3333 [==============================] - 0s 45us/sample - loss: 0.0712 - accuracy: 0.9757\n",
      "Epoch 12/100\n",
      "3333/3333 [==============================] - 0s 34us/sample - loss: 0.0714 - accuracy: 0.9757\n",
      "Epoch 13/100\n",
      "3333/3333 [==============================] - 0s 32us/sample - loss: 0.0689 - accuracy: 0.9769\n",
      "Epoch 14/100\n",
      "3333/3333 [==============================] - 0s 34us/sample - loss: 0.0723 - accuracy: 0.9748\n",
      "Epoch 15/100\n",
      "3333/3333 [==============================] - 0s 34us/sample - loss: 0.0927 - accuracy: 0.9664\n",
      "Epoch 16/100\n",
      "3333/3333 [==============================] - 0s 36us/sample - loss: 0.0953 - accuracy: 0.9661\n",
      "Epoch 17/100\n",
      "3333/3333 [==============================] - 0s 35us/sample - loss: 0.0824 - accuracy: 0.9706\n",
      "Epoch 18/100\n",
      "3333/3333 [==============================] - 0s 36us/sample - loss: 0.0719 - accuracy: 0.9751\n",
      "Epoch 19/100\n",
      "3333/3333 [==============================] - 0s 37us/sample - loss: 0.0700 - accuracy: 0.9775\n",
      "Epoch 20/100\n",
      "3333/3333 [==============================] - 0s 44us/sample - loss: 0.0714 - accuracy: 0.9766\n",
      "Epoch 21/100\n",
      "3333/3333 [==============================] - 0s 35us/sample - loss: 0.0707 - accuracy: 0.9763\n",
      "Epoch 22/100\n",
      "3333/3333 [==============================] - 0s 38us/sample - loss: 0.0684 - accuracy: 0.9766\n",
      "Epoch 23/100\n",
      "3333/3333 [==============================] - 0s 40us/sample - loss: 0.0708 - accuracy: 0.9745\n",
      "Epoch 24/100\n",
      "3333/3333 [==============================] - 0s 44us/sample - loss: 0.0703 - accuracy: 0.9754\n",
      "Epoch 25/100\n",
      "3333/3333 [==============================] - 0s 43us/sample - loss: 0.0686 - accuracy: 0.9757\n",
      "Epoch 26/100\n",
      "3333/3333 [==============================] - 0s 43us/sample - loss: 0.0681 - accuracy: 0.9769\n",
      "Epoch 27/100\n",
      "3333/3333 [==============================] - 0s 55us/sample - loss: 0.0671 - accuracy: 0.9769\n",
      "Epoch 28/100\n",
      "3333/3333 [==============================] - 0s 43us/sample - loss: 0.0668 - accuracy: 0.9766\n",
      "Epoch 29/100\n",
      "3333/3333 [==============================] - 0s 45us/sample - loss: 0.0682 - accuracy: 0.9784\n",
      "Epoch 30/100\n",
      "3333/3333 [==============================] - 0s 42us/sample - loss: 0.0711 - accuracy: 0.9748\n",
      "Epoch 31/100\n",
      "3333/3333 [==============================] - 0s 42us/sample - loss: 0.0792 - accuracy: 0.9697\n",
      "Epoch 32/100\n",
      "3333/3333 [==============================] - 0s 43us/sample - loss: 0.0782 - accuracy: 0.9724\n",
      "Epoch 33/100\n",
      "3333/3333 [==============================] - 0s 41us/sample - loss: 0.0744 - accuracy: 0.9727\n",
      "Epoch 34/100\n",
      "3333/3333 [==============================] - 0s 48us/sample - loss: 0.0904 - accuracy: 0.9658\n",
      "Epoch 35/100\n",
      "3333/3333 [==============================] - 0s 47us/sample - loss: 0.1134 - accuracy: 0.9574\n",
      "Epoch 36/100\n",
      "3333/3333 [==============================] - 0s 42us/sample - loss: 0.0950 - accuracy: 0.9661\n",
      "Epoch 37/100\n",
      "3333/3333 [==============================] - 0s 42us/sample - loss: 0.1213 - accuracy: 0.9571\n",
      "Epoch 38/100\n",
      "3333/3333 [==============================] - 0s 42us/sample - loss: 0.1256 - accuracy: 0.9523\n",
      "Epoch 39/100\n",
      "3333/3333 [==============================] - 0s 43us/sample - loss: 0.1609 - accuracy: 0.9409\n",
      "Epoch 40/100\n",
      "3333/3333 [==============================] - 0s 45us/sample - loss: 0.1119 - accuracy: 0.9580\n",
      "Epoch 41/100\n",
      "3333/3333 [==============================] - 0s 43us/sample - loss: 0.0733 - accuracy: 0.9730\n",
      "Epoch 42/100\n",
      "3333/3333 [==============================] - 0s 50us/sample - loss: 0.0714 - accuracy: 0.9760\n",
      "Epoch 43/100\n",
      "3333/3333 [==============================] - 0s 42us/sample - loss: 0.0696 - accuracy: 0.9757\n",
      "Epoch 44/100\n",
      "3333/3333 [==============================] - 0s 44us/sample - loss: 0.0698 - accuracy: 0.9748\n",
      "Epoch 45/100\n",
      "3333/3333 [==============================] - 0s 43us/sample - loss: 0.0654 - accuracy: 0.9784\n",
      "Epoch 46/100\n",
      "3333/3333 [==============================] - 0s 43us/sample - loss: 0.0677 - accuracy: 0.9748\n",
      "Epoch 47/100\n",
      "3333/3333 [==============================] - 0s 43us/sample - loss: 0.0669 - accuracy: 0.9781\n",
      "Epoch 48/100\n",
      "3333/3333 [==============================] - 0s 44us/sample - loss: 0.0656 - accuracy: 0.9787\n",
      "Epoch 49/100\n",
      "3333/3333 [==============================] - 0s 53us/sample - loss: 0.0679 - accuracy: 0.9754\n",
      "Epoch 50/100\n",
      "3333/3333 [==============================] - 0s 43us/sample - loss: 0.0658 - accuracy: 0.9760s - loss: 0.0701 - accuracy: 0.\n",
      "Epoch 51/100\n",
      "3333/3333 [==============================] - 0s 44us/sample - loss: 0.0663 - accuracy: 0.9778\n",
      "Epoch 52/100\n",
      "3333/3333 [==============================] - 0s 44us/sample - loss: 0.0642 - accuracy: 0.9787\n",
      "Epoch 53/100\n",
      "3333/3333 [==============================] - 0s 43us/sample - loss: 0.0677 - accuracy: 0.9757\n",
      "Epoch 54/100\n",
      "3333/3333 [==============================] - 0s 43us/sample - loss: 0.0677 - accuracy: 0.9760\n",
      "Epoch 55/100\n",
      "3333/3333 [==============================] - 0s 39us/sample - loss: 0.0655 - accuracy: 0.9784\n",
      "Epoch 56/100\n",
      "3333/3333 [==============================] - 0s 44us/sample - loss: 0.0699 - accuracy: 0.9745\n",
      "Epoch 57/100\n",
      "3333/3333 [==============================] - 0s 47us/sample - loss: 0.0677 - accuracy: 0.9772\n",
      "Epoch 58/100\n",
      "3333/3333 [==============================] - 0s 40us/sample - loss: 0.0649 - accuracy: 0.9769\n",
      "Epoch 59/100\n",
      "3333/3333 [==============================] - 0s 47us/sample - loss: 0.0646 - accuracy: 0.9784\n",
      "Epoch 60/100\n",
      "3333/3333 [==============================] - 0s 59us/sample - loss: 0.0658 - accuracy: 0.9772\n",
      "Epoch 61/100\n",
      "3333/3333 [==============================] - 0s 40us/sample - loss: 0.0655 - accuracy: 0.9778\n",
      "Epoch 62/100\n",
      "3333/3333 [==============================] - 0s 38us/sample - loss: 0.0747 - accuracy: 0.9742\n",
      "Epoch 63/100\n",
      "3333/3333 [==============================] - 0s 42us/sample - loss: 0.0777 - accuracy: 0.9718\n",
      "Epoch 64/100\n",
      "3333/3333 [==============================] - 0s 48us/sample - loss: 0.0849 - accuracy: 0.9688\n",
      "Epoch 65/100\n",
      "3333/3333 [==============================] - 0s 41us/sample - loss: 0.0757 - accuracy: 0.9730\n",
      "Epoch 66/100\n",
      "3333/3333 [==============================] - 0s 39us/sample - loss: 0.0663 - accuracy: 0.9778\n",
      "Epoch 67/100\n",
      "3333/3333 [==============================] - 0s 43us/sample - loss: 0.0766 - accuracy: 0.9712\n",
      "Epoch 68/100\n",
      "3333/3333 [==============================] - 0s 41us/sample - loss: 0.0878 - accuracy: 0.9664\n",
      "Epoch 69/100\n",
      "3333/3333 [==============================] - 0s 40us/sample - loss: 0.1457 - accuracy: 0.9400\n",
      "Epoch 70/100\n",
      "3333/3333 [==============================] - 0s 45us/sample - loss: 0.1195 - accuracy: 0.9514\n",
      "Epoch 71/100\n",
      "3333/3333 [==============================] - 0s 54us/sample - loss: 0.0852 - accuracy: 0.9676\n",
      "Epoch 72/100\n",
      "3333/3333 [==============================] - 0s 42us/sample - loss: 0.0928 - accuracy: 0.9661\n",
      "Epoch 73/100\n",
      "3333/3333 [==============================] - 0s 44us/sample - loss: 0.0975 - accuracy: 0.9643\n",
      "Epoch 74/100\n",
      "3333/3333 [==============================] - 0s 41us/sample - loss: 0.0697 - accuracy: 0.9751\n",
      "Epoch 75/100\n",
      "3333/3333 [==============================] - 0s 45us/sample - loss: 0.0666 - accuracy: 0.9760\n",
      "Epoch 76/100\n",
      "3333/3333 [==============================] - 0s 41us/sample - loss: 0.0678 - accuracy: 0.9751\n",
      "Epoch 77/100\n"
     ]
    },
    {
     "name": "stdout",
     "output_type": "stream",
     "text": [
      "3333/3333 [==============================] - 0s 39us/sample - loss: 0.0637 - accuracy: 0.9781\n",
      "Epoch 78/100\n",
      "3333/3333 [==============================] - 0s 37us/sample - loss: 0.0635 - accuracy: 0.9790\n",
      "Epoch 79/100\n",
      "3333/3333 [==============================] - 0s 49us/sample - loss: 0.0628 - accuracy: 0.9781\n",
      "Epoch 80/100\n",
      "3333/3333 [==============================] - 0s 35us/sample - loss: 0.0620 - accuracy: 0.9784\n",
      "Epoch 81/100\n",
      "3333/3333 [==============================] - 0s 36us/sample - loss: 0.0621 - accuracy: 0.9781\n",
      "Epoch 82/100\n",
      "3333/3333 [==============================] - 0s 36us/sample - loss: 0.0634 - accuracy: 0.9784\n",
      "Epoch 83/100\n",
      "3333/3333 [==============================] - 0s 37us/sample - loss: 0.0633 - accuracy: 0.9790\n",
      "Epoch 84/100\n",
      "3333/3333 [==============================] - 0s 37us/sample - loss: 0.0655 - accuracy: 0.9772\n",
      "Epoch 85/100\n",
      "3333/3333 [==============================] - 0s 36us/sample - loss: 0.0631 - accuracy: 0.9757\n",
      "Epoch 86/100\n",
      "3333/3333 [==============================] - 0s 36us/sample - loss: 0.0621 - accuracy: 0.9781\n",
      "Epoch 87/100\n",
      "3333/3333 [==============================] - 0s 49us/sample - loss: 0.0610 - accuracy: 0.9787\n",
      "Epoch 88/100\n",
      "3333/3333 [==============================] - 0s 33us/sample - loss: 0.0624 - accuracy: 0.9775\n",
      "Epoch 89/100\n",
      "3333/3333 [==============================] - 0s 34us/sample - loss: 0.0624 - accuracy: 0.9793\n",
      "Epoch 90/100\n",
      "3333/3333 [==============================] - 0s 36us/sample - loss: 0.0628 - accuracy: 0.9778\n",
      "Epoch 91/100\n",
      "3333/3333 [==============================] - 0s 37us/sample - loss: 0.0624 - accuracy: 0.9799\n",
      "Epoch 92/100\n",
      "3333/3333 [==============================] - 0s 37us/sample - loss: 0.0618 - accuracy: 0.9790\n",
      "Epoch 93/100\n",
      "3333/3333 [==============================] - 0s 38us/sample - loss: 0.0638 - accuracy: 0.9757\n",
      "Epoch 94/100\n",
      "3333/3333 [==============================] - 0s 37us/sample - loss: 0.0708 - accuracy: 0.9736\n",
      "Epoch 95/100\n",
      "3333/3333 [==============================] - 0s 39us/sample - loss: 0.0655 - accuracy: 0.9763\n",
      "Epoch 96/100\n",
      "3333/3333 [==============================] - 0s 50us/sample - loss: 0.0669 - accuracy: 0.9745\n",
      "Epoch 97/100\n",
      "3333/3333 [==============================] - 0s 35us/sample - loss: 0.0786 - accuracy: 0.9694\n",
      "Epoch 98/100\n",
      "3333/3333 [==============================] - 0s 34us/sample - loss: 0.0755 - accuracy: 0.9703\n",
      "Epoch 99/100\n",
      "3333/3333 [==============================] - 0s 33us/sample - loss: 0.0756 - accuracy: 0.9730\n",
      "Epoch 100/100\n",
      "3333/3333 [==============================] - 0s 34us/sample - loss: 0.0964 - accuracy: 0.9619\n"
     ]
    },
    {
     "data": {
      "text/plain": [
       "<tensorflow.python.keras.callbacks.History at 0x1f9c9ae5a08>"
      ]
     },
     "execution_count": 32,
     "metadata": {},
     "output_type": "execute_result"
    }
   ],
   "source": [
    "# 訓練EE模型(accuracy儘量提升至0.95以上)\n",
    "NN.fit(tx, ty, epochs=100, batch_size=100, verbose=1)"
   ]
  },
  {
   "cell_type": "code",
   "execution_count": 33,
   "metadata": {},
   "outputs": [
    {
     "data": {
      "image/png": "[encoded data removed]",
      "text/plain": [
       "<IPython.core.display.Image object>"
      ]
     },
     "execution_count": 33,
     "metadata": {},
     "output_type": "execute_result"
    }
   ],
   "source": [
    "# 繪出tensflow模型，需要GraphViz以及pydotplus套件\n",
    "\n",
    "import graphviz\n",
    "import pydotplus\n",
    "\n",
    "from tensorflow.keras.utils import plot_model\n",
    "plot_model(NN, to_file='NN.png', show_layer_names=True)\n",
    "# plot_model(NN, to_file='NN.png', show_shapes=True, show_layer_names=True) 完整寫法"
   ]
  },
  {
   "cell_type": "code",
   "execution_count": 34,
   "metadata": {},
   "outputs": [],
   "source": [
    "model = NN  # 將訓練完成的模型存成物件\n",
    "for i in range(cate_feature_num):\n",
    "    # 由NN.png圖可知，如果把類別特徵放置在前、連續特徵放於後，cate_feature_num+i就是所有embedding層\n",
    "    layer_name = NN.get_config()['layers'][cate_feature_num+i]['name']\n",
    " \n",
    "    intermediate_layer_model = Model(inputs=NN.input,\n",
    "                                     outputs=model.get_layer(layer_name).output)\n",
    "    \n",
    "    # numpy.array\n",
    "    intermediate_output = intermediate_layer_model.predict(tx)\n",
    "    \n",
    "    intermediate_output.resize([3333,cate_embedding_dimension[str(i)]])\n",
    "    \n",
    "    if i == 0:\n",
    "        X_embedding_trans = intermediate_output\n",
    "    else:\n",
    "        X_embedding_trans = np.hstack((X_embedding_trans,intermediate_output)) #水平拼接\n",
    "    \n",
    "\n",
    "# 取出原來的數值特徵\n",
    "for i in range(contious_feature_num):\n",
    "    if i == 0:\n",
    "        X_contious = tx[cate_feature_num+i]\n",
    "    else:\n",
    "        X_contious = np.hstack((X_contious,tx[cate_feature_num+i]))"
   ]
  },
  {
   "cell_type": "code",
   "execution_count": 35,
   "metadata": {},
   "outputs": [],
   "source": [
    "X_trans = np.hstack((X_embedding_trans,X_contious))"
   ]
  },
  {
   "cell_type": "code",
   "execution_count": 36,
   "metadata": {},
   "outputs": [],
   "source": [
    "dfee = pd.DataFrame(X_trans)\n",
    "EETEL = pd.concat([dfee, df[['churn']]], axis = 1)"
   ]
  },
  {
   "cell_type": "code",
   "execution_count": null,
   "metadata": {},
   "outputs": [],
   "source": [
    "EETEL.to_excel('C:/Users/hsu/Desktop/EETEL.xlsx', index=False)"
   ]
  },
  {
   "cell_type": "markdown",
   "metadata": {},
   "source": [
    "# 建立預測模型_EE"
   ]
  },
  {
   "cell_type": "code",
   "execution_count": 94,
   "metadata": {},
   "outputs": [],
   "source": [
    "# 載入ML相關套件\n",
    "import numpy as np\n",
    "from sklearn.model_selection import train_test_split\n",
    "from sklearn.preprocessing import StandardScaler\n",
    "from sklearn.metrics import confusion_matrix, accuracy_score, f1_score\n",
    "from sklearn.ensemble import RandomForestClassifier\n",
    "from sklearn.svm import SVC\n",
    "from sklearn.neural_network import MLPClassifier"
   ]
  },
  {
   "cell_type": "code",
   "execution_count": 39,
   "metadata": {},
   "outputs": [],
   "source": [
    "# 資料切分(訓練、測試)\n",
    "X = EETEL.drop('churn', axis = 1)\n",
    "y = EETEL['churn']"
   ]
  },
  {
   "cell_type": "code",
   "execution_count": 40,
   "metadata": {},
   "outputs": [],
   "source": [
    "# 資料標準化\n",
    "sc = StandardScaler()\n",
    "X = pd.DataFrame(sc.fit_transform(X))\n",
    "X_train, X_test, y_train, y_test = train_test_split(X, y, test_size = 0.2, stratify=y)"
   ]
  },
  {
   "cell_type": "code",
   "execution_count": 41,
   "metadata": {},
   "outputs": [],
   "source": [
    "# 隨機森林演算法\n",
    "rfclf = RandomForestClassifier(n_estimators=100) # 建模\n",
    "rfclf.fit(X_train, y_train) # 訓練\n",
    "y_predrf = rfclf.predict(X_test) # 預測"
   ]
  },
  {
   "cell_type": "code",
   "execution_count": 42,
   "metadata": {},
   "outputs": [
    {
     "name": "stdout",
     "output_type": "stream",
     "text": [
      "[[568   2]\n",
      " [ 30  67]]\n",
      "0.8072289156626505\n",
      "0.952023988005997\n"
     ]
    }
   ],
   "source": [
    "# RF-各項指標輸出\n",
    "print(confusion_matrix(y_test, y_predrf))\n",
    "print(f1_score(y_test, y_predrf))\n",
    "print(accuracy_score(y_test, y_predrf))"
   ]
  },
  {
   "cell_type": "code",
   "execution_count": 43,
   "metadata": {},
   "outputs": [],
   "source": [
    "# SVM演算法\n",
    "svmclf = SVC(kernel='rbf') # 建模\n",
    "svmclf.fit(X_train ,y_train) # 訓練\n",
    "y_predsvm = svmclf.predict(X_test) # 預測"
   ]
  },
  {
   "cell_type": "code",
   "execution_count": 44,
   "metadata": {},
   "outputs": [
    {
     "name": "stdout",
     "output_type": "stream",
     "text": [
      "[[567   3]\n",
      " [ 60  37]]\n",
      "0.5401459854014599\n",
      "0.9055472263868066\n"
     ]
    }
   ],
   "source": [
    "# SVM-各項指標輸出\n",
    "print(confusion_matrix(y_test, y_predsvm))\n",
    "print(f1_score(y_test, y_predsvm))\n",
    "print(accuracy_score(y_test, y_predsvm))"
   ]
  },
  {
   "cell_type": "code",
   "execution_count": 46,
   "metadata": {},
   "outputs": [
    {
     "name": "stderr",
     "output_type": "stream",
     "text": [
      "C:\\Anaconda3\\envs\\Tfpython\\lib\\site-packages\\sklearn\\neural_network\\_multilayer_perceptron.py:585: ConvergenceWarning: Stochastic Optimizer: Maximum iterations (200) reached and the optimization hasn't converged yet.\n",
      "  % self.max_iter, ConvergenceWarning)\n"
     ]
    }
   ],
   "source": [
    "# MLP演算法\n",
    "mlpclf = MLPClassifier() # 建模\n",
    "mlpclf.fit(X_train, y_train) # 訓練\n",
    "y_predmlp = mlpclf.predict(X_test) # 預測"
   ]
  },
  {
   "cell_type": "code",
   "execution_count": 47,
   "metadata": {},
   "outputs": [
    {
     "name": "stdout",
     "output_type": "stream",
     "text": [
      "[[542  28]\n",
      " [ 34  63]]\n",
      "0.6702127659574467\n",
      "0.9070464767616192\n"
     ]
    }
   ],
   "source": [
    "# MLP-各項指標輸出\n",
    "print(confusion_matrix(y_test, y_predmlp))\n",
    "print(f1_score(y_test, y_predmlp))\n",
    "print(accuracy_score(y_test, y_predmlp))"
   ]
  },
  {
   "cell_type": "code",
   "execution_count": 48,
   "metadata": {},
   "outputs": [],
   "source": [
    "# DL深度學習\n",
    "from tensorflow.keras.models import Sequential\n",
    "from tensorflow.keras.layers import Dense"
   ]
  },
  {
   "cell_type": "code",
   "execution_count": 49,
   "metadata": {},
   "outputs": [],
   "source": [
    "# 建模\n",
    "model = Sequential()\n",
    "model.add(Dense(units = 10, activation='tanh', input_dim=29))\n",
    "model.add(Dense(units = 10, activation='tanh'))\n",
    "model.add(Dense(units = 2, activation='softmax'))"
   ]
  },
  {
   "cell_type": "code",
   "execution_count": 50,
   "metadata": {},
   "outputs": [],
   "source": [
    "# 模型設定\n",
    "from tensorflow.keras.losses import SparseCategoricalCrossentropy\n",
    "lossS = SparseCategoricalCrossentropy(from_logits=True)\n",
    "\n",
    "model.compile('adam',\n",
    "              loss = lossS,\n",
    "              metrics = ['accuracy'])"
   ]
  },
  {
   "cell_type": "code",
   "execution_count": 53,
   "metadata": {},
   "outputs": [
    {
     "name": "stdout",
     "output_type": "stream",
     "text": [
      "WARNING:tensorflow:Falling back from v2 loop because of error: Failed to find data adapter that can handle input: <class 'pandas.core.frame.DataFrame'>, <class 'NoneType'>\n",
      "Train on 2666 samples\n",
      "Epoch 1/50\n",
      "2666/2666 [==============================] - 0s 13us/sample - loss: 0.3767 - accuracy: 0.9400\n",
      "Epoch 2/50\n",
      "2666/2666 [==============================] - 0s 13us/sample - loss: 0.3765 - accuracy: 0.9404\n",
      "Epoch 3/50\n",
      "2666/2666 [==============================] - 0s 23us/sample - loss: 0.3764 - accuracy: 0.9396\n",
      "Epoch 4/50\n",
      "2666/2666 [==============================] - 0s 15us/sample - loss: 0.3763 - accuracy: 0.9404\n",
      "Epoch 5/50\n",
      "2666/2666 [==============================] - 0s 24us/sample - loss: 0.3762 - accuracy: 0.9400\n",
      "Epoch 6/50\n",
      "2666/2666 [==============================] - 0s 14us/sample - loss: 0.3760 - accuracy: 0.9407\n",
      "Epoch 7/50\n",
      "2666/2666 [==============================] - 0s 12us/sample - loss: 0.3759 - accuracy: 0.9404\n",
      "Epoch 8/50\n",
      "2666/2666 [==============================] - 0s 15us/sample - loss: 0.3759 - accuracy: 0.9407\n",
      "Epoch 9/50\n",
      "2666/2666 [==============================] - 0s 15us/sample - loss: 0.3757 - accuracy: 0.9407\n",
      "Epoch 10/50\n",
      "2666/2666 [==============================] - 0s 15us/sample - loss: 0.3757 - accuracy: 0.9404\n",
      "Epoch 11/50\n",
      "2666/2666 [==============================] - 0s 16us/sample - loss: 0.3756 - accuracy: 0.9411\n",
      "Epoch 12/50\n",
      "2666/2666 [==============================] - 0s 14us/sample - loss: 0.3755 - accuracy: 0.9407\n",
      "Epoch 13/50\n",
      "2666/2666 [==============================] - 0s 12us/sample - loss: 0.3753 - accuracy: 0.9407\n",
      "Epoch 14/50\n",
      "2666/2666 [==============================] - 0s 15us/sample - loss: 0.3751 - accuracy: 0.9407\n",
      "Epoch 15/50\n",
      "2666/2666 [==============================] - 0s 15us/sample - loss: 0.3750 - accuracy: 0.9407\n",
      "Epoch 16/50\n",
      "2666/2666 [==============================] - 0s 14us/sample - loss: 0.3750 - accuracy: 0.9407\n",
      "Epoch 17/50\n",
      "2666/2666 [==============================] - 0s 12us/sample - loss: 0.3749 - accuracy: 0.9407\n",
      "Epoch 18/50\n",
      "2666/2666 [==============================] - 0s 15us/sample - loss: 0.3747 - accuracy: 0.9407\n",
      "Epoch 19/50\n",
      "2666/2666 [==============================] - 0s 15us/sample - loss: 0.3747 - accuracy: 0.9411\n",
      "Epoch 20/50\n",
      "2666/2666 [==============================] - 0s 14us/sample - loss: 0.3745 - accuracy: 0.9415\n",
      "Epoch 21/50\n",
      "2666/2666 [==============================] - 0s 12us/sample - loss: 0.3746 - accuracy: 0.9415\n",
      "Epoch 22/50\n",
      "2666/2666 [==============================] - 0s 13us/sample - loss: 0.3743 - accuracy: 0.9415\n",
      "Epoch 23/50\n",
      "2666/2666 [==============================] - 0s 15us/sample - loss: 0.3742 - accuracy: 0.9415\n",
      "Epoch 24/50\n",
      "2666/2666 [==============================] - 0s 15us/sample - loss: 0.3743 - accuracy: 0.9415\n",
      "Epoch 25/50\n",
      "2666/2666 [==============================] - 0s 16us/sample - loss: 0.3742 - accuracy: 0.9415\n",
      "Epoch 26/50\n",
      "2666/2666 [==============================] - 0s 12us/sample - loss: 0.3741 - accuracy: 0.9419\n",
      "Epoch 27/50\n",
      "2666/2666 [==============================] - 0s 15us/sample - loss: 0.3739 - accuracy: 0.9419\n",
      "Epoch 28/50\n",
      "2666/2666 [==============================] - 0s 15us/sample - loss: 0.3739 - accuracy: 0.9419\n",
      "Epoch 29/50\n",
      "2666/2666 [==============================] - 0s 15us/sample - loss: 0.3738 - accuracy: 0.9419\n",
      "Epoch 30/50\n",
      "2666/2666 [==============================] - 0s 13us/sample - loss: 0.3737 - accuracy: 0.9422\n",
      "Epoch 31/50\n",
      "2666/2666 [==============================] - 0s 25us/sample - loss: 0.3736 - accuracy: 0.9422\n",
      "Epoch 32/50\n",
      "2666/2666 [==============================] - 0s 14us/sample - loss: 0.3735 - accuracy: 0.9419\n",
      "Epoch 33/50\n",
      "2666/2666 [==============================] - 0s 15us/sample - loss: 0.3734 - accuracy: 0.9422\n",
      "Epoch 34/50\n",
      "2666/2666 [==============================] - 0s 14us/sample - loss: 0.3732 - accuracy: 0.9426\n",
      "Epoch 35/50\n",
      "2666/2666 [==============================] - 0s 13us/sample - loss: 0.3731 - accuracy: 0.9422\n",
      "Epoch 36/50\n",
      "2666/2666 [==============================] - 0s 16us/sample - loss: 0.3730 - accuracy: 0.9426\n",
      "Epoch 37/50\n",
      "2666/2666 [==============================] - 0s 15us/sample - loss: 0.3729 - accuracy: 0.9426\n",
      "Epoch 38/50\n",
      "2666/2666 [==============================] - 0s 14us/sample - loss: 0.3729 - accuracy: 0.9426\n",
      "Epoch 39/50\n",
      "2666/2666 [==============================] - 0s 14us/sample - loss: 0.3728 - accuracy: 0.9422\n",
      "Epoch 40/50\n",
      "2666/2666 [==============================] - 0s 16us/sample - loss: 0.3727 - accuracy: 0.9426\n",
      "Epoch 41/50\n",
      "2666/2666 [==============================] - 0s 15us/sample - loss: 0.3726 - accuracy: 0.9426\n",
      "Epoch 42/50\n",
      "2666/2666 [==============================] - 0s 15us/sample - loss: 0.3724 - accuracy: 0.9430\n",
      "Epoch 43/50\n",
      "2666/2666 [==============================] - 0s 13us/sample - loss: 0.3724 - accuracy: 0.9430\n",
      "Epoch 44/50\n",
      "2666/2666 [==============================] - 0s 16us/sample - loss: 0.3724 - accuracy: 0.9430\n",
      "Epoch 45/50\n",
      "2666/2666 [==============================] - 0s 16us/sample - loss: 0.3723 - accuracy: 0.9430\n",
      "Epoch 46/50\n",
      "2666/2666 [==============================] - 0s 15us/sample - loss: 0.3722 - accuracy: 0.9430\n",
      "Epoch 47/50\n",
      "2666/2666 [==============================] - 0s 14us/sample - loss: 0.3721 - accuracy: 0.9430\n",
      "Epoch 48/50\n",
      "2666/2666 [==============================] - 0s 13us/sample - loss: 0.3721 - accuracy: 0.9430\n",
      "Epoch 49/50\n",
      "2666/2666 [==============================] - 0s 15us/sample - loss: 0.3721 - accuracy: 0.9430\n",
      "Epoch 50/50\n",
      "2666/2666 [==============================] - 0s 16us/sample - loss: 0.3720 - accuracy: 0.9430\n"
     ]
    },
    {
     "data": {
      "text/plain": [
       "<tensorflow.python.keras.callbacks.History at 0x1f9cc3a6848>"
      ]
     },
     "execution_count": 53,
     "metadata": {},
     "output_type": "execute_result"
    }
   ],
   "source": [
    "# 訓練模型\n",
    "model.fit(X_train, y_train,\n",
    "          epochs = 50,\n",
    "          batch_size = 100)"
   ]
  },
  {
   "cell_type": "code",
   "execution_count": 54,
   "metadata": {},
   "outputs": [
    {
     "name": "stdout",
     "output_type": "stream",
     "text": [
      "WARNING:tensorflow:Falling back from v2 loop because of error: Failed to find data adapter that can handle input: <class 'pandas.core.frame.DataFrame'>, <class 'NoneType'>\n"
     ]
    }
   ],
   "source": [
    "# 預測\n",
    "y_preddl = model.predict(X_test) # 輸出為機率"
   ]
  },
  {
   "cell_type": "code",
   "execution_count": 55,
   "metadata": {},
   "outputs": [],
   "source": [
    "# 機率值轉換\n",
    "y_preddl = np.argmax(y_preddl, axis = 1)"
   ]
  },
  {
   "cell_type": "code",
   "execution_count": 56,
   "metadata": {},
   "outputs": [
    {
     "name": "stdout",
     "output_type": "stream",
     "text": [
      "[[559  11]\n",
      " [ 50  47]]\n",
      "0.6064516129032258\n",
      "0.9085457271364318\n"
     ]
    }
   ],
   "source": [
    "# DL-各項指標輸出\n",
    "print(confusion_matrix(y_test, y_preddl))\n",
    "print(f1_score(y_test, y_preddl))\n",
    "print(accuracy_score(y_test, y_preddl))"
   ]
  },
  {
   "cell_type": "markdown",
   "metadata": {},
   "source": [
    "# 建立預測模型_OHE"
   ]
  },
  {
   "cell_type": "code",
   "execution_count": 100,
   "metadata": {},
   "outputs": [],
   "source": [
    "ohetel = pd.read_excel('C:/Users/hsu/Desktop/data/ess_data/OHEDATA.xlsx')\n",
    "ohedf = ohetel.copy()"
   ]
  },
  {
   "cell_type": "code",
   "execution_count": 101,
   "metadata": {},
   "outputs": [],
   "source": [
    "ohedf = ohedf.drop(['Account Length'], axis = 1)\n",
    "ohedf['Area Code'] = ohedf['Area Code'].replace({415:'A', 510:'B', 408:'C'})"
   ]
  },
  {
   "cell_type": "code",
   "execution_count": 102,
   "metadata": {},
   "outputs": [],
   "source": [
    "ohedfc = pd.get_dummies(ohedf[['State','Area Code','Intl Plan','VMail Plan']])\n",
    "ohedfn = ohedf.iloc[:,4:]"
   ]
  },
  {
   "cell_type": "code",
   "execution_count": 103,
   "metadata": {},
   "outputs": [],
   "source": [
    "ohedf = pd.concat([ohedfc, ohedfn], axis = 1)"
   ]
  },
  {
   "cell_type": "code",
   "execution_count": 104,
   "metadata": {},
   "outputs": [],
   "source": [
    "oheX = ohedf.drop('churn', axis = 1)\n",
    "ohey = ohedf['churn']"
   ]
  },
  {
   "cell_type": "code",
   "execution_count": 105,
   "metadata": {},
   "outputs": [],
   "source": [
    "sc = StandardScaler()\n",
    "oheX = pd.DataFrame(sc.fit_transform(oheX), columns=oheX.columns)"
   ]
  },
  {
   "cell_type": "code",
   "execution_count": 106,
   "metadata": {},
   "outputs": [],
   "source": [
    "oheX_train, oheX_test, ohey_train, ohey_test = train_test_split(oheX, ohey, test_size = 0.2, stratify=ohey)"
   ]
  },
  {
   "cell_type": "code",
   "execution_count": 107,
   "metadata": {},
   "outputs": [],
   "source": [
    "# 隨機森林演算法\n",
    "oherfclf = RandomForestClassifier(n_estimators=100) # 建模\n",
    "oherfclf.fit(oheX_train, ohey_train) # 訓練\n",
    "ohey_predrf = oherfclf.predict(oheX_test) # 預測"
   ]
  },
  {
   "cell_type": "code",
   "execution_count": 109,
   "metadata": {},
   "outputs": [
    {
     "name": "stdout",
     "output_type": "stream",
     "text": [
      "[[566   4]\n",
      " [ 32  65]]\n",
      "0.7831325301204819\n",
      "0.9460269865067467\n"
     ]
    }
   ],
   "source": [
    "# RF-各項指標輸出\n",
    "print(confusion_matrix(ohey_test, ohey_predrf))\n",
    "print(f1_score(ohey_test, ohey_predrf))\n",
    "print(accuracy_score(ohey_test, ohey_predrf))"
   ]
  },
  {
   "cell_type": "code",
   "execution_count": 110,
   "metadata": {},
   "outputs": [],
   "source": [
    "# SVM演算法\n",
    "ohesvmclf = SVC(kernel='rbf') # 建模\n",
    "ohesvmclf.fit(oheX_train ,ohey_train) # 訓練\n",
    "ohey_predsvm = ohesvmclf.predict(oheX_test) # 預測"
   ]
  },
  {
   "cell_type": "code",
   "execution_count": 111,
   "metadata": {},
   "outputs": [
    {
     "name": "stdout",
     "output_type": "stream",
     "text": [
      "[[565   5]\n",
      " [ 81  16]]\n",
      "0.2711864406779661\n",
      "0.8710644677661169\n"
     ]
    }
   ],
   "source": [
    "# SVM-各項指標輸出\n",
    "print(confusion_matrix(ohey_test, ohey_predsvm))\n",
    "print(f1_score(ohey_test, ohey_predsvm))\n",
    "print(accuracy_score(ohey_test, ohey_predsvm))"
   ]
  },
  {
   "cell_type": "code",
   "execution_count": 112,
   "metadata": {},
   "outputs": [
    {
     "name": "stderr",
     "output_type": "stream",
     "text": [
      "C:\\Anaconda3\\envs\\Tfpython\\lib\\site-packages\\sklearn\\neural_network\\_multilayer_perceptron.py:585: ConvergenceWarning: Stochastic Optimizer: Maximum iterations (200) reached and the optimization hasn't converged yet.\n",
      "  % self.max_iter, ConvergenceWarning)\n"
     ]
    }
   ],
   "source": [
    "# MLP演算法\n",
    "ohemlpclf = MLPClassifier() # 建模\n",
    "ohemlpclf.fit(oheX_train, ohey_train) # 訓練\n",
    "ohey_predmlp = ohemlpclf.predict(oheX_test) # 預測"
   ]
  },
  {
   "cell_type": "code",
   "execution_count": 113,
   "metadata": {},
   "outputs": [
    {
     "name": "stdout",
     "output_type": "stream",
     "text": [
      "[[548  22]\n",
      " [ 54  43]]\n",
      "0.5308641975308641\n",
      "0.8860569715142429\n"
     ]
    }
   ],
   "source": [
    "# MLP-各項指標輸出\n",
    "print(confusion_matrix(ohey_test, ohey_predmlp))\n",
    "print(f1_score(ohey_test, ohey_predmlp))\n",
    "print(accuracy_score(ohey_test, ohey_predmlp))"
   ]
  },
  {
   "cell_type": "code",
   "execution_count": 120,
   "metadata": {},
   "outputs": [],
   "source": [
    "# DL深度學習\n",
    "from tensorflow.keras.models import Sequential\n",
    "from tensorflow.keras.layers import Dense"
   ]
  },
  {
   "cell_type": "code",
   "execution_count": 121,
   "metadata": {},
   "outputs": [],
   "source": [
    "# 建模\n",
    "model = Sequential()\n",
    "model.add(Dense(units = 10, activation='tanh', input_dim=72))\n",
    "model.add(Dense(units = 10, activation='tanh'))\n",
    "model.add(Dense(units = 2, activation='softmax'))"
   ]
  },
  {
   "cell_type": "code",
   "execution_count": 122,
   "metadata": {},
   "outputs": [],
   "source": [
    "# 模型設定\n",
    "from tensorflow.keras.losses import SparseCategoricalCrossentropy\n",
    "lossS = SparseCategoricalCrossentropy(from_logits=True)\n",
    "\n",
    "model.compile('adam',\n",
    "              loss = lossS,\n",
    "              metrics = ['accuracy'])"
   ]
  },
  {
   "cell_type": "code",
   "execution_count": 123,
   "metadata": {},
   "outputs": [
    {
     "name": "stdout",
     "output_type": "stream",
     "text": [
      "WARNING:tensorflow:Falling back from v2 loop because of error: Failed to find data adapter that can handle input: <class 'pandas.core.frame.DataFrame'>, <class 'NoneType'>\n",
      "Train on 2666 samples\n",
      "Epoch 1/50\n",
      "2666/2666 [==============================] - 0s 34us/sample - loss: 0.7025 - accuracy: 0.5289\n",
      "Epoch 2/50\n",
      "2666/2666 [==============================] - 0s 16us/sample - loss: 0.6444 - accuracy: 0.6549\n",
      "Epoch 3/50\n",
      "2666/2666 [==============================] - 0s 13us/sample - loss: 0.5994 - accuracy: 0.7438\n",
      "Epoch 4/50\n",
      "2666/2666 [==============================] - 0s 16us/sample - loss: 0.5616 - accuracy: 0.8046\n",
      "Epoch 5/50\n",
      "2666/2666 [==============================] - 0s 13us/sample - loss: 0.5318 - accuracy: 0.8290\n",
      "Epoch 6/50\n",
      "2666/2666 [==============================] - 0s 15us/sample - loss: 0.5091 - accuracy: 0.8406\n",
      "Epoch 7/50\n",
      "2666/2666 [==============================] - 0s 15us/sample - loss: 0.4924 - accuracy: 0.8455\n",
      "Epoch 8/50\n",
      "2666/2666 [==============================] - 0s 14us/sample - loss: 0.4798 - accuracy: 0.8515\n",
      "Epoch 9/50\n",
      "2666/2666 [==============================] - 0s 16us/sample - loss: 0.4699 - accuracy: 0.8578\n",
      "Epoch 10/50\n",
      "2666/2666 [==============================] - 0s 17us/sample - loss: 0.4617 - accuracy: 0.8627\n",
      "Epoch 11/50\n",
      "2666/2666 [==============================] - 0s 20us/sample - loss: 0.4546 - accuracy: 0.8728\n",
      "Epoch 12/50\n",
      "2666/2666 [==============================] - 0s 15us/sample - loss: 0.4484 - accuracy: 0.8788\n",
      "Epoch 13/50\n",
      "2666/2666 [==============================] - 0s 12us/sample - loss: 0.4430 - accuracy: 0.8833\n",
      "Epoch 14/50\n",
      "2666/2666 [==============================] - 0s 16us/sample - loss: 0.4379 - accuracy: 0.8833\n",
      "Epoch 15/50\n",
      "2666/2666 [==============================] - 0s 15us/sample - loss: 0.4335 - accuracy: 0.8890\n",
      "Epoch 16/50\n",
      "2666/2666 [==============================] - 0s 15us/sample - loss: 0.4290 - accuracy: 0.8942\n",
      "Epoch 17/50\n",
      "2666/2666 [==============================] - 0s 15us/sample - loss: 0.4251 - accuracy: 0.8995\n",
      "Epoch 18/50\n",
      "2666/2666 [==============================] - 0s 13us/sample - loss: 0.4216 - accuracy: 0.9029\n",
      "Epoch 19/50\n",
      "2666/2666 [==============================] - 0s 15us/sample - loss: 0.4188 - accuracy: 0.9062\n",
      "Epoch 20/50\n",
      "2666/2666 [==============================] - 0s 16us/sample - loss: 0.4162 - accuracy: 0.9081\n",
      "Epoch 21/50\n",
      "2666/2666 [==============================] - 0s 13us/sample - loss: 0.4142 - accuracy: 0.9111\n",
      "Epoch 22/50\n",
      "2666/2666 [==============================] - 0s 15us/sample - loss: 0.4121 - accuracy: 0.9104\n",
      "Epoch 23/50\n",
      "2666/2666 [==============================] - 0s 13us/sample - loss: 0.4104 - accuracy: 0.9122\n",
      "Epoch 24/50\n",
      "2666/2666 [==============================] - 0s 16us/sample - loss: 0.4089 - accuracy: 0.9149\n",
      "Epoch 25/50\n",
      "2666/2666 [==============================] - 0s 17us/sample - loss: 0.4075 - accuracy: 0.9134\n",
      "Epoch 26/50\n",
      "2666/2666 [==============================] - 0s 13us/sample - loss: 0.4060 - accuracy: 0.9175\n",
      "Epoch 27/50\n",
      "2666/2666 [==============================] - 0s 17us/sample - loss: 0.4051 - accuracy: 0.9164\n",
      "Epoch 28/50\n",
      "2666/2666 [==============================] - 0s 13us/sample - loss: 0.4038 - accuracy: 0.9175\n",
      "Epoch 29/50\n",
      "2666/2666 [==============================] - 0s 16us/sample - loss: 0.4029 - accuracy: 0.9186\n",
      "Epoch 30/50\n",
      "2666/2666 [==============================] - 0s 16us/sample - loss: 0.4020 - accuracy: 0.9194\n",
      "Epoch 31/50\n",
      "2666/2666 [==============================] - 0s 14us/sample - loss: 0.4008 - accuracy: 0.9220\n",
      "Epoch 32/50\n",
      "2666/2666 [==============================] - 0s 15us/sample - loss: 0.4002 - accuracy: 0.9212\n",
      "Epoch 33/50\n",
      "2666/2666 [==============================] - 0s 13us/sample - loss: 0.3993 - accuracy: 0.9216\n",
      "Epoch 34/50\n",
      "2666/2666 [==============================] - 0s 15us/sample - loss: 0.3983 - accuracy: 0.9224\n",
      "Epoch 35/50\n",
      "2666/2666 [==============================] - 0s 19us/sample - loss: 0.3976 - accuracy: 0.9231\n",
      "Epoch 36/50\n",
      "2666/2666 [==============================] - 0s 18us/sample - loss: 0.3969 - accuracy: 0.9235\n",
      "Epoch 37/50\n",
      "2666/2666 [==============================] - 0s 15us/sample - loss: 0.3963 - accuracy: 0.9242\n",
      "Epoch 38/50\n",
      "2666/2666 [==============================] - 0s 13us/sample - loss: 0.3956 - accuracy: 0.9246\n",
      "Epoch 39/50\n",
      "2666/2666 [==============================] - 0s 15us/sample - loss: 0.3949 - accuracy: 0.9250\n",
      "Epoch 40/50\n",
      "2666/2666 [==============================] - 0s 13us/sample - loss: 0.3942 - accuracy: 0.9265\n",
      "Epoch 41/50\n",
      "2666/2666 [==============================] - 0s 16us/sample - loss: 0.3936 - accuracy: 0.9269\n",
      "Epoch 42/50\n",
      "2666/2666 [==============================] - 0s 13us/sample - loss: 0.3931 - accuracy: 0.9272\n",
      "Epoch 43/50\n",
      "2666/2666 [==============================] - 0s 16us/sample - loss: 0.3926 - accuracy: 0.9269\n",
      "Epoch 44/50\n",
      "2666/2666 [==============================] - 0s 16us/sample - loss: 0.3920 - accuracy: 0.9284\n",
      "Epoch 45/50\n",
      "2666/2666 [==============================] - 0s 13us/sample - loss: 0.3915 - accuracy: 0.9276\n",
      "Epoch 46/50\n",
      "2666/2666 [==============================] - 0s 15us/sample - loss: 0.3910 - accuracy: 0.9276\n",
      "Epoch 47/50\n",
      "2666/2666 [==============================] - 0s 13us/sample - loss: 0.3907 - accuracy: 0.9284\n",
      "Epoch 48/50\n",
      "2666/2666 [==============================] - 0s 15us/sample - loss: 0.3901 - accuracy: 0.9284\n",
      "Epoch 49/50\n",
      "2666/2666 [==============================] - 0s 16us/sample - loss: 0.3897 - accuracy: 0.9299\n",
      "Epoch 50/50\n",
      "2666/2666 [==============================] - 0s 13us/sample - loss: 0.3891 - accuracy: 0.9291\n"
     ]
    },
    {
     "data": {
      "text/plain": [
       "<tensorflow.python.keras.callbacks.History at 0x1f9cc7dd8c8>"
      ]
     },
     "execution_count": 123,
     "metadata": {},
     "output_type": "execute_result"
    }
   ],
   "source": [
    "model.fit(oheX_train, ohey_train,\n",
    "          epochs = 50,\n",
    "          batch_size = 100)"
   ]
  },
  {
   "cell_type": "code",
   "execution_count": 124,
   "metadata": {},
   "outputs": [
    {
     "name": "stdout",
     "output_type": "stream",
     "text": [
      "WARNING:tensorflow:Falling back from v2 loop because of error: Failed to find data adapter that can handle input: <class 'pandas.core.frame.DataFrame'>, <class 'NoneType'>\n"
     ]
    }
   ],
   "source": [
    "# 預測\n",
    "ohey_preddl = model.predict(oheX_test) # 輸出為機率"
   ]
  },
  {
   "cell_type": "code",
   "execution_count": 125,
   "metadata": {},
   "outputs": [],
   "source": [
    "# 機率值轉換\n",
    "ohey_preddl = np.argmax(ohey_preddl, axis = 1)"
   ]
  },
  {
   "cell_type": "code",
   "execution_count": 126,
   "metadata": {},
   "outputs": [
    {
     "name": "stdout",
     "output_type": "stream",
     "text": [
      "[[547  23]\n",
      " [ 60  37]]\n",
      "0.4713375796178344\n",
      "0.8755622188905547\n"
     ]
    }
   ],
   "source": [
    "# DL-各項指標輸出\n",
    "print(confusion_matrix(ohey_test, ohey_preddl))\n",
    "print(f1_score(ohey_test, ohey_preddl))\n",
    "print(accuracy_score(ohey_test, ohey_preddl))"
   ]
  },
  {
   "cell_type": "code",
   "execution_count": null,
   "metadata": {},
   "outputs": [],
   "source": []
  }
 ],
 "metadata": {
  "kernelspec": {
   "display_name": "Python 3",
   "language": "python",
   "name": "python3"
  },
  "language_info": {
   "codemirror_mode": {
    "name": "ipython",
    "version": 3
   },
   "file_extension": ".py",
   "mimetype": "text/x-python",
   "name": "python",
   "nbconvert_exporter": "python",
   "pygments_lexer": "ipython3",
   "version": "3.7.7"
  }
 },
 "nbformat": 4,
 "nbformat_minor": 4
}
