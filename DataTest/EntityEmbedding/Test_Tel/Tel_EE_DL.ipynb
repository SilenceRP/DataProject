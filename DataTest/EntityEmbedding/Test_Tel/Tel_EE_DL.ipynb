{
 "cells": [
  {
   "cell_type": "code",
   "execution_count": 1,
   "metadata": {},
   "outputs": [],
   "source": [
    "# 相關套件載入\n",
    "import pandas as pd\n",
    "import numpy as np\n",
    "import random as rn\n",
    "import pydotplus # 繪製tensflow圖\n",
    "import graphviz # 繪製tensflow圖\n",
    "\n",
    "\n",
    "from tensorflow.keras.layers import Embedding, Dropout, Input, Dense, Reshape, Concatenate\n",
    "from tensorflow.keras.models import Sequential\n",
    "from tensorflow.keras import Model"
   ]
  },
  {
   "cell_type": "code",
   "execution_count": 9,
   "metadata": {},
   "outputs": [],
   "source": [
    "# 資料讀取(此資料已經過前處理)\n",
    "df = pd.read_excel('C:/Users/hsu/Desktop/tel.xlsx')\n",
    "tel = df.copy()"
   ]
  },
  {
   "cell_type": "code",
   "execution_count": 10,
   "metadata": {},
   "outputs": [],
   "source": [
    "# 將目標變數轉為EE運作格式\n",
    "ty = np.array([i for i in tel['churn']]).reshape(3333,1)"
   ]
  },
  {
   "cell_type": "code",
   "execution_count": 11,
   "metadata": {},
   "outputs": [],
   "source": [
    "t = tel.drop('churn', axis = 1)"
   ]
  },
  {
   "cell_type": "code",
   "execution_count": 12,
   "metadata": {},
   "outputs": [
    {
     "data": {
      "text/plain": [
       "(3333, 18)"
      ]
     },
     "execution_count": 12,
     "metadata": {},
     "output_type": "execute_result"
    }
   ],
   "source": [
    "t.shape"
   ]
  },
  {
   "cell_type": "code",
   "execution_count": 20,
   "metadata": {},
   "outputs": [
    {
     "data": {
      "text/html": [
       "<div>\n",
       "<style scoped>\n",
       "    .dataframe tbody tr th:only-of-type {\n",
       "        vertical-align: middle;\n",
       "    }\n",
       "\n",
       "    .dataframe tbody tr th {\n",
       "        vertical-align: top;\n",
       "    }\n",
       "\n",
       "    .dataframe thead th {\n",
       "        text-align: right;\n",
       "    }\n",
       "</style>\n",
       "<table border=\"1\" class=\"dataframe\">\n",
       "  <thead>\n",
       "    <tr style=\"text-align: right;\">\n",
       "      <th></th>\n",
       "      <th>state</th>\n",
       "      <th>area_code</th>\n",
       "      <th>international_plan</th>\n",
       "      <th>voice_mail_plan</th>\n",
       "      <th>number_vmail_messages</th>\n",
       "      <th>total_day_minutes</th>\n",
       "      <th>total_day_calls</th>\n",
       "      <th>total_day_charge</th>\n",
       "      <th>total_eve_minutes</th>\n",
       "      <th>total_eve_calls</th>\n",
       "      <th>total_eve_charge</th>\n",
       "      <th>total_night_minutes</th>\n",
       "      <th>total_night_calls</th>\n",
       "      <th>total_night_charge</th>\n",
       "      <th>total_intl_minutes</th>\n",
       "      <th>total_intl_calls</th>\n",
       "      <th>total_intl_charge</th>\n",
       "      <th>number_customer_service_calls</th>\n",
       "      <th>churn</th>\n",
       "    </tr>\n",
       "  </thead>\n",
       "  <tbody>\n",
       "    <tr>\n",
       "      <th>0</th>\n",
       "      <td>17</td>\n",
       "      <td>0</td>\n",
       "      <td>0</td>\n",
       "      <td>1</td>\n",
       "      <td>1.234883</td>\n",
       "      <td>1.566767</td>\n",
       "      <td>0.476643</td>\n",
       "      <td>1.567036</td>\n",
       "      <td>-0.070610</td>\n",
       "      <td>-0.055940</td>\n",
       "      <td>-0.070427</td>\n",
       "      <td>0.866743</td>\n",
       "      <td>-0.465494</td>\n",
       "      <td>0.866029</td>\n",
       "      <td>-0.085008</td>\n",
       "      <td>-0.601195</td>\n",
       "      <td>-0.085690</td>\n",
       "      <td>-0.427932</td>\n",
       "      <td>0</td>\n",
       "    </tr>\n",
       "    <tr>\n",
       "      <th>1</th>\n",
       "      <td>5</td>\n",
       "      <td>0</td>\n",
       "      <td>0</td>\n",
       "      <td>1</td>\n",
       "      <td>1.307948</td>\n",
       "      <td>-0.333738</td>\n",
       "      <td>1.124503</td>\n",
       "      <td>-0.334013</td>\n",
       "      <td>-0.108080</td>\n",
       "      <td>0.144867</td>\n",
       "      <td>-0.107549</td>\n",
       "      <td>1.058571</td>\n",
       "      <td>0.147825</td>\n",
       "      <td>1.059390</td>\n",
       "      <td>1.240482</td>\n",
       "      <td>-0.601195</td>\n",
       "      <td>1.241169</td>\n",
       "      <td>-0.427932</td>\n",
       "      <td>0</td>\n",
       "    </tr>\n",
       "    <tr>\n",
       "      <th>2</th>\n",
       "      <td>18</td>\n",
       "      <td>0</td>\n",
       "      <td>0</td>\n",
       "      <td>0</td>\n",
       "      <td>-0.591760</td>\n",
       "      <td>1.168304</td>\n",
       "      <td>0.675985</td>\n",
       "      <td>1.168464</td>\n",
       "      <td>-1.573383</td>\n",
       "      <td>0.496279</td>\n",
       "      <td>-1.573900</td>\n",
       "      <td>-0.756869</td>\n",
       "      <td>0.198935</td>\n",
       "      <td>-0.755571</td>\n",
       "      <td>0.703121</td>\n",
       "      <td>0.211534</td>\n",
       "      <td>0.697156</td>\n",
       "      <td>-1.188218</td>\n",
       "      <td>0</td>\n",
       "    </tr>\n",
       "    <tr>\n",
       "      <th>3</th>\n",
       "      <td>5</td>\n",
       "      <td>2</td>\n",
       "      <td>1</td>\n",
       "      <td>0</td>\n",
       "      <td>-0.591760</td>\n",
       "      <td>2.196596</td>\n",
       "      <td>-1.466936</td>\n",
       "      <td>2.196759</td>\n",
       "      <td>-2.742865</td>\n",
       "      <td>-0.608159</td>\n",
       "      <td>-2.743268</td>\n",
       "      <td>-0.078551</td>\n",
       "      <td>-0.567714</td>\n",
       "      <td>-0.078806</td>\n",
       "      <td>-1.303026</td>\n",
       "      <td>1.024263</td>\n",
       "      <td>-1.306401</td>\n",
       "      <td>0.332354</td>\n",
       "      <td>0</td>\n",
       "    </tr>\n",
       "    <tr>\n",
       "      <th>4</th>\n",
       "      <td>34</td>\n",
       "      <td>0</td>\n",
       "      <td>1</td>\n",
       "      <td>0</td>\n",
       "      <td>-0.591760</td>\n",
       "      <td>-0.240090</td>\n",
       "      <td>0.626149</td>\n",
       "      <td>-0.240041</td>\n",
       "      <td>-1.038932</td>\n",
       "      <td>1.098699</td>\n",
       "      <td>-1.037939</td>\n",
       "      <td>-0.276311</td>\n",
       "      <td>1.067803</td>\n",
       "      <td>-0.276562</td>\n",
       "      <td>-0.049184</td>\n",
       "      <td>-0.601195</td>\n",
       "      <td>-0.045885</td>\n",
       "      <td>1.092641</td>\n",
       "      <td>0</td>\n",
       "    </tr>\n",
       "  </tbody>\n",
       "</table>\n",
       "</div>"
      ],
      "text/plain": [
       "   state  area_code  international_plan  voice_mail_plan  \\\n",
       "0     17          0                   0                1   \n",
       "1      5          0                   0                1   \n",
       "2     18          0                   0                0   \n",
       "3      5          2                   1                0   \n",
       "4     34          0                   1                0   \n",
       "\n",
       "   number_vmail_messages  total_day_minutes  total_day_calls  \\\n",
       "0               1.234883           1.566767         0.476643   \n",
       "1               1.307948          -0.333738         1.124503   \n",
       "2              -0.591760           1.168304         0.675985   \n",
       "3              -0.591760           2.196596        -1.466936   \n",
       "4              -0.591760          -0.240090         0.626149   \n",
       "\n",
       "   total_day_charge  total_eve_minutes  total_eve_calls  total_eve_charge  \\\n",
       "0          1.567036          -0.070610        -0.055940         -0.070427   \n",
       "1         -0.334013          -0.108080         0.144867         -0.107549   \n",
       "2          1.168464          -1.573383         0.496279         -1.573900   \n",
       "3          2.196759          -2.742865        -0.608159         -2.743268   \n",
       "4         -0.240041          -1.038932         1.098699         -1.037939   \n",
       "\n",
       "   total_night_minutes  total_night_calls  total_night_charge  \\\n",
       "0             0.866743          -0.465494            0.866029   \n",
       "1             1.058571           0.147825            1.059390   \n",
       "2            -0.756869           0.198935           -0.755571   \n",
       "3            -0.078551          -0.567714           -0.078806   \n",
       "4            -0.276311           1.067803           -0.276562   \n",
       "\n",
       "   total_intl_minutes  total_intl_calls  total_intl_charge  \\\n",
       "0           -0.085008         -0.601195          -0.085690   \n",
       "1            1.240482         -0.601195           1.241169   \n",
       "2            0.703121          0.211534           0.697156   \n",
       "3           -1.303026          1.024263          -1.306401   \n",
       "4           -0.049184         -0.601195          -0.045885   \n",
       "\n",
       "   number_customer_service_calls  churn  \n",
       "0                      -0.427932      0  \n",
       "1                      -0.427932      0  \n",
       "2                      -1.188218      0  \n",
       "3                       0.332354      0  \n",
       "4                       1.092641      0  "
      ]
     },
     "execution_count": 20,
     "metadata": {},
     "output_type": "execute_result"
    }
   ],
   "source": [
    "tel.head()"
   ]
  },
  {
   "cell_type": "code",
   "execution_count": 14,
   "metadata": {},
   "outputs": [],
   "source": [
    "# 將特徵變數轉為EE運作格式\n",
    "tx = []\n",
    "for i in t.columns:\n",
    "    f = np.array([j for j in t[i]]).reshape(3333,1)\n",
    "    tx.append(f)"
   ]
  },
  {
   "cell_type": "code",
   "execution_count": 21,
   "metadata": {},
   "outputs": [],
   "source": [
    "# 撰寫EE運作函數\n",
    "sample_num = 3333 # 觀察值為32\n",
    "cate_feature_num = 4 # 類別特徵 2\n",
    "contious_feature_num = 14 # 數值特徵 1\n",
    "cate_embedding_dimension = {'0':10, '1':4, '2':3, '3':3}\n",
    " \n",
    "def build_embedding_network():\n",
    " \n",
    "    '''\n",
    "    通常寫法會將dataframe資料調整，將類別變數放置dataframe前面位置\n",
    "    ''' \n",
    "    \n",
    "    inputs = []\n",
    "    embeddings = []\n",
    "    \n",
    "    ### 所有dataframe的特徵都需寫進行E.E中，一個資料集如有3個欄位(2個類別特徵，1個數值特徵)\n",
    "    ### 就必須寫3次。通常為了後續容易了解，我們先將類別的向量嵌入寫在前面，\n",
    "    ### 而且需增加Embedding嵌入資料，再用Reshape拉直。\n",
    "    ### 數值資料只需增加Dense\n",
    "    \n",
    "    input_cate_feature_1 = Input(shape=(1,))\n",
    "    embedding = Embedding(51, 10, input_length=1, name = 'EE_C1')(input_cate_feature_1) # name可以命名該層名稱\n",
    "    # embedding後是10*1*3，為了後續计算方便，因此使用Reshape轉為10*3(易使後續concat)\n",
    "    embedding = Reshape(target_shape=(10,))(embedding)\n",
    "    inputs.append(input_cate_feature_1)\n",
    "    embeddings.append(embedding)\n",
    "    \n",
    "    input_cate_feature_2 = Input(shape=(1,))\n",
    "    embedding = Embedding(3, 4, input_length=1)(input_cate_feature_2)\n",
    "    embedding = Reshape(target_shape=(4,))(embedding)\n",
    "    inputs.append(input_cate_feature_2)\n",
    "    embeddings.append(embedding)\n",
    "    \n",
    "    input_cate_feature_3 = Input(shape=(1,))\n",
    "    embedding = Embedding(2, 3, input_length=1)(input_cate_feature_3)\n",
    "    embedding = Reshape(target_shape=(3,))(embedding)\n",
    "    inputs.append(input_cate_feature_3)\n",
    "    embeddings.append(embedding)\n",
    "    \n",
    "    input_cate_feature_4 = Input(shape=(1,))\n",
    "    embedding = Embedding(2, 3, input_length=1)(input_cate_feature_4)\n",
    "    embedding = Reshape(target_shape=(3,))(embedding)\n",
    "    inputs.append(input_cate_feature_4)\n",
    "    embeddings.append(embedding)\n",
    "    \n",
    "    input_numeric1 = Input(shape=(1,))\n",
    "    embedding_numeric = Dense(1)(input_numeric1) \n",
    "    inputs.append(input_numeric1)\n",
    "    embeddings.append(embedding_numeric)\n",
    "    \n",
    "    input_numeric2 = Input(shape=(1,))\n",
    "    embedding_numeric = Dense(1)(input_numeric2) \n",
    "    inputs.append(input_numeric2)\n",
    "    embeddings.append(embedding_numeric)\n",
    "    \n",
    "    input_numeric3 = Input(shape=(1,))\n",
    "    embedding_numeric = Dense(1)(input_numeric3) \n",
    "    inputs.append(input_numeric3)\n",
    "    embeddings.append(embedding_numeric)\n",
    "    \n",
    "    input_numeric4 = Input(shape=(1,))\n",
    "    embedding_numeric = Dense(1)(input_numeric4) \n",
    "    inputs.append(input_numeric4)\n",
    "    embeddings.append(embedding_numeric)\n",
    "    \n",
    "    input_numeric5 = Input(shape=(1,))\n",
    "    embedding_numeric = Dense(1)(input_numeric5) \n",
    "    inputs.append(input_numeric5)\n",
    "    embeddings.append(embedding_numeric)\n",
    "    \n",
    "    input_numeric6 = Input(shape=(1,))\n",
    "    embedding_numeric = Dense(1)(input_numeric6) \n",
    "    inputs.append(input_numeric6)\n",
    "    embeddings.append(embedding_numeric)\n",
    "    \n",
    "    input_numeric7 = Input(shape=(1,))\n",
    "    embedding_numeric = Dense(1)(input_numeric7) \n",
    "    inputs.append(input_numeric7)\n",
    "    embeddings.append(embedding_numeric)\n",
    "    \n",
    "    input_numeric8 = Input(shape=(1,))\n",
    "    embedding_numeric = Dense(1)(input_numeric8) \n",
    "    inputs.append(input_numeric8)\n",
    "    embeddings.append(embedding_numeric)\n",
    "    \n",
    "    input_numeric9 = Input(shape=(1,))\n",
    "    embedding_numeric = Dense(1)(input_numeric9) \n",
    "    inputs.append(input_numeric9)\n",
    "    embeddings.append(embedding_numeric)\n",
    "    \n",
    "    input_numeric10 = Input(shape=(1,))\n",
    "    embedding_numeric = Dense(1)(input_numeric10) \n",
    "    inputs.append(input_numeric10)\n",
    "    embeddings.append(embedding_numeric)\n",
    "    \n",
    "    input_numeric11 = Input(shape=(1,))\n",
    "    embedding_numeric = Dense(1)(input_numeric11) \n",
    "    inputs.append(input_numeric11)\n",
    "    embeddings.append(embedding_numeric)\n",
    "    \n",
    "    input_numeric12 = Input(shape=(1,))\n",
    "    embedding_numeric = Dense(1)(input_numeric12) \n",
    "    inputs.append(input_numeric12)\n",
    "    embeddings.append(embedding_numeric)\n",
    "    \n",
    "    input_numeric13 = Input(shape=(1,))\n",
    "    embedding_numeric = Dense(1)(input_numeric13) \n",
    "    inputs.append(input_numeric13)\n",
    "    embeddings.append(embedding_numeric)\n",
    "    \n",
    "    input_numeric14 = Input(shape=(1,))\n",
    "    embedding_numeric = Dense(1)(input_numeric14) \n",
    "    inputs.append(input_numeric14)\n",
    "    embeddings.append(embedding_numeric)\n",
    "    \n",
    "    \n",
    "    \n",
    "\n",
    " \n",
    "    # 此一過程，再於將所有嵌入後的類別資料以及數值資料(不需調整)，拉成一條\n",
    "    x = Concatenate()(embeddings)\n",
    "    \n",
    "    # 經過二層Dense\n",
    "    x = Dense(10, activation='relu')(x)\n",
    "    #x = Dropout(.15)(x)\n",
    "    x = Dense(10, activation='relu')(x)\n",
    "    #x = Dropout(.15)(x)\n",
    "    \n",
    "    # 最後進行output輸出\n",
    "    output = Dense(1, activation='sigmoid')(x)\n",
    "    \n",
    "    model = Model(inputs, output)\n",
    " \n",
    "    model.compile(loss='binary_crossentropy', optimizer='adam', metrics = ['accuracy'])\n",
    "    \n",
    "    return model"
   ]
  },
  {
   "cell_type": "code",
   "execution_count": 24,
   "metadata": {},
   "outputs": [
    {
     "data": {
      "text/plain": [
       "array([[0],\n",
       "       [0],\n",
       "       [0],\n",
       "       ...,\n",
       "       [0],\n",
       "       [0],\n",
       "       [0]])"
      ]
     },
     "execution_count": 24,
     "metadata": {},
     "output_type": "execute_result"
    }
   ],
   "source": [
    "ty"
   ]
  },
  {
   "cell_type": "code",
   "execution_count": 26,
   "metadata": {},
   "outputs": [
    {
     "name": "stdout",
     "output_type": "stream",
     "text": [
      "Train on 3333 samples\n",
      "Epoch 1/30\n",
      "3333/3333 [==============================] - 3s 933us/sample - loss: 0.6224 - accuracy: 0.6847\n",
      "Epoch 2/30\n",
      "3333/3333 [==============================] - 0s 125us/sample - loss: 0.4420 - accuracy: 0.8578\n",
      "Epoch 3/30\n",
      "3333/3333 [==============================] - 0s 119us/sample - loss: 0.3768 - accuracy: 0.8593\n",
      "Epoch 4/30\n",
      "3333/3333 [==============================] - 0s 122us/sample - loss: 0.3509 - accuracy: 0.8734\n",
      "Epoch 5/30\n",
      "3333/3333 [==============================] - 0s 130us/sample - loss: 0.3307 - accuracy: 0.8836\n",
      "Epoch 6/30\n",
      "3333/3333 [==============================] - 0s 112us/sample - loss: 0.3161 - accuracy: 0.8911\n",
      "Epoch 7/30\n",
      "3333/3333 [==============================] - 0s 123us/sample - loss: 0.3022 - accuracy: 0.8941\n",
      "Epoch 8/30\n",
      "3333/3333 [==============================] - 0s 124us/sample - loss: 0.2880 - accuracy: 0.8953 - loss: 0.2876 - accuracy: 0.89\n",
      "Epoch 9/30\n",
      "3333/3333 [==============================] - 0s 129us/sample - loss: 0.2683 - accuracy: 0.8962\n",
      "Epoch 10/30\n",
      "3333/3333 [==============================] - 0s 128us/sample - loss: 0.2508 - accuracy: 0.9013\n",
      "Epoch 11/30\n",
      "3333/3333 [==============================] - 0s 123us/sample - loss: 0.2386 - accuracy: 0.9091\n",
      "Epoch 12/30\n",
      "3333/3333 [==============================] - 0s 116us/sample - loss: 0.2308 - accuracy: 0.9118\n",
      "Epoch 13/30\n",
      "3333/3333 [==============================] - 0s 133us/sample - loss: 0.2245 - accuracy: 0.9181\n",
      "Epoch 14/30\n",
      "3333/3333 [==============================] - 0s 103us/sample - loss: 0.2195 - accuracy: 0.9187\n",
      "Epoch 15/30\n",
      "3333/3333 [==============================] - 0s 132us/sample - loss: 0.2164 - accuracy: 0.9181\n",
      "Epoch 16/30\n",
      "3333/3333 [==============================] - 0s 129us/sample - loss: 0.2123 - accuracy: 0.9217\n",
      "Epoch 17/30\n",
      "3333/3333 [==============================] - 0s 121us/sample - loss: 0.2095 - accuracy: 0.9247\n",
      "Epoch 18/30\n",
      "3333/3333 [==============================] - 0s 127us/sample - loss: 0.2064 - accuracy: 0.9253\n",
      "Epoch 19/30\n",
      "3333/3333 [==============================] - 0s 132us/sample - loss: 0.2042 - accuracy: 0.9265\n",
      "Epoch 20/30\n",
      "3333/3333 [==============================] - 0s 126us/sample - loss: 0.2013 - accuracy: 0.9289\n",
      "Epoch 21/30\n",
      "3333/3333 [==============================] - 0s 132us/sample - loss: 0.1988 - accuracy: 0.9289\n",
      "Epoch 22/30\n",
      "3333/3333 [==============================] - 0s 103us/sample - loss: 0.1967 - accuracy: 0.9301\n",
      "Epoch 23/30\n",
      "3333/3333 [==============================] - 0s 122us/sample - loss: 0.1944 - accuracy: 0.9313\n",
      "Epoch 24/30\n",
      "3333/3333 [==============================] - 0s 133us/sample - loss: 0.1933 - accuracy: 0.9349\n",
      "Epoch 25/30\n",
      "3333/3333 [==============================] - 0s 132us/sample - loss: 0.1900 - accuracy: 0.9349 - loss: 0.1930 - accu\n",
      "Epoch 26/30\n",
      "3333/3333 [==============================] - 0s 128us/sample - loss: 0.1890 - accuracy: 0.9325\n",
      "Epoch 27/30\n",
      "3333/3333 [==============================] - 0s 125us/sample - loss: 0.1866 - accuracy: 0.9364\n",
      "Epoch 28/30\n",
      "3333/3333 [==============================] - 0s 130us/sample - loss: 0.1847 - accuracy: 0.9388\n",
      "Epoch 29/30\n",
      "3333/3333 [==============================] - 0s 128us/sample - loss: 0.1827 - accuracy: 0.9391\n",
      "Epoch 30/30\n",
      "3333/3333 [==============================] - 0s 133us/sample - loss: 0.1807 - accuracy: 0.9409\n"
     ]
    },
    {
     "data": {
      "text/plain": [
       "<tensorflow.python.keras.callbacks.History at 0x183331b9d08>"
      ]
     },
     "execution_count": 26,
     "metadata": {},
     "output_type": "execute_result"
    }
   ],
   "source": [
    "# 訓練模型\n",
    "NN = build_embedding_network()\n",
    "NN.fit(tx, ty, epochs=30, batch_size=50, verbose=1)"
   ]
  },
  {
   "cell_type": "code",
   "execution_count": 27,
   "metadata": {},
   "outputs": [
    {
     "data": {
      "image/png": "[encoded data removed]",
      "text/plain": [
       "<IPython.core.display.Image object>"
      ]
     },
     "execution_count": 27,
     "metadata": {},
     "output_type": "execute_result"
    }
   ],
   "source": [
    "# 輸出EE張量\n",
    "import graphviz\n",
    "import pydotplus\n",
    "\n",
    "from tensorflow.keras.utils import plot_model\n",
    "plot_model(NN, to_file='NN.png', show_layer_names=True)\n",
    "# plot_model(NN, to_file='NN.png', show_shapes=True, show_layer_names=True) 完整寫法"
   ]
  },
  {
   "cell_type": "code",
   "execution_count": 31,
   "metadata": {},
   "outputs": [],
   "source": [
    "# 取出嵌入向量資料\n",
    "\n",
    "model = NN  # 將訓練完成的模型存成物件\n",
    "for i in range(cate_feature_num):\n",
    "    # 由NN.png圖可知，如果把類別特徵放置在前、連續特徵放於後，cate_feature_num+i就是所有embedding層\n",
    "    layer_name = NN.get_config()['layers'][cate_feature_num+i]['name']\n",
    " \n",
    "    intermediate_layer_model = Model(inputs=NN.input,\n",
    "                                     outputs=model.get_layer(layer_name).output)\n",
    "    \n",
    "    # numpy.array\n",
    "    intermediate_output = intermediate_layer_model.predict(tx)\n",
    "    \n",
    "    intermediate_output.resize([3333,cate_embedding_dimension[str(i)]])\n",
    "    \n",
    "    if i == 0:\n",
    "        X_embedding_trans = intermediate_output\n",
    "    else:\n",
    "        X_embedding_trans = np.hstack((X_embedding_trans,intermediate_output)) #水平拼接\n",
    "    \n",
    "\n",
    "# 取出原來的數值特徵\n",
    "for i in range(contious_feature_num):\n",
    "    if i == 0:\n",
    "        X_contious = tx[cate_feature_num+i]\n",
    "    else:\n",
    "        X_contious = np.hstack((X_contious,tx[cate_feature_num+i]))"
   ]
  },
  {
   "cell_type": "code",
   "execution_count": 35,
   "metadata": {},
   "outputs": [],
   "source": [
    "# 將實體嵌入(EE)資料與原先數值資料合為dataframe資料格式\n",
    "X_trans = np.hstack((X_embedding_trans,X_contious))\n",
    "eedf = pd.DataFrame(X_trans)"
   ]
  },
  {
   "cell_type": "code",
   "execution_count": null,
   "metadata": {},
   "outputs": [],
   "source": [
    "eedf.head()"
   ]
  },
  {
   "cell_type": "code",
   "execution_count": 50,
   "metadata": {},
   "outputs": [],
   "source": [
    "# 將資料存出\n",
    "eedf.to_excel('C:/Users/hsu/Desktop/eetel.xlsx', index=False)"
   ]
  },
  {
   "cell_type": "code",
   "execution_count": 37,
   "metadata": {},
   "outputs": [
    {
     "data": {
      "text/plain": [
       "(3333, 34)"
      ]
     },
     "execution_count": 37,
     "metadata": {},
     "output_type": "execute_result"
    }
   ],
   "source": [
    "eedf.shape"
   ]
  },
  {
   "cell_type": "markdown",
   "metadata": {},
   "source": [
    "# 透過深度學習建立模型"
   ]
  },
  {
   "cell_type": "code",
   "execution_count": 36,
   "metadata": {},
   "outputs": [],
   "source": [
    "model = Sequential()\n"
   ]
  },
  {
   "cell_type": "code",
   "execution_count": 85,
   "metadata": {},
   "outputs": [],
   "source": [
    "from tensorflow.keras.regularizers import l2\n",
    "model = Sequential()\n",
    "model.add(Dense(units=10, activation='tanh', input_dim = 34))\n",
    "model.add(Dense(units=10, activation='tanh', activity_regularizer=l2(l=0.01)))\n",
    "model.add(Dense(units=2, activation='softmax'))"
   ]
  },
  {
   "cell_type": "code",
   "execution_count": 86,
   "metadata": {},
   "outputs": [],
   "source": [
    "from tensorflow.keras.losses import SparseCategoricalCrossentropy\n",
    "lossS = SparseCategoricalCrossentropy(from_logits=True)\n",
    "\n",
    "model.compile(optimizer='adam',\n",
    "              loss=lossS,\n",
    "              metrics = ['accuracy'])"
   ]
  },
  {
   "cell_type": "code",
   "execution_count": 49,
   "metadata": {},
   "outputs": [],
   "source": [
    "eedf = pd.concat([eedf,df[['churn']]],axis = 1)"
   ]
  },
  {
   "cell_type": "code",
   "execution_count": 51,
   "metadata": {},
   "outputs": [],
   "source": [
    "from sklearn.model_selection import train_test_split"
   ]
  },
  {
   "cell_type": "code",
   "execution_count": 55,
   "metadata": {},
   "outputs": [],
   "source": [
    "X = eedf.drop('churn', axis = 1)\n",
    "y = eedf['churn']"
   ]
  },
  {
   "cell_type": "code",
   "execution_count": 56,
   "metadata": {},
   "outputs": [],
   "source": [
    "X_train, X_test, y_train, y_test = train_test_split(X, y, test_size = 0.3, stratify=y)"
   ]
  },
  {
   "cell_type": "code",
   "execution_count": 89,
   "metadata": {},
   "outputs": [
    {
     "name": "stdout",
     "output_type": "stream",
     "text": [
      "WARNING:tensorflow:Falling back from v2 loop because of error: Failed to find data adapter that can handle input: <class 'pandas.core.frame.DataFrame'>, <class 'NoneType'>\n",
      "Train on 2333 samples, validate on 1000 samples\n",
      "Epoch 1/30\n",
      "2333/2333 [==============================] - 0s 48us/sample - loss: 0.4158 - accuracy: 0.9126 - val_loss: 0.4167 - val_accuracy: 0.9080\n",
      "Epoch 2/30\n",
      "2333/2333 [==============================] - 0s 47us/sample - loss: 0.4153 - accuracy: 0.9134 - val_loss: 0.4164 - val_accuracy: 0.9070\n",
      "Epoch 3/30\n",
      "2333/2333 [==============================] - 0s 71us/sample - loss: 0.4152 - accuracy: 0.9121 - val_loss: 0.4167 - val_accuracy: 0.9080\n",
      "Epoch 4/30\n",
      "2333/2333 [==============================] - 0s 64us/sample - loss: 0.4150 - accuracy: 0.9143 - val_loss: 0.4164 - val_accuracy: 0.9080\n",
      "Epoch 5/30\n",
      "2333/2333 [==============================] - 0s 70us/sample - loss: 0.4149 - accuracy: 0.9130 - val_loss: 0.4163 - val_accuracy: 0.9090\n",
      "Epoch 6/30\n",
      "2333/2333 [==============================] - 0s 79us/sample - loss: 0.4146 - accuracy: 0.9117 - val_loss: 0.4161 - val_accuracy: 0.9070\n",
      "Epoch 7/30\n",
      "2333/2333 [==============================] - 0s 73us/sample - loss: 0.4141 - accuracy: 0.9143 - val_loss: 0.4159 - val_accuracy: 0.9070\n",
      "Epoch 8/30\n",
      "2333/2333 [==============================] - 0s 49us/sample - loss: 0.4141 - accuracy: 0.9130 - val_loss: 0.4163 - val_accuracy: 0.9080\n",
      "Epoch 9/30\n",
      "2333/2333 [==============================] - 0s 80us/sample - loss: 0.4141 - accuracy: 0.9130 - val_loss: 0.4154 - val_accuracy: 0.9080\n",
      "Epoch 10/30\n",
      "2333/2333 [==============================] - 0s 73us/sample - loss: 0.4138 - accuracy: 0.9138 - val_loss: 0.4160 - val_accuracy: 0.9070\n",
      "Epoch 11/30\n",
      "2333/2333 [==============================] - 0s 70us/sample - loss: 0.4135 - accuracy: 0.9143 - val_loss: 0.4155 - val_accuracy: 0.9090\n",
      "Epoch 12/30\n",
      "2333/2333 [==============================] - 0s 67us/sample - loss: 0.4135 - accuracy: 0.9138 - val_loss: 0.4159 - val_accuracy: 0.9060\n",
      "Epoch 13/30\n",
      "2333/2333 [==============================] - 0s 46us/sample - loss: 0.4132 - accuracy: 0.9143 - val_loss: 0.4153 - val_accuracy: 0.9080\n",
      "Epoch 14/30\n",
      "2333/2333 [==============================] - 0s 46us/sample - loss: 0.4129 - accuracy: 0.9143 - val_loss: 0.4155 - val_accuracy: 0.9070\n",
      "Epoch 15/30\n",
      "2333/2333 [==============================] - 0s 51us/sample - loss: 0.4129 - accuracy: 0.9143 - val_loss: 0.4153 - val_accuracy: 0.9090\n",
      "Epoch 16/30\n",
      "2333/2333 [==============================] - 0s 53us/sample - loss: 0.4126 - accuracy: 0.9143 - val_loss: 0.4150 - val_accuracy: 0.9090\n",
      "Epoch 17/30\n",
      "2333/2333 [==============================] - 0s 53us/sample - loss: 0.4128 - accuracy: 0.9138 - val_loss: 0.4153 - val_accuracy: 0.9080\n",
      "Epoch 18/30\n",
      "2333/2333 [==============================] - 0s 67us/sample - loss: 0.4124 - accuracy: 0.9138 - val_loss: 0.4149 - val_accuracy: 0.9080\n",
      "Epoch 19/30\n",
      "2333/2333 [==============================] - 0s 52us/sample - loss: 0.4126 - accuracy: 0.9147 - val_loss: 0.4149 - val_accuracy: 0.9070\n",
      "Epoch 20/30\n",
      "2333/2333 [==============================] - 0s 50us/sample - loss: 0.4119 - accuracy: 0.9147 - val_loss: 0.4151 - val_accuracy: 0.9080\n",
      "Epoch 21/30\n",
      "2333/2333 [==============================] - 0s 77us/sample - loss: 0.4120 - accuracy: 0.9143 - val_loss: 0.4148 - val_accuracy: 0.9080\n",
      "Epoch 22/30\n",
      "2333/2333 [==============================] - 0s 54us/sample - loss: 0.4117 - accuracy: 0.9151 - val_loss: 0.4149 - val_accuracy: 0.9070\n",
      "Epoch 23/30\n",
      "2333/2333 [==============================] - 0s 59us/sample - loss: 0.4117 - accuracy: 0.9156 - val_loss: 0.4149 - val_accuracy: 0.9070\n",
      "Epoch 24/30\n",
      "2333/2333 [==============================] - 0s 52us/sample - loss: 0.4115 - accuracy: 0.9147 - val_loss: 0.4145 - val_accuracy: 0.9090\n",
      "Epoch 25/30\n",
      "2333/2333 [==============================] - 0s 50us/sample - loss: 0.4113 - accuracy: 0.9147 - val_loss: 0.4154 - val_accuracy: 0.9080\n",
      "Epoch 26/30\n",
      "2333/2333 [==============================] - 0s 48us/sample - loss: 0.4110 - accuracy: 0.9151 - val_loss: 0.4146 - val_accuracy: 0.9080\n",
      "Epoch 27/30\n",
      "2333/2333 [==============================] - 0s 65us/sample - loss: 0.4111 - accuracy: 0.9151 - val_loss: 0.4150 - val_accuracy: 0.9080\n",
      "Epoch 28/30\n",
      "2333/2333 [==============================] - 0s 68us/sample - loss: 0.4110 - accuracy: 0.9147 - val_loss: 0.4145 - val_accuracy: 0.9080\n",
      "Epoch 29/30\n",
      "2333/2333 [==============================] - 0s 73us/sample - loss: 0.4108 - accuracy: 0.9156 - val_loss: 0.4145 - val_accuracy: 0.9080\n",
      "Epoch 30/30\n",
      "2333/2333 [==============================] - 0s 77us/sample - loss: 0.4107 - accuracy: 0.9160 - val_loss: 0.4142 - val_accuracy: 0.9090\n"
     ]
    },
    {
     "data": {
      "text/plain": [
       "<tensorflow.python.keras.callbacks.History at 0x1833a1f39c8>"
      ]
     },
     "execution_count": 89,
     "metadata": {},
     "output_type": "execute_result"
    }
   ],
   "source": [
    "model.fit(X_train, y_train,\n",
    "         batch_size=50,\n",
    "         epochs=30,\n",
    "         validation_data=(X_test, y_test))"
   ]
  },
  {
   "cell_type": "code",
   "execution_count": 90,
   "metadata": {},
   "outputs": [
    {
     "name": "stdout",
     "output_type": "stream",
     "text": [
      "WARNING:tensorflow:Falling back from v2 loop because of error: Failed to find data adapter that can handle input: <class 'pandas.core.frame.DataFrame'>, <class 'NoneType'>\n"
     ]
    }
   ],
   "source": [
    "y_pred = model.predict(X_test)"
   ]
  },
  {
   "cell_type": "code",
   "execution_count": 91,
   "metadata": {},
   "outputs": [],
   "source": [
    "y_pred2 = np.argmax(y_pred,axis = 1)"
   ]
  },
  {
   "cell_type": "code",
   "execution_count": 63,
   "metadata": {},
   "outputs": [],
   "source": [
    "from sklearn.metrics import accuracy_score, confusion_matrix, f1_score"
   ]
  },
  {
   "cell_type": "code",
   "execution_count": 92,
   "metadata": {},
   "outputs": [
    {
     "data": {
      "text/plain": [
       "0.909"
      ]
     },
     "execution_count": 92,
     "metadata": {},
     "output_type": "execute_result"
    }
   ],
   "source": [
    "accuracy_score(y_test, y_pred2)"
   ]
  },
  {
   "cell_type": "code",
   "execution_count": 93,
   "metadata": {},
   "outputs": [
    {
     "data": {
      "text/plain": [
       "array([[846,   9],\n",
       "       [ 82,  63]], dtype=int64)"
      ]
     },
     "execution_count": 93,
     "metadata": {},
     "output_type": "execute_result"
    }
   ],
   "source": [
    "confusion_matrix(y_test, y_pred2)"
   ]
  },
  {
   "cell_type": "code",
   "execution_count": 94,
   "metadata": {},
   "outputs": [
    {
     "data": {
      "text/plain": [
       "0.5806451612903225"
      ]
     },
     "execution_count": 94,
     "metadata": {},
     "output_type": "execute_result"
    }
   ],
   "source": [
    "f1_score(y_test, y_pred2)"
   ]
  },
  {
   "cell_type": "code",
   "execution_count": null,
   "metadata": {},
   "outputs": [],
   "source": []
  }
 ],
 "metadata": {
  "kernelspec": {
   "display_name": "Python 3",
   "language": "python",
   "name": "python3"
  },
  "language_info": {
   "codemirror_mode": {
    "name": "ipython",
    "version": 3
   },
   "file_extension": ".py",
   "mimetype": "text/x-python",
   "name": "python",
   "nbconvert_exporter": "python",
   "pygments_lexer": "ipython3",
   "version": "3.7.3"
  }
 },
 "nbformat": 4,
 "nbformat_minor": 4
}
