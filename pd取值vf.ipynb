{
 "cells": [
  {
   "cell_type": "code",
   "execution_count": 1,
   "metadata": {},
   "outputs": [],
   "source": [
    "# pandas 操作概要\n",
    "# 撰寫目的：主要在於往後要以python作分析時，資料處理運用\n",
    "# pandas 功能類似 R語言中的dataframe，其資料類型很像我們常用的excel\n",
    "# 因此在分析上(特別是結構化資料)，具有舉足輕重的地位\n",
    "# 資料來源以dlab上課的資料為主\n",
    "# 此處先假定以安裝完備 pandas 套件\n",
    "## 如未安裝，建用以 anaconda prompt 安裝\n",
    "## 輸入：pip install pandas "
   ]
  },
  {
   "cell_type": "code",
   "execution_count": 2,
   "metadata": {},
   "outputs": [],
   "source": [
    "import pandas as pd # 此為將 pandas 載入運作"
   ]
  },
  {
   "cell_type": "code",
   "execution_count": 3,
   "metadata": {},
   "outputs": [],
   "source": [
    "df = pd.read_excel(r'C:\\Users\\hsu\\Desktop\\test\\data.xlsx',\n",
    "                  encoding = 'utf-8') # 將資料載進 dataframe(注意自己的資料路徑)"
   ]
  },
  {
   "cell_type": "code",
   "execution_count": 7,
   "metadata": {},
   "outputs": [
    {
     "data": {
      "text/html": [
       "<div>\n",
       "<style scoped>\n",
       "    .dataframe tbody tr th:only-of-type {\n",
       "        vertical-align: middle;\n",
       "    }\n",
       "\n",
       "    .dataframe tbody tr th {\n",
       "        vertical-align: top;\n",
       "    }\n",
       "\n",
       "    .dataframe thead th {\n",
       "        text-align: right;\n",
       "    }\n",
       "</style>\n",
       "<table border=\"1\" class=\"dataframe\">\n",
       "  <thead>\n",
       "    <tr style=\"text-align: right;\">\n",
       "      <th></th>\n",
       "      <th>county</th>\n",
       "      <th>name</th>\n",
       "      <th>area</th>\n",
       "      <th>price</th>\n",
       "    </tr>\n",
       "  </thead>\n",
       "  <tbody>\n",
       "    <tr>\n",
       "      <th>0</th>\n",
       "      <td>台北市中山區</td>\n",
       "      <td>中山北路三段近結運民權西站~靠農安街~有OA家俱~</td>\n",
       "      <td>48.8坪/辦公</td>\n",
       "      <td>58,000元</td>\n",
       "    </tr>\n",
       "    <tr>\n",
       "      <th>1</th>\n",
       "      <td>台北市中正區</td>\n",
       "      <td>羅斯福路三段近捷運公館站~新生南路口~有廣告效果~</td>\n",
       "      <td>74.4坪/辦公</td>\n",
       "      <td>130,000元</td>\n",
       "    </tr>\n",
       "    <tr>\n",
       "      <th>2</th>\n",
       "      <td>台中市西區</td>\n",
       "      <td>向上北路超大裝潢套房（兩間房間打通）近草悟道</td>\n",
       "      <td>10坪/套房</td>\n",
       "      <td>8,000元</td>\n",
       "    </tr>\n",
       "    <tr>\n",
       "      <th>3</th>\n",
       "      <td>台北市信義區</td>\n",
       "      <td>忠孝東路五段近永春捷運~交通方便~生活機能佳</td>\n",
       "      <td>22.8坪/辦公</td>\n",
       "      <td>29,000元</td>\n",
       "    </tr>\n",
       "    <tr>\n",
       "      <th>4</th>\n",
       "      <td>新北市蘆洲區</td>\n",
       "      <td>永安南路二段全新渡假民宿風大套房/獨立洗衣機/廚房</td>\n",
       "      <td>11坪/套房</td>\n",
       "      <td>13,500元</td>\n",
       "    </tr>\n",
       "    <tr>\n",
       "      <th>5</th>\n",
       "      <td>台北市信義區</td>\n",
       "      <td>光復南路近捷運信義安和站~靠信義路~基隆路口~</td>\n",
       "      <td>38.6坪/辦公</td>\n",
       "      <td>42,000元</td>\n",
       "    </tr>\n",
       "    <tr>\n",
       "      <th>6</th>\n",
       "      <td>桃園市中壢區</td>\n",
       "      <td>青商路桃園青埔高鐵站全新完工全新裝潢全新傢俱</td>\n",
       "      <td>43坪/整層</td>\n",
       "      <td>23,000元</td>\n",
       "    </tr>\n",
       "    <tr>\n",
       "      <th>7</th>\n",
       "      <td>NaN</td>\n",
       "      <td>光復北路近小巨蛋捷運~交通方便~生活機能佳</td>\n",
       "      <td>36坪/辦公</td>\n",
       "      <td>36,000元</td>\n",
       "    </tr>\n",
       "    <tr>\n",
       "      <th>8</th>\n",
       "      <td>台南市北區</td>\n",
       "      <td>長榮路四段58巷近火車站,成大醫院成大,崑科大</td>\n",
       "      <td>6.5坪/套房</td>\n",
       "      <td>6,900元</td>\n",
       "    </tr>\n",
       "    <tr>\n",
       "      <th>9</th>\n",
       "      <td>台北市中山區</td>\n",
       "      <td>長安東路二段近建國北路,現有OA可使用~</td>\n",
       "      <td>33坪/辦公</td>\n",
       "      <td>36,300元</td>\n",
       "    </tr>\n",
       "    <tr>\n",
       "      <th>10</th>\n",
       "      <td>台北市內湖區</td>\n",
       "      <td>民權東路六段國道市區連結核心區方正開放挑高實用辦</td>\n",
       "      <td>114.8坪/辦公</td>\n",
       "      <td>120,235元</td>\n",
       "    </tr>\n",
       "    <tr>\n",
       "      <th>11</th>\n",
       "      <td>台中市龍井區</td>\n",
       "      <td>新興路51巷看過來！東海電梯套房~長短期出租，設備齊</td>\n",
       "      <td>7坪/套房</td>\n",
       "      <td>5,500元</td>\n",
       "    </tr>\n",
       "    <tr>\n",
       "      <th>12</th>\n",
       "      <td>台北市中山區</td>\n",
       "      <td>南京東路三段近捷運松江南京一層一戶高樓屋況佳適診所</td>\n",
       "      <td>85.5坪/辦公</td>\n",
       "      <td>120,000元</td>\n",
       "    </tr>\n",
       "    <tr>\n",
       "      <th>13</th>\n",
       "      <td>台北市松山區</td>\n",
       "      <td>基隆路一段近南京三民站南京東路五段旁優質屋況佳辦公</td>\n",
       "      <td>35.6坪/辦公</td>\n",
       "      <td>36,000元</td>\n",
       "    </tr>\n",
       "    <tr>\n",
       "      <th>14</th>\n",
       "      <td>台北市中山區</td>\n",
       "      <td>松江路近忠孝新生,南京松江站,南京東路</td>\n",
       "      <td>80坪/辦公</td>\n",
       "      <td>120,000元</td>\n",
       "    </tr>\n",
       "    <tr>\n",
       "      <th>15</th>\n",
       "      <td>台南市仁德區</td>\n",
       "      <td>二仁路一段155巷嘉南國際學苑B館雙人精緻上下舖套房</td>\n",
       "      <td>6坪/套房</td>\n",
       "      <td>5,800元</td>\n",
       "    </tr>\n",
       "    <tr>\n",
       "      <th>16</th>\n",
       "      <td>桃園市平鎮區</td>\n",
       "      <td>東豐路526巷全新靜巷獨立套房</td>\n",
       "      <td>7坪/套房</td>\n",
       "      <td>7,000元</td>\n",
       "    </tr>\n",
       "    <tr>\n",
       "      <th>17</th>\n",
       "      <td>台北市松山區</td>\n",
       "      <td>八德路四段近松山捷運站出口~饒河街~生活機能佳</td>\n",
       "      <td>48.3坪/辦公</td>\n",
       "      <td>50,000元</td>\n",
       "    </tr>\n",
       "    <tr>\n",
       "      <th>18</th>\n",
       "      <td>台北市內湖區</td>\n",
       "      <td>瑞湖街堤頂大道旁科技業密集區機能優屋況佳超推.</td>\n",
       "      <td>143.5坪/辦公</td>\n",
       "      <td>150,333元</td>\n",
       "    </tr>\n",
       "    <tr>\n",
       "      <th>19</th>\n",
       "      <td>台北市中山區</td>\n",
       "      <td>林森北路近捷運中山站~南京東路口~溫馨隔一小房~</td>\n",
       "      <td>22.3坪/住辦</td>\n",
       "      <td>24,000元</td>\n",
       "    </tr>\n",
       "    <tr>\n",
       "      <th>20</th>\n",
       "      <td>台北市中山區</td>\n",
       "      <td>松江路64巷松江南京站【松江公園旁】五星級雅房★限女</td>\n",
       "      <td>5坪/雅房</td>\n",
       "      <td>6,500元</td>\n",
       "    </tr>\n",
       "    <tr>\n",
       "      <th>21</th>\n",
       "      <td>台中市西屯區</td>\n",
       "      <td>河南路二段系統裝潢*獨洗*獨曬*衛浴開窗*大遠百</td>\n",
       "      <td>9坪/套房</td>\n",
       "      <td>6,999元</td>\n",
       "    </tr>\n",
       "    <tr>\n",
       "      <th>22</th>\n",
       "      <td>台北市中山區</td>\n",
       "      <td>松江路近松江南京捷運站,忠孝新生,A級純辦</td>\n",
       "      <td>146.2坪/辦公</td>\n",
       "      <td>219,270元</td>\n",
       "    </tr>\n",
       "    <tr>\n",
       "      <th>23</th>\n",
       "      <td>台中市東區</td>\n",
       "      <td>育英路樂成宮旁環境超佳的新套房</td>\n",
       "      <td>7.5坪/套房</td>\n",
       "      <td>6,500元</td>\n",
       "    </tr>\n",
       "    <tr>\n",
       "      <th>24</th>\n",
       "      <td>台北市中山區</td>\n",
       "      <td>建國北路一段近捷運快速道商務通勤超便利裝潢新穎超值選</td>\n",
       "      <td>78坪/辦公</td>\n",
       "      <td>101,304元</td>\n",
       "    </tr>\n",
       "    <tr>\n",
       "      <th>25</th>\n",
       "      <td>台南市中西區</td>\n",
       "      <td>民生路一段民生路一段~電梯套房出租《限女》</td>\n",
       "      <td>3坪/套房</td>\n",
       "      <td>3,000元</td>\n",
       "    </tr>\n",
       "    <tr>\n",
       "      <th>26</th>\n",
       "      <td>新北市永和區</td>\n",
       "      <td>永和路二段工商登記2000元,可特許</td>\n",
       "      <td>1坪/辦公</td>\n",
       "      <td>2,000元</td>\n",
       "    </tr>\n",
       "    <tr>\n",
       "      <th>27</th>\n",
       "      <td>台中市太平區</td>\n",
       "      <td>東平路家電齊全套房</td>\n",
       "      <td>10坪/套房</td>\n",
       "      <td>7,800元</td>\n",
       "    </tr>\n",
       "    <tr>\n",
       "      <th>28</th>\n",
       "      <td>台南市永康區</td>\n",
       "      <td>大仁街電梯、家俱全套月租4500</td>\n",
       "      <td>6坪/套房</td>\n",
       "      <td>4,500元</td>\n",
       "    </tr>\n",
       "    <tr>\n",
       "      <th>29</th>\n",
       "      <td>台北市大同區</td>\n",
       "      <td>延平北路一段69巷台北車站【月租飯店式】五星獨棟～電梯套房</td>\n",
       "      <td>8坪/套房</td>\n",
       "      <td>33,000元</td>\n",
       "    </tr>\n",
       "    <tr>\n",
       "      <th>30</th>\n",
       "      <td>新北市蘆洲區</td>\n",
       "      <td>正和街蘆洲市中心湧蓮寺旁,近三民高中捷運站</td>\n",
       "      <td>7坪/套房</td>\n",
       "      <td>12,000元</td>\n",
       "    </tr>\n",
       "    <tr>\n",
       "      <th>31</th>\n",
       "      <td>台中市西區</td>\n",
       "      <td>大業路文心路大業路家樂福，全新家俱大套房</td>\n",
       "      <td>8坪/套房</td>\n",
       "      <td>9,500元</td>\n",
       "    </tr>\n",
       "    <tr>\n",
       "      <th>32</th>\n",
       "      <td>新北市板橋區</td>\n",
       "      <td>華興街府中站捷運步行５分鐘時尚精緻套房</td>\n",
       "      <td>7坪/套房</td>\n",
       "      <td>9,000元</td>\n",
       "    </tr>\n",
       "    <tr>\n",
       "      <th>33</th>\n",
       "      <td>新竹市北區</td>\n",
       "      <td>延平路一段317巷★稀有獨立陽台洗衣機1樓前可停汽機車靜巷</td>\n",
       "      <td>8坪/套房</td>\n",
       "      <td>7,000元</td>\n",
       "    </tr>\n",
       "    <tr>\n",
       "      <th>34</th>\n",
       "      <td>台北市大安區</td>\n",
       "      <td>羅斯福路三段古亭,台電捷運站,適合補習班診所</td>\n",
       "      <td>83.2坪/辦公</td>\n",
       "      <td>100,000元</td>\n",
       "    </tr>\n",
       "    <tr>\n",
       "      <th>35</th>\n",
       "      <td>新竹市北區</td>\n",
       "      <td>勝利十二街平價全新套房出租✨交通便利✨✨</td>\n",
       "      <td>6.5坪/套房</td>\n",
       "      <td>6,500元</td>\n",
       "    </tr>\n",
       "    <tr>\n",
       "      <th>36</th>\n",
       "      <td>高雄市三民區</td>\n",
       "      <td>大昌二路432巷全新大樓管理套房(附車位)</td>\n",
       "      <td>5.5坪/套房</td>\n",
       "      <td>6,500元</td>\n",
       "    </tr>\n",
       "    <tr>\n",
       "      <th>37</th>\n",
       "      <td>台中市西屯區</td>\n",
       "      <td>長安路二段71巷一年新屋,超大套房,獨立洗衣機,機車位</td>\n",
       "      <td>12坪/套房</td>\n",
       "      <td>8,800元</td>\n",
       "    </tr>\n",
       "    <tr>\n",
       "      <th>38</th>\n",
       "      <td>台北市松山區</td>\n",
       "      <td>八德路二段近南京復興站~微風廣場~生活機能佳</td>\n",
       "      <td>17.2坪/辦公</td>\n",
       "      <td>NaN</td>\n",
       "    </tr>\n",
       "    <tr>\n",
       "      <th>39</th>\n",
       "      <td>台北市中正區</td>\n",
       "      <td>廈門街123巷古亭捷運站【牯嶺公園旁】五星級雅房～限女</td>\n",
       "      <td>5坪/雅房</td>\n",
       "      <td>6,500元</td>\n",
       "    </tr>\n",
       "  </tbody>\n",
       "</table>\n",
       "</div>"
      ],
      "text/plain": [
       "    county                           name       area     price\n",
       "0   台北市中山區      中山北路三段近結運民權西站~靠農安街~有OA家俱~   48.8坪/辦公   58,000元\n",
       "1   台北市中正區      羅斯福路三段近捷運公館站~新生南路口~有廣告效果~   74.4坪/辦公  130,000元\n",
       "2    台中市西區         向上北路超大裝潢套房（兩間房間打通）近草悟道     10坪/套房    8,000元\n",
       "3   台北市信義區         忠孝東路五段近永春捷運~交通方便~生活機能佳   22.8坪/辦公   29,000元\n",
       "4   新北市蘆洲區      永安南路二段全新渡假民宿風大套房/獨立洗衣機/廚房     11坪/套房   13,500元\n",
       "5   台北市信義區        光復南路近捷運信義安和站~靠信義路~基隆路口~   38.6坪/辦公   42,000元\n",
       "6   桃園市中壢區         青商路桃園青埔高鐵站全新完工全新裝潢全新傢俱     43坪/整層   23,000元\n",
       "7      NaN          光復北路近小巨蛋捷運~交通方便~生活機能佳     36坪/辦公   36,000元\n",
       "8    台南市北區        長榮路四段58巷近火車站,成大醫院成大,崑科大    6.5坪/套房    6,900元\n",
       "9   台北市中山區           長安東路二段近建國北路,現有OA可使用~     33坪/辦公   36,300元\n",
       "10  台北市內湖區       民權東路六段國道市區連結核心區方正開放挑高實用辦  114.8坪/辦公  120,235元\n",
       "11  台中市龍井區     新興路51巷看過來！東海電梯套房~長短期出租，設備齊      7坪/套房    5,500元\n",
       "12  台北市中山區      南京東路三段近捷運松江南京一層一戶高樓屋況佳適診所   85.5坪/辦公  120,000元\n",
       "13  台北市松山區      基隆路一段近南京三民站南京東路五段旁優質屋況佳辦公   35.6坪/辦公   36,000元\n",
       "14  台北市中山區            松江路近忠孝新生,南京松江站,南京東路     80坪/辦公  120,000元\n",
       "15  台南市仁德區     二仁路一段155巷嘉南國際學苑B館雙人精緻上下舖套房      6坪/套房    5,800元\n",
       "16  桃園市平鎮區                東豐路526巷全新靜巷獨立套房      7坪/套房    7,000元\n",
       "17  台北市松山區        八德路四段近松山捷運站出口~饒河街~生活機能佳   48.3坪/辦公   50,000元\n",
       "18  台北市內湖區        瑞湖街堤頂大道旁科技業密集區機能優屋況佳超推.  143.5坪/辦公  150,333元\n",
       "19  台北市中山區       林森北路近捷運中山站~南京東路口~溫馨隔一小房~   22.3坪/住辦   24,000元\n",
       "20  台北市中山區     松江路64巷松江南京站【松江公園旁】五星級雅房★限女      5坪/雅房    6,500元\n",
       "21  台中市西屯區       河南路二段系統裝潢*獨洗*獨曬*衛浴開窗*大遠百      9坪/套房    6,999元\n",
       "22  台北市中山區          松江路近松江南京捷運站,忠孝新生,A級純辦  146.2坪/辦公  219,270元\n",
       "23   台中市東區                育英路樂成宮旁環境超佳的新套房    7.5坪/套房    6,500元\n",
       "24  台北市中山區     建國北路一段近捷運快速道商務通勤超便利裝潢新穎超值選     78坪/辦公  101,304元\n",
       "25  台南市中西區          民生路一段民生路一段~電梯套房出租《限女》      3坪/套房    3,000元\n",
       "26  新北市永和區             永和路二段工商登記2000元,可特許      1坪/辦公    2,000元\n",
       "27  台中市太平區                      東平路家電齊全套房     10坪/套房    7,800元\n",
       "28  台南市永康區               大仁街電梯、家俱全套月租4500      6坪/套房    4,500元\n",
       "29  台北市大同區  延平北路一段69巷台北車站【月租飯店式】五星獨棟～電梯套房      8坪/套房   33,000元\n",
       "30  新北市蘆洲區          正和街蘆洲市中心湧蓮寺旁,近三民高中捷運站      7坪/套房   12,000元\n",
       "31   台中市西區           大業路文心路大業路家樂福，全新家俱大套房      8坪/套房    9,500元\n",
       "32  新北市板橋區            華興街府中站捷運步行５分鐘時尚精緻套房      7坪/套房    9,000元\n",
       "33   新竹市北區  延平路一段317巷★稀有獨立陽台洗衣機1樓前可停汽機車靜巷      8坪/套房    7,000元\n",
       "34  台北市大安區         羅斯福路三段古亭,台電捷運站,適合補習班診所   83.2坪/辦公  100,000元\n",
       "35   新竹市北區           勝利十二街平價全新套房出租✨交通便利✨✨    6.5坪/套房    6,500元\n",
       "36  高雄市三民區          大昌二路432巷全新大樓管理套房(附車位)    5.5坪/套房    6,500元\n",
       "37  台中市西屯區    長安路二段71巷一年新屋,超大套房,獨立洗衣機,機車位     12坪/套房    8,800元\n",
       "38  台北市松山區         八德路二段近南京復興站~微風廣場~生活機能佳   17.2坪/辦公       NaN\n",
       "39  台北市中正區    廈門街123巷古亭捷運站【牯嶺公園旁】五星級雅房～限女      5坪/雅房    6,500元"
      ]
     },
     "execution_count": 7,
     "metadata": {},
     "output_type": "execute_result"
    }
   ],
   "source": [
    "# 資料樣態\n",
    "df"
   ]
  },
  {
   "cell_type": "code",
   "execution_count": 6,
   "metadata": {},
   "outputs": [
    {
     "data": {
      "text/plain": [
       "(40, 4)"
      ]
     },
     "execution_count": 6,
     "metadata": {},
     "output_type": "execute_result"
    }
   ],
   "source": [
    "# 資料處理 1、shape (意為：幾列、幾欄)\n",
    "df.shape\n",
    "# 輸出的第一引數為 「row」，第二引數為 「columns」"
   ]
  },
  {
   "cell_type": "code",
   "execution_count": 10,
   "metadata": {},
   "outputs": [
    {
     "data": {
      "text/plain": [
       "160"
      ]
     },
     "execution_count": 10,
     "metadata": {},
     "output_type": "execute_result"
    }
   ],
   "source": [
    "# 資料處理 2、size (有幾個記錄(row x columns)，類似excel中有幾個儲存格)\n",
    "df.size\n",
    "# 40個 row，4個columns，相乘的話，就是有160個記錄"
   ]
  },
  {
   "cell_type": "code",
   "execution_count": 11,
   "metadata": {},
   "outputs": [
    {
     "data": {
      "text/plain": [
       "Index(['county', 'name', 'area', 'price'], dtype='object')"
      ]
     },
     "execution_count": 11,
     "metadata": {},
     "output_type": "execute_result"
    }
   ],
   "source": [
    "# 資料處理 3、columns (查看欄位名稱(統計中的變數名稱))\n",
    "df.columns\n",
    "# 欄位名稱有：county, name, area, price"
   ]
  },
  {
   "cell_type": "code",
   "execution_count": 12,
   "metadata": {},
   "outputs": [
    {
     "data": {
      "text/plain": [
       "county    object\n",
       "name      object\n",
       "area      object\n",
       "price     object\n",
       "dtype: object"
      ]
     },
     "execution_count": 12,
     "metadata": {},
     "output_type": "execute_result"
    }
   ],
   "source": [
    "# 資料處理 4、dtypes (查看各欄位的資料類型)\n",
    "df.dtypes\n",
    "# 類似 R 語言中的 str()功能"
   ]
  },
  {
   "cell_type": "code",
   "execution_count": 13,
   "metadata": {},
   "outputs": [
    {
     "data": {
      "text/plain": [
       "array([['台北市中山區', '中山北路三段近結運民權西站~靠農安街~有OA家俱~', '48.8坪/辦公', '58,000元'],\n",
       "       ['台北市中正區', '羅斯福路三段近捷運公館站~新生南路口~有廣告效果~', '74.4坪/辦公', '130,000元'],\n",
       "       ['台中市西區', '向上北路超大裝潢套房（兩間房間打通）近草悟道', '10坪/套房', '8,000元'],\n",
       "       ['台北市信義區', '忠孝東路五段近永春捷運~交通方便~生活機能佳', '22.8坪/辦公', '29,000元'],\n",
       "       ['新北市蘆洲區', '永安南路二段全新渡假民宿風大套房/獨立洗衣機/廚房', '11坪/套房', '13,500元'],\n",
       "       ['台北市信義區', '光復南路近捷運信義安和站~靠信義路~基隆路口~', '38.6坪/辦公', '42,000元'],\n",
       "       ['桃園市中壢區', '青商路桃園青埔高鐵站全新完工全新裝潢全新傢俱', '43坪/整層', '23,000元'],\n",
       "       [nan, '光復北路近小巨蛋捷運~交通方便~生活機能佳', '36坪/辦公', '36,000元'],\n",
       "       ['台南市北區', '長榮路四段58巷近火車站,成大醫院成大,崑科大', '6.5坪/套房', '6,900元'],\n",
       "       ['台北市中山區', '長安東路二段近建國北路,現有OA可使用~', '33坪/辦公', '36,300元'],\n",
       "       ['台北市內湖區', '民權東路六段國道市區連結核心區方正開放挑高實用辦', '114.8坪/辦公', '120,235元'],\n",
       "       ['台中市龍井區', '新興路51巷看過來！東海電梯套房~長短期出租，設備齊', '7坪/套房', '5,500元'],\n",
       "       ['台北市中山區', '南京東路三段近捷運松江南京一層一戶高樓屋況佳適診所', '85.5坪/辦公', '120,000元'],\n",
       "       ['台北市松山區', '基隆路一段近南京三民站南京東路五段旁優質屋況佳辦公', '35.6坪/辦公', '36,000元'],\n",
       "       ['台北市中山區', '松江路近忠孝新生,南京松江站,南京東路', '80坪/辦公', '120,000元'],\n",
       "       ['台南市仁德區', '二仁路一段155巷嘉南國際學苑B館雙人精緻上下舖套房', '6坪/套房', '5,800元'],\n",
       "       ['桃園市平鎮區', '東豐路526巷全新靜巷獨立套房', '7坪/套房', '7,000元'],\n",
       "       ['台北市松山區', '八德路四段近松山捷運站出口~饒河街~生活機能佳', '48.3坪/辦公', '50,000元'],\n",
       "       ['台北市內湖區', '瑞湖街堤頂大道旁科技業密集區機能優屋況佳超推.', '143.5坪/辦公', '150,333元'],\n",
       "       ['台北市中山區', '林森北路近捷運中山站~南京東路口~溫馨隔一小房~', '22.3坪/住辦', '24,000元'],\n",
       "       ['台北市中山區', '松江路64巷松江南京站【松江公園旁】五星級雅房★限女', '5坪/雅房', '6,500元'],\n",
       "       ['台中市西屯區', '河南路二段系統裝潢*獨洗*獨曬*衛浴開窗*大遠百', '9坪/套房', '6,999元'],\n",
       "       ['台北市中山區', '松江路近松江南京捷運站,忠孝新生,A級純辦', '146.2坪/辦公', '219,270元'],\n",
       "       ['台中市東區', '育英路樂成宮旁環境超佳的新套房', '7.5坪/套房', '6,500元'],\n",
       "       ['台北市中山區', '建國北路一段近捷運快速道商務通勤超便利裝潢新穎超值選', '78坪/辦公', '101,304元'],\n",
       "       ['台南市中西區', '民生路一段民生路一段~電梯套房出租《限女》', '3坪/套房', '3,000元'],\n",
       "       ['新北市永和區', '永和路二段工商登記2000元,可特許', '1坪/辦公', '2,000元'],\n",
       "       ['台中市太平區', '東平路家電齊全套房', '10坪/套房', '7,800元'],\n",
       "       ['台南市永康區', '大仁街電梯、家俱全套月租4500', '6坪/套房', '4,500元'],\n",
       "       ['台北市大同區', '延平北路一段69巷台北車站【月租飯店式】五星獨棟～電梯套房', '8坪/套房', '33,000元'],\n",
       "       ['新北市蘆洲區', '正和街蘆洲市中心湧蓮寺旁,近三民高中捷運站', '7坪/套房', '12,000元'],\n",
       "       ['台中市西區', '大業路文心路大業路家樂福，全新家俱大套房', '8坪/套房', '9,500元'],\n",
       "       ['新北市板橋區', '華興街府中站捷運步行５分鐘時尚精緻套房', '7坪/套房', '9,000元'],\n",
       "       ['新竹市北區', '延平路一段317巷★稀有獨立陽台洗衣機1樓前可停汽機車靜巷', '8坪/套房', '7,000元'],\n",
       "       ['台北市大安區', '羅斯福路三段古亭,台電捷運站,適合補習班診所', '83.2坪/辦公', '100,000元'],\n",
       "       ['新竹市北區', '勝利十二街平價全新套房出租✨交通便利✨✨', '6.5坪/套房', '6,500元'],\n",
       "       ['高雄市三民區', '大昌二路432巷全新大樓管理套房(附車位)', '5.5坪/套房', '6,500元'],\n",
       "       ['台中市西屯區', '長安路二段71巷一年新屋,超大套房,獨立洗衣機,機車位', '12坪/套房', '8,800元'],\n",
       "       ['台北市松山區', '八德路二段近南京復興站~微風廣場~生活機能佳', '17.2坪/辦公', nan],\n",
       "       ['台北市中正區', '廈門街123巷古亭捷運站【牯嶺公園旁】五星級雅房～限女', '5坪/雅房', '6,500元']],\n",
       "      dtype=object)"
      ]
     },
     "execution_count": 13,
     "metadata": {},
     "output_type": "execute_result"
    }
   ],
   "source": [
    "# 資料處理 5、values (查看資料)\n",
    "df.values"
   ]
  },
  {
   "cell_type": "code",
   "execution_count": 14,
   "metadata": {},
   "outputs": [
    {
     "data": {
      "text/plain": [
       "RangeIndex(start=0, stop=40, step=1)"
      ]
     },
     "execution_count": 14,
     "metadata": {},
     "output_type": "execute_result"
    }
   ],
   "source": [
    "# 資料處理 6、index (dataframe的引數(概念類似資料位置))\n",
    "df.index"
   ]
  },
  {
   "cell_type": "code",
   "execution_count": 15,
   "metadata": {},
   "outputs": [
    {
     "data": {
      "text/html": [
       "<div>\n",
       "<style scoped>\n",
       "    .dataframe tbody tr th:only-of-type {\n",
       "        vertical-align: middle;\n",
       "    }\n",
       "\n",
       "    .dataframe tbody tr th {\n",
       "        vertical-align: top;\n",
       "    }\n",
       "\n",
       "    .dataframe thead th {\n",
       "        text-align: right;\n",
       "    }\n",
       "</style>\n",
       "<table border=\"1\" class=\"dataframe\">\n",
       "  <thead>\n",
       "    <tr style=\"text-align: right;\">\n",
       "      <th></th>\n",
       "      <th>county</th>\n",
       "      <th>name</th>\n",
       "      <th>area</th>\n",
       "      <th>price</th>\n",
       "    </tr>\n",
       "  </thead>\n",
       "  <tbody>\n",
       "    <tr>\n",
       "      <th>0</th>\n",
       "      <td>台北市中山區</td>\n",
       "      <td>中山北路三段近結運民權西站~靠農安街~有OA家俱~</td>\n",
       "      <td>48.8坪/辦公</td>\n",
       "      <td>58,000元</td>\n",
       "    </tr>\n",
       "    <tr>\n",
       "      <th>1</th>\n",
       "      <td>台北市中正區</td>\n",
       "      <td>羅斯福路三段近捷運公館站~新生南路口~有廣告效果~</td>\n",
       "      <td>74.4坪/辦公</td>\n",
       "      <td>130,000元</td>\n",
       "    </tr>\n",
       "    <tr>\n",
       "      <th>2</th>\n",
       "      <td>台中市西區</td>\n",
       "      <td>向上北路超大裝潢套房（兩間房間打通）近草悟道</td>\n",
       "      <td>10坪/套房</td>\n",
       "      <td>8,000元</td>\n",
       "    </tr>\n",
       "    <tr>\n",
       "      <th>3</th>\n",
       "      <td>台北市信義區</td>\n",
       "      <td>忠孝東路五段近永春捷運~交通方便~生活機能佳</td>\n",
       "      <td>22.8坪/辦公</td>\n",
       "      <td>29,000元</td>\n",
       "    </tr>\n",
       "    <tr>\n",
       "      <th>4</th>\n",
       "      <td>新北市蘆洲區</td>\n",
       "      <td>永安南路二段全新渡假民宿風大套房/獨立洗衣機/廚房</td>\n",
       "      <td>11坪/套房</td>\n",
       "      <td>13,500元</td>\n",
       "    </tr>\n",
       "  </tbody>\n",
       "</table>\n",
       "</div>"
      ],
      "text/plain": [
       "   county                       name      area     price\n",
       "0  台北市中山區  中山北路三段近結運民權西站~靠農安街~有OA家俱~  48.8坪/辦公   58,000元\n",
       "1  台北市中正區  羅斯福路三段近捷運公館站~新生南路口~有廣告效果~  74.4坪/辦公  130,000元\n",
       "2   台中市西區     向上北路超大裝潢套房（兩間房間打通）近草悟道    10坪/套房    8,000元\n",
       "3  台北市信義區     忠孝東路五段近永春捷運~交通方便~生活機能佳  22.8坪/辦公   29,000元\n",
       "4  新北市蘆洲區  永安南路二段全新渡假民宿風大套房/獨立洗衣機/廚房    11坪/套房   13,500元"
      ]
     },
     "execution_count": 15,
     "metadata": {},
     "output_type": "execute_result"
    }
   ],
   "source": [
    "# 資料處理 7、head() (取出前五筆資料)\n",
    "df.head()\n",
    "# ()中，可輸入欲輸出幾 row 的值"
   ]
  },
  {
   "cell_type": "code",
   "execution_count": 16,
   "metadata": {},
   "outputs": [
    {
     "data": {
      "text/html": [
       "<div>\n",
       "<style scoped>\n",
       "    .dataframe tbody tr th:only-of-type {\n",
       "        vertical-align: middle;\n",
       "    }\n",
       "\n",
       "    .dataframe tbody tr th {\n",
       "        vertical-align: top;\n",
       "    }\n",
       "\n",
       "    .dataframe thead th {\n",
       "        text-align: right;\n",
       "    }\n",
       "</style>\n",
       "<table border=\"1\" class=\"dataframe\">\n",
       "  <thead>\n",
       "    <tr style=\"text-align: right;\">\n",
       "      <th></th>\n",
       "      <th>county</th>\n",
       "      <th>name</th>\n",
       "      <th>area</th>\n",
       "      <th>price</th>\n",
       "    </tr>\n",
       "  </thead>\n",
       "  <tbody>\n",
       "    <tr>\n",
       "      <th>35</th>\n",
       "      <td>新竹市北區</td>\n",
       "      <td>勝利十二街平價全新套房出租✨交通便利✨✨</td>\n",
       "      <td>6.5坪/套房</td>\n",
       "      <td>6,500元</td>\n",
       "    </tr>\n",
       "    <tr>\n",
       "      <th>36</th>\n",
       "      <td>高雄市三民區</td>\n",
       "      <td>大昌二路432巷全新大樓管理套房(附車位)</td>\n",
       "      <td>5.5坪/套房</td>\n",
       "      <td>6,500元</td>\n",
       "    </tr>\n",
       "    <tr>\n",
       "      <th>37</th>\n",
       "      <td>台中市西屯區</td>\n",
       "      <td>長安路二段71巷一年新屋,超大套房,獨立洗衣機,機車位</td>\n",
       "      <td>12坪/套房</td>\n",
       "      <td>8,800元</td>\n",
       "    </tr>\n",
       "    <tr>\n",
       "      <th>38</th>\n",
       "      <td>台北市松山區</td>\n",
       "      <td>八德路二段近南京復興站~微風廣場~生活機能佳</td>\n",
       "      <td>17.2坪/辦公</td>\n",
       "      <td>NaN</td>\n",
       "    </tr>\n",
       "    <tr>\n",
       "      <th>39</th>\n",
       "      <td>台北市中正區</td>\n",
       "      <td>廈門街123巷古亭捷運站【牯嶺公園旁】五星級雅房～限女</td>\n",
       "      <td>5坪/雅房</td>\n",
       "      <td>6,500元</td>\n",
       "    </tr>\n",
       "  </tbody>\n",
       "</table>\n",
       "</div>"
      ],
      "text/plain": [
       "    county                         name      area   price\n",
       "35   新竹市北區         勝利十二街平價全新套房出租✨交通便利✨✨   6.5坪/套房  6,500元\n",
       "36  高雄市三民區        大昌二路432巷全新大樓管理套房(附車位)   5.5坪/套房  6,500元\n",
       "37  台中市西屯區  長安路二段71巷一年新屋,超大套房,獨立洗衣機,機車位    12坪/套房  8,800元\n",
       "38  台北市松山區       八德路二段近南京復興站~微風廣場~生活機能佳  17.2坪/辦公     NaN\n",
       "39  台北市中正區  廈門街123巷古亭捷運站【牯嶺公園旁】五星級雅房～限女     5坪/雅房  6,500元"
      ]
     },
     "execution_count": 16,
     "metadata": {},
     "output_type": "execute_result"
    }
   ],
   "source": [
    "# 資料處理 8、tail() (取出後五筆的資料)\n",
    "df.tail()\n",
    "# ()中，可輸入欲輸出幾 row 的值"
   ]
  },
  {
   "cell_type": "code",
   "execution_count": 17,
   "metadata": {},
   "outputs": [
    {
     "name": "stdout",
     "output_type": "stream",
     "text": [
      "<class 'pandas.core.frame.DataFrame'>\n",
      "RangeIndex: 40 entries, 0 to 39\n",
      "Data columns (total 4 columns):\n",
      "county    39 non-null object\n",
      "name      40 non-null object\n",
      "area      40 non-null object\n",
      "price     39 non-null object\n",
      "dtypes: object(4)\n",
      "memory usage: 1.3+ KB\n"
     ]
    }
   ],
   "source": [
    "# 資料處理 9、info (查看dataframe相關資訊)\n",
    "df.info()"
   ]
  },
  {
   "cell_type": "code",
   "execution_count": 18,
   "metadata": {},
   "outputs": [],
   "source": [
    "##### 上述 9 種資料處理的方式，可以使我們更佳了解我們的資料。\n",
    "# 之後會介紹如何 「 取值 」"
   ]
  },
  {
   "cell_type": "code",
   "execution_count": 21,
   "metadata": {},
   "outputs": [
    {
     "name": "stdout",
     "output_type": "stream",
     "text": [
      "0     台北市中山區\n",
      "1     台北市中正區\n",
      "2      台中市西區\n",
      "3     台北市信義區\n",
      "4     新北市蘆洲區\n",
      "5     台北市信義區\n",
      "6     桃園市中壢區\n",
      "7        NaN\n",
      "8      台南市北區\n",
      "9     台北市中山區\n",
      "10    台北市內湖區\n",
      "11    台中市龍井區\n",
      "12    台北市中山區\n",
      "13    台北市松山區\n",
      "14    台北市中山區\n",
      "15    台南市仁德區\n",
      "16    桃園市平鎮區\n",
      "17    台北市松山區\n",
      "18    台北市內湖區\n",
      "19    台北市中山區\n",
      "20    台北市中山區\n",
      "21    台中市西屯區\n",
      "22    台北市中山區\n",
      "23     台中市東區\n",
      "24    台北市中山區\n",
      "25    台南市中西區\n",
      "26    新北市永和區\n",
      "27    台中市太平區\n",
      "28    台南市永康區\n",
      "29    台北市大同區\n",
      "30    新北市蘆洲區\n",
      "31     台中市西區\n",
      "32    新北市板橋區\n",
      "33     新竹市北區\n",
      "34    台北市大安區\n",
      "35     新竹市北區\n",
      "36    高雄市三民區\n",
      "37    台中市西屯區\n",
      "38    台北市松山區\n",
      "39    台北市中正區\n",
      "Name: county, dtype: object\n",
      "    county       area\n",
      "0   台北市中山區   48.8坪/辦公\n",
      "1   台北市中正區   74.4坪/辦公\n",
      "2    台中市西區     10坪/套房\n",
      "3   台北市信義區   22.8坪/辦公\n",
      "4   新北市蘆洲區     11坪/套房\n",
      "5   台北市信義區   38.6坪/辦公\n",
      "6   桃園市中壢區     43坪/整層\n",
      "7      NaN     36坪/辦公\n",
      "8    台南市北區    6.5坪/套房\n",
      "9   台北市中山區     33坪/辦公\n",
      "10  台北市內湖區  114.8坪/辦公\n",
      "11  台中市龍井區      7坪/套房\n",
      "12  台北市中山區   85.5坪/辦公\n",
      "13  台北市松山區   35.6坪/辦公\n",
      "14  台北市中山區     80坪/辦公\n",
      "15  台南市仁德區      6坪/套房\n",
      "16  桃園市平鎮區      7坪/套房\n",
      "17  台北市松山區   48.3坪/辦公\n",
      "18  台北市內湖區  143.5坪/辦公\n",
      "19  台北市中山區   22.3坪/住辦\n",
      "20  台北市中山區      5坪/雅房\n",
      "21  台中市西屯區      9坪/套房\n",
      "22  台北市中山區  146.2坪/辦公\n",
      "23   台中市東區    7.5坪/套房\n",
      "24  台北市中山區     78坪/辦公\n",
      "25  台南市中西區      3坪/套房\n",
      "26  新北市永和區      1坪/辦公\n",
      "27  台中市太平區     10坪/套房\n",
      "28  台南市永康區      6坪/套房\n",
      "29  台北市大同區      8坪/套房\n",
      "30  新北市蘆洲區      7坪/套房\n",
      "31   台中市西區      8坪/套房\n",
      "32  新北市板橋區      7坪/套房\n",
      "33   新竹市北區      8坪/套房\n",
      "34  台北市大安區   83.2坪/辦公\n",
      "35   新竹市北區    6.5坪/套房\n",
      "36  高雄市三民區    5.5坪/套房\n",
      "37  台中市西屯區     12坪/套房\n",
      "38  台北市松山區   17.2坪/辦公\n",
      "39  台北市中正區      5坪/雅房\n"
     ]
    }
   ],
   "source": [
    "print(df['county']) # 取出 county 欄位的值\n",
    "print(df[['county','area']]) # 取 county, area 二個欄位的值\n",
    "# 相較於取一個欄位，如果要取二欄以上的值，需 [[]] 二個中括號，才能執行\n",
    "# 如何在同一個 anaconda cell中，要輸出二個以上(含)的資料，就必須用print()這個函數"
   ]
  },
  {
   "cell_type": "code",
   "execution_count": 30,
   "metadata": {},
   "outputs": [
    {
     "name": "stdout",
     "output_type": "stream",
     "text": [
      "台北市中山區\n"
     ]
    }
   ],
   "source": [
    "print(df['county'][0]) # 取出 county 欄位第一(row)個值"
   ]
  },
  {
   "cell_type": "code",
   "execution_count": 31,
   "metadata": {},
   "outputs": [
    {
     "name": "stdout",
     "output_type": "stream",
     "text": [
      "0    台北市中山區\n",
      "1    台北市中正區\n",
      "2     台中市西區\n",
      "3    台北市信義區\n",
      "4    新北市蘆洲區\n",
      "Name: county, dtype: object\n"
     ]
    }
   ],
   "source": [
    "print(df['county'][0:5]) # 取出 county 欄位第一至第四個\n",
    "# 注意：python與 R 其中一個最大的差異為：python是從 0 開始計算；R是從 1 開始計算\n",
    "# 因此[0:5]的值，其實是從第一筆到第四筆。\n",
    "# 比較好想的方式為：[第一引數,第二引數]。(第一引數 到 第二引數 - 1)"
   ]
  },
  {
   "cell_type": "code",
   "execution_count": 32,
   "metadata": {},
   "outputs": [
    {
     "name": "stdout",
     "output_type": "stream",
     "text": [
      "   county      area\n",
      "0  台北市中山區  48.8坪/辦公\n",
      "1  台北市中正區  74.4坪/辦公\n",
      "2   台中市西區    10坪/套房\n",
      "3  台北市信義區  22.8坪/辦公\n",
      "4  新北市蘆洲區    11坪/套房\n"
     ]
    }
   ],
   "source": [
    "print(df[['county','area']][0:5]) # 此為二欄的取值\n",
    "# 注意：二欄以上需以二個中括號取值"
   ]
  },
  {
   "cell_type": "code",
   "execution_count": 48,
   "metadata": {},
   "outputs": [
    {
     "name": "stdout",
     "output_type": "stream",
     "text": [
      "county    台北市中正區\n",
      "Name: 1, dtype: object\n",
      "   county      area\n",
      "1  台北市中正區  74.4坪/辦公\n",
      "2   台中市西區    10坪/套房\n",
      "3  台北市信義區  22.8坪/辦公\n",
      "4  新北市蘆洲區    11坪/套房\n",
      "    county                           name       area     price\n",
      "0   台北市中山區      中山北路三段近結運民權西站~靠農安街~有OA家俱~   48.8坪/辦公   58,000元\n",
      "1   台北市中正區      羅斯福路三段近捷運公館站~新生南路口~有廣告效果~   74.4坪/辦公  130,000元\n",
      "2    台中市西區         向上北路超大裝潢套房（兩間房間打通）近草悟道     10坪/套房    8,000元\n",
      "3   台北市信義區         忠孝東路五段近永春捷運~交通方便~生活機能佳   22.8坪/辦公   29,000元\n",
      "4   新北市蘆洲區      永安南路二段全新渡假民宿風大套房/獨立洗衣機/廚房     11坪/套房   13,500元\n",
      "5   台北市信義區        光復南路近捷運信義安和站~靠信義路~基隆路口~   38.6坪/辦公   42,000元\n",
      "6   桃園市中壢區         青商路桃園青埔高鐵站全新完工全新裝潢全新傢俱     43坪/整層   23,000元\n",
      "7      NaN          光復北路近小巨蛋捷運~交通方便~生活機能佳     36坪/辦公   36,000元\n",
      "8    台南市北區        長榮路四段58巷近火車站,成大醫院成大,崑科大    6.5坪/套房    6,900元\n",
      "9   台北市中山區           長安東路二段近建國北路,現有OA可使用~     33坪/辦公   36,300元\n",
      "10  台北市內湖區       民權東路六段國道市區連結核心區方正開放挑高實用辦  114.8坪/辦公  120,235元\n",
      "11  台中市龍井區     新興路51巷看過來！東海電梯套房~長短期出租，設備齊      7坪/套房    5,500元\n",
      "12  台北市中山區      南京東路三段近捷運松江南京一層一戶高樓屋況佳適診所   85.5坪/辦公  120,000元\n",
      "13  台北市松山區      基隆路一段近南京三民站南京東路五段旁優質屋況佳辦公   35.6坪/辦公   36,000元\n",
      "14  台北市中山區            松江路近忠孝新生,南京松江站,南京東路     80坪/辦公  120,000元\n",
      "15  台南市仁德區     二仁路一段155巷嘉南國際學苑B館雙人精緻上下舖套房      6坪/套房    5,800元\n",
      "16  桃園市平鎮區                東豐路526巷全新靜巷獨立套房      7坪/套房    7,000元\n",
      "17  台北市松山區        八德路四段近松山捷運站出口~饒河街~生活機能佳   48.3坪/辦公   50,000元\n",
      "18  台北市內湖區        瑞湖街堤頂大道旁科技業密集區機能優屋況佳超推.  143.5坪/辦公  150,333元\n",
      "19  台北市中山區       林森北路近捷運中山站~南京東路口~溫馨隔一小房~   22.3坪/住辦   24,000元\n",
      "20  台北市中山區     松江路64巷松江南京站【松江公園旁】五星級雅房★限女      5坪/雅房    6,500元\n",
      "21  台中市西屯區       河南路二段系統裝潢*獨洗*獨曬*衛浴開窗*大遠百      9坪/套房    6,999元\n",
      "22  台北市中山區          松江路近松江南京捷運站,忠孝新生,A級純辦  146.2坪/辦公  219,270元\n",
      "23   台中市東區                育英路樂成宮旁環境超佳的新套房    7.5坪/套房    6,500元\n",
      "24  台北市中山區     建國北路一段近捷運快速道商務通勤超便利裝潢新穎超值選     78坪/辦公  101,304元\n",
      "25  台南市中西區          民生路一段民生路一段~電梯套房出租《限女》      3坪/套房    3,000元\n",
      "26  新北市永和區             永和路二段工商登記2000元,可特許      1坪/辦公    2,000元\n",
      "27  台中市太平區                      東平路家電齊全套房     10坪/套房    7,800元\n",
      "28  台南市永康區               大仁街電梯、家俱全套月租4500      6坪/套房    4,500元\n",
      "29  台北市大同區  延平北路一段69巷台北車站【月租飯店式】五星獨棟～電梯套房      8坪/套房   33,000元\n",
      "30  新北市蘆洲區          正和街蘆洲市中心湧蓮寺旁,近三民高中捷運站      7坪/套房   12,000元\n",
      "31   台中市西區           大業路文心路大業路家樂福，全新家俱大套房      8坪/套房    9,500元\n",
      "32  新北市板橋區            華興街府中站捷運步行５分鐘時尚精緻套房      7坪/套房    9,000元\n",
      "33   新竹市北區  延平路一段317巷★稀有獨立陽台洗衣機1樓前可停汽機車靜巷      8坪/套房    7,000元\n",
      "34  台北市大安區         羅斯福路三段古亭,台電捷運站,適合補習班診所   83.2坪/辦公  100,000元\n",
      "35   新竹市北區           勝利十二街平價全新套房出租✨交通便利✨✨    6.5坪/套房    6,500元\n",
      "36  高雄市三民區          大昌二路432巷全新大樓管理套房(附車位)    5.5坪/套房    6,500元\n",
      "37  台中市西屯區    長安路二段71巷一年新屋,超大套房,獨立洗衣機,機車位     12坪/套房    8,800元\n",
      "38  台北市松山區         八德路二段近南京復興站~微風廣場~生活機能佳   17.2坪/辦公       NaN\n",
      "39  台北市中正區    廈門街123巷古亭捷運站【牯嶺公園旁】五星級雅房～限女      5坪/雅房    6,500元\n",
      "    county\n",
      "0   台北市中山區\n",
      "1   台北市中正區\n",
      "2    台中市西區\n",
      "3   台北市信義區\n",
      "4   新北市蘆洲區\n",
      "5   台北市信義區\n",
      "6   桃園市中壢區\n",
      "7      NaN\n",
      "8    台南市北區\n",
      "9   台北市中山區\n",
      "10  台北市內湖區\n",
      "11  台中市龍井區\n",
      "12  台北市中山區\n",
      "13  台北市松山區\n",
      "14  台北市中山區\n",
      "15  台南市仁德區\n",
      "16  桃園市平鎮區\n",
      "17  台北市松山區\n",
      "18  台北市內湖區\n",
      "19  台北市中山區\n",
      "20  台北市中山區\n",
      "21  台中市西屯區\n",
      "22  台北市中山區\n",
      "23   台中市東區\n",
      "24  台北市中山區\n",
      "25  台南市中西區\n",
      "26  新北市永和區\n",
      "27  台中市太平區\n",
      "28  台南市永康區\n",
      "29  台北市大同區\n",
      "30  新北市蘆洲區\n",
      "31   台中市西區\n",
      "32  新北市板橋區\n",
      "33   新竹市北區\n",
      "34  台北市大安區\n",
      "35   新竹市北區\n",
      "36  高雄市三民區\n",
      "37  台中市西屯區\n",
      "38  台北市松山區\n",
      "39  台北市中正區\n"
     ]
    }
   ],
   "source": [
    "# 另一種取值方式 (與 R 語言類似，是以index方式)\n",
    "# df.loc[第一引數, 第二引數]\n",
    "# 第一引數為 row，第二引數為 columns\n",
    "print(df.loc[1,['county']]) # 取值 county 欄位,第1筆資料\n",
    "print(df.loc[1:4,['county','area']]) # 取 county, area 第1筆到第4筆資料\n",
    "# 此處運用.loc這個指令，因此row取值時，不用-1\n",
    "print(df.loc[:]) # 取全部資料\n",
    "print(df.loc[:,['county']]) # 取 county 欄位，全部 row 的資料"
   ]
  },
  {
   "cell_type": "code",
   "execution_count": 50,
   "metadata": {},
   "outputs": [
    {
     "data": {
      "text/plain": [
       "county    True\n",
       "name      True\n",
       "area      True\n",
       "price     True\n",
       "dtype: bool"
      ]
     },
     "execution_count": 50,
     "metadata": {},
     "output_type": "execute_result"
    }
   ],
   "source": [
    "# 檢查是否有空值 isnull() 指令\n",
    "df.isnull() # 資料中出現 True 就是有空值\n",
    "# 此方法最大問題為，無法以直觀方式看出，何欄何列有空值"
   ]
  },
  {
   "cell_type": "code",
   "execution_count": 53,
   "metadata": {},
   "outputs": [
    {
     "data": {
      "text/plain": [
       "county     True\n",
       "name      False\n",
       "area      False\n",
       "price      True\n",
       "dtype: bool"
      ]
     },
     "execution_count": 53,
     "metadata": {},
     "output_type": "execute_result"
    }
   ],
   "source": [
    "df.isnull().any() # 此語法是在看那一個欄位有剛值\n",
    "# 從輸出的資料來看，欄位 county, price 有空值"
   ]
  },
  {
   "cell_type": "code",
   "execution_count": 61,
   "metadata": {},
   "outputs": [
    {
     "name": "stdout",
     "output_type": "stream",
     "text": [
      "    county   name   area  price\n",
      "0    False  False  False  False\n",
      "1    False  False  False  False\n",
      "2    False  False  False  False\n",
      "3    False  False  False  False\n",
      "4    False  False  False  False\n",
      "5    False  False  False  False\n",
      "6    False  False  False  False\n",
      "7     True  False  False  False\n",
      "8    False  False  False  False\n",
      "9    False  False  False  False\n",
      "10   False  False  False  False\n",
      "11   False  False  False  False\n",
      "12   False  False  False  False\n",
      "13   False  False  False  False\n",
      "14   False  False  False  False\n",
      "15   False  False  False  False\n",
      "16   False  False  False  False\n",
      "17   False  False  False  False\n",
      "18   False  False  False  False\n",
      "19   False  False  False  False\n",
      "20   False  False  False  False\n",
      "21   False  False  False  False\n",
      "22   False  False  False  False\n",
      "23   False  False  False  False\n",
      "24   False  False  False  False\n",
      "25   False  False  False  False\n",
      "26   False  False  False  False\n",
      "27   False  False  False  False\n",
      "28   False  False  False  False\n",
      "29   False  False  False  False\n",
      "30   False  False  False  False\n",
      "31   False  False  False  False\n",
      "32   False  False  False  False\n",
      "33   False  False  False  False\n",
      "34   False  False  False  False\n",
      "35   False  False  False  False\n",
      "36   False  False  False  False\n",
      "37   False  False  False  False\n",
      "38   False  False  False   True\n",
      "39   False  False  False  False\n",
      "[[False False False False]\n",
      " [False False False False]\n",
      " [False False False False]\n",
      " [False False False False]\n",
      " [False False False False]\n",
      " [False False False False]\n",
      " [False False False False]\n",
      " [ True False False False]\n",
      " [False False False False]\n",
      " [False False False False]\n",
      " [False False False False]\n",
      " [False False False False]\n",
      " [False False False False]\n",
      " [False False False False]\n",
      " [False False False False]\n",
      " [False False False False]\n",
      " [False False False False]\n",
      " [False False False False]\n",
      " [False False False False]\n",
      " [False False False False]\n",
      " [False False False False]\n",
      " [False False False False]\n",
      " [False False False False]\n",
      " [False False False False]\n",
      " [False False False False]\n",
      " [False False False False]\n",
      " [False False False False]\n",
      " [False False False False]\n",
      " [False False False False]\n",
      " [False False False False]\n",
      " [False False False False]\n",
      " [False False False False]\n",
      " [False False False False]\n",
      " [False False False False]\n",
      " [False False False False]\n",
      " [False False False False]\n",
      " [False False False False]\n",
      " [False False False False]\n",
      " [False False False  True]\n",
      " [False False False False]]\n",
      "    county                    name      area    price\n",
      "7      NaN   光復北路近小巨蛋捷運~交通方便~生活機能佳    36坪/辦公  36,000元\n",
      "38  台北市松山區  八德路二段近南京復興站~微風廣場~生活機能佳  17.2坪/辦公      NaN\n"
     ]
    }
   ],
   "source": [
    "print(df.isnull()) # 輸出每一列 T or F\n",
    "print(df.isnull().values == True) # 選出 T(空值) 的值\n",
    "# 利用上述二個概念，將有空值的row取出。\n",
    "print(df[df.isnull().values == True]) # 以 dataframe方式呈現，便於肉眼觀看"
   ]
  },
  {
   "cell_type": "code",
   "execution_count": 63,
   "metadata": {},
   "outputs": [
    {
     "name": "stdout",
     "output_type": "stream",
     "text": [
      "county     True\n",
      "name      False\n",
      "area      False\n",
      "price      True\n",
      "dtype: bool\n",
      "    county    price\n",
      "7      NaN  36,000元\n",
      "38  台北市松山區      NaN\n"
     ]
    }
   ],
   "source": [
    "print(df.isnull().any()) # 得知那此欄位有空值\n",
    "print(df[['county','price']][df.isnull().values == True])\n",
    "# 將先前學得 「指定取值」、「判斷何處有空值」，輸出空值單元"
   ]
  },
  {
   "cell_type": "code",
   "execution_count": 42,
   "metadata": {},
   "outputs": [
    {
     "data": {
      "text/plain": [
       "county    False\n",
       "name      False\n",
       "area      False\n",
       "price     False\n",
       "坪數        False\n",
       "用途        False\n",
       "dtype: bool"
      ]
     },
     "execution_count": 42,
     "metadata": {},
     "output_type": "execute_result"
    }
   ],
   "source": [
    "# 把空值補滿 fillna() 指令\n",
    "df['county'] = df['county'].fillna('台北市松山區')\n",
    "df['price'] = df['price'].fillna('24000')"
   ]
  },
  {
   "cell_type": "code",
   "execution_count": 43,
   "metadata": {},
   "outputs": [],
   "source": [
    "# 資料內容的切割取代 (不是pandas套件功能，可先不看)\n",
    "df['坪數'] = df['area'].str.split('/').str[0] # 取出資料，賦予新欄位\n",
    "df['用途'] = df['area'].str.split('/').str[1] # 取出資料，賦予新欄位\n",
    "df = df.drop('area', axis = 1) # 舊有欄位刪除"
   ]
  },
  {
   "cell_type": "code",
   "execution_count": 85,
   "metadata": {},
   "outputs": [
    {
     "ename": "AttributeError",
     "evalue": "Can only use .str accessor with string values, which use np.object_ dtype in pandas",
     "output_type": "error",
     "traceback": [
      "\u001b[1;31m---------------------------------------------------------------------------\u001b[0m",
      "\u001b[1;31mAttributeError\u001b[0m                            Traceback (most recent call last)",
      "\u001b[1;32m<ipython-input-85-81e27aa86d40>\u001b[0m in \u001b[0;36m<module>\u001b[1;34m()\u001b[0m\n\u001b[0;32m      2\u001b[0m \u001b[1;31m# 資料中的 「坪數」、「price」欄位，因有 \"坪\"以及 \"元\"，所以會把這二欄的原本因為數值型資料\u001b[0m\u001b[1;33m\u001b[0m\u001b[1;33m\u001b[0m\u001b[0m\n\u001b[0;32m      3\u001b[0m \u001b[1;31m# 變成字串資料，因此需把文字刪除後，重新賦予資料類型為數值型，才能進行統計運算\u001b[0m\u001b[1;33m\u001b[0m\u001b[1;33m\u001b[0m\u001b[0m\n\u001b[1;32m----> 4\u001b[1;33m \u001b[0mdf\u001b[0m\u001b[1;33m[\u001b[0m\u001b[1;34m'坪數'\u001b[0m\u001b[1;33m]\u001b[0m \u001b[1;33m=\u001b[0m \u001b[0mdf\u001b[0m\u001b[1;33m[\u001b[0m\u001b[1;34m'坪數'\u001b[0m\u001b[1;33m]\u001b[0m\u001b[1;33m.\u001b[0m\u001b[0mstr\u001b[0m\u001b[1;33m.\u001b[0m\u001b[0mreplace\u001b[0m\u001b[1;33m(\u001b[0m\u001b[1;34m'坪'\u001b[0m\u001b[1;33m,\u001b[0m\u001b[1;34m''\u001b[0m\u001b[1;33m)\u001b[0m \u001b[1;31m# 刪除「坪」\u001b[0m\u001b[1;33m\u001b[0m\u001b[0m\n\u001b[0m\u001b[0;32m      5\u001b[0m \u001b[0mdf\u001b[0m\u001b[1;33m[\u001b[0m\u001b[1;34m'price'\u001b[0m\u001b[1;33m]\u001b[0m \u001b[1;33m=\u001b[0m \u001b[0mdf\u001b[0m\u001b[1;33m[\u001b[0m\u001b[1;34m'price'\u001b[0m\u001b[1;33m]\u001b[0m\u001b[1;33m.\u001b[0m\u001b[0mstr\u001b[0m\u001b[1;33m.\u001b[0m\u001b[0mreplace\u001b[0m\u001b[1;33m(\u001b[0m\u001b[1;34m'元'\u001b[0m\u001b[1;33m,\u001b[0m\u001b[1;34m''\u001b[0m\u001b[1;33m)\u001b[0m \u001b[1;31m# 刪除「元」\u001b[0m\u001b[1;33m\u001b[0m\u001b[0m\n\u001b[0;32m      6\u001b[0m \u001b[0mdf\u001b[0m\u001b[1;33m[\u001b[0m\u001b[1;34m'price'\u001b[0m\u001b[1;33m]\u001b[0m \u001b[1;33m=\u001b[0m \u001b[0mdf\u001b[0m\u001b[1;33m[\u001b[0m\u001b[1;34m'price'\u001b[0m\u001b[1;33m]\u001b[0m\u001b[1;33m.\u001b[0m\u001b[0mstr\u001b[0m\u001b[1;33m.\u001b[0m\u001b[0mreplace\u001b[0m\u001b[1;33m(\u001b[0m\u001b[1;34m','\u001b[0m\u001b[1;33m,\u001b[0m\u001b[1;34m''\u001b[0m\u001b[1;33m)\u001b[0m \u001b[1;31m# 刪除 「,」\u001b[0m\u001b[1;33m\u001b[0m\u001b[0m\n",
      "\u001b[1;32mC:\\Anaconda3\\lib\\site-packages\\pandas\\core\\generic.py\u001b[0m in \u001b[0;36m__getattr__\u001b[1;34m(self, name)\u001b[0m\n\u001b[0;32m   4370\u001b[0m         if (name in self._internal_names_set or name in self._metadata or\n\u001b[0;32m   4371\u001b[0m                 name in self._accessors):\n\u001b[1;32m-> 4372\u001b[1;33m             \u001b[1;32mreturn\u001b[0m \u001b[0mobject\u001b[0m\u001b[1;33m.\u001b[0m\u001b[0m__getattribute__\u001b[0m\u001b[1;33m(\u001b[0m\u001b[0mself\u001b[0m\u001b[1;33m,\u001b[0m \u001b[0mname\u001b[0m\u001b[1;33m)\u001b[0m\u001b[1;33m\u001b[0m\u001b[0m\n\u001b[0m\u001b[0;32m   4373\u001b[0m         \u001b[1;32melse\u001b[0m\u001b[1;33m:\u001b[0m\u001b[1;33m\u001b[0m\u001b[0m\n\u001b[0;32m   4374\u001b[0m             \u001b[1;32mif\u001b[0m \u001b[0mself\u001b[0m\u001b[1;33m.\u001b[0m\u001b[0m_info_axis\u001b[0m\u001b[1;33m.\u001b[0m\u001b[0m_can_hold_identifiers_and_holds_name\u001b[0m\u001b[1;33m(\u001b[0m\u001b[0mname\u001b[0m\u001b[1;33m)\u001b[0m\u001b[1;33m:\u001b[0m\u001b[1;33m\u001b[0m\u001b[0m\n",
      "\u001b[1;32mC:\\Anaconda3\\lib\\site-packages\\pandas\\core\\accessor.py\u001b[0m in \u001b[0;36m__get__\u001b[1;34m(self, obj, cls)\u001b[0m\n\u001b[0;32m    131\u001b[0m             \u001b[1;31m# we're accessing the attribute of the class, i.e., Dataset.geo\u001b[0m\u001b[1;33m\u001b[0m\u001b[1;33m\u001b[0m\u001b[0m\n\u001b[0;32m    132\u001b[0m             \u001b[1;32mreturn\u001b[0m \u001b[0mself\u001b[0m\u001b[1;33m.\u001b[0m\u001b[0m_accessor\u001b[0m\u001b[1;33m\u001b[0m\u001b[0m\n\u001b[1;32m--> 133\u001b[1;33m         \u001b[0maccessor_obj\u001b[0m \u001b[1;33m=\u001b[0m \u001b[0mself\u001b[0m\u001b[1;33m.\u001b[0m\u001b[0m_accessor\u001b[0m\u001b[1;33m(\u001b[0m\u001b[0mobj\u001b[0m\u001b[1;33m)\u001b[0m\u001b[1;33m\u001b[0m\u001b[0m\n\u001b[0m\u001b[0;32m    134\u001b[0m         \u001b[1;31m# Replace the property with the accessor object. Inspired by:\u001b[0m\u001b[1;33m\u001b[0m\u001b[1;33m\u001b[0m\u001b[0m\n\u001b[0;32m    135\u001b[0m         \u001b[1;31m# http://www.pydanny.com/cached-property.html\u001b[0m\u001b[1;33m\u001b[0m\u001b[1;33m\u001b[0m\u001b[0m\n",
      "\u001b[1;32mC:\\Anaconda3\\lib\\site-packages\\pandas\\core\\strings.py\u001b[0m in \u001b[0;36m__init__\u001b[1;34m(self, data)\u001b[0m\n\u001b[0;32m   1893\u001b[0m \u001b[1;33m\u001b[0m\u001b[0m\n\u001b[0;32m   1894\u001b[0m     \u001b[1;32mdef\u001b[0m \u001b[0m__init__\u001b[0m\u001b[1;33m(\u001b[0m\u001b[0mself\u001b[0m\u001b[1;33m,\u001b[0m \u001b[0mdata\u001b[0m\u001b[1;33m)\u001b[0m\u001b[1;33m:\u001b[0m\u001b[1;33m\u001b[0m\u001b[0m\n\u001b[1;32m-> 1895\u001b[1;33m         \u001b[0mself\u001b[0m\u001b[1;33m.\u001b[0m\u001b[0m_validate\u001b[0m\u001b[1;33m(\u001b[0m\u001b[0mdata\u001b[0m\u001b[1;33m)\u001b[0m\u001b[1;33m\u001b[0m\u001b[0m\n\u001b[0m\u001b[0;32m   1896\u001b[0m         \u001b[0mself\u001b[0m\u001b[1;33m.\u001b[0m\u001b[0m_is_categorical\u001b[0m \u001b[1;33m=\u001b[0m \u001b[0mis_categorical_dtype\u001b[0m\u001b[1;33m(\u001b[0m\u001b[0mdata\u001b[0m\u001b[1;33m)\u001b[0m\u001b[1;33m\u001b[0m\u001b[0m\n\u001b[0;32m   1897\u001b[0m \u001b[1;33m\u001b[0m\u001b[0m\n",
      "\u001b[1;32mC:\\Anaconda3\\lib\\site-packages\\pandas\\core\\strings.py\u001b[0m in \u001b[0;36m_validate\u001b[1;34m(data)\u001b[0m\n\u001b[0;32m   1915\u001b[0m             \u001b[1;31m# (instead of test for object dtype), but that isn't practical for\u001b[0m\u001b[1;33m\u001b[0m\u001b[1;33m\u001b[0m\u001b[0m\n\u001b[0;32m   1916\u001b[0m             \u001b[1;31m# performance reasons until we have a str dtype (GH 9343)\u001b[0m\u001b[1;33m\u001b[0m\u001b[1;33m\u001b[0m\u001b[0m\n\u001b[1;32m-> 1917\u001b[1;33m             raise AttributeError(\"Can only use .str accessor with string \"\n\u001b[0m\u001b[0;32m   1918\u001b[0m                                  \u001b[1;34m\"values, which use np.object_ dtype in \"\u001b[0m\u001b[1;33m\u001b[0m\u001b[0m\n\u001b[0;32m   1919\u001b[0m                                  \"pandas\")\n",
      "\u001b[1;31mAttributeError\u001b[0m: Can only use .str accessor with string values, which use np.object_ dtype in pandas"
     ]
    }
   ],
   "source": [
    "# 資料的類型轉換\n",
    "# 資料中的 「坪數」、「price」欄位，因有 \"坪\"以及 \"元\"，所以會把這二欄的原本因為數值型資料\n",
    "# 變成字串資料，因此需把文字刪除後，重新賦予資料類型為數值型，才能進行統計運算\n",
    "df['坪數'] = df['坪數'].str.replace('坪','') # 刪除「坪」\n",
    "df['price'] = df['price'].str.replace('元','') # 刪除「元」\n",
    "df['price'] = df['price'].str.replace(',','') # 刪除 「,」"
   ]
  },
  {
   "cell_type": "code",
   "execution_count": 86,
   "metadata": {},
   "outputs": [],
   "source": [
    "df['price'] = df['price'].astype('int') # 將欄位「price」轉換為數值資料"
   ]
  },
  {
   "cell_type": "code",
   "execution_count": 87,
   "metadata": {},
   "outputs": [],
   "source": [
    "df['坪數'] = df['坪數'].astype('float') # 將欄位 「坪數」 轉換為數值資料"
   ]
  },
  {
   "cell_type": "code",
   "execution_count": 82,
   "metadata": {},
   "outputs": [
    {
     "name": "stdout",
     "output_type": "stream",
     "text": [
      "<class 'pandas.core.frame.DataFrame'>\n",
      "RangeIndex: 40 entries, 0 to 39\n",
      "Data columns (total 5 columns):\n",
      "county    40 non-null object\n",
      "name      40 non-null object\n",
      "price     40 non-null int32\n",
      "坪數        40 non-null float64\n",
      "用途        40 non-null object\n",
      "dtypes: float64(1), int32(1), object(3)\n",
      "memory usage: 1.5+ KB\n"
     ]
    }
   ],
   "source": [
    "df.info() # 查看資料類型"
   ]
  },
  {
   "cell_type": "code",
   "execution_count": 84,
   "metadata": {},
   "outputs": [
    {
     "data": {
      "text/html": [
       "<div>\n",
       "<style scoped>\n",
       "    .dataframe tbody tr th:only-of-type {\n",
       "        vertical-align: middle;\n",
       "    }\n",
       "\n",
       "    .dataframe tbody tr th {\n",
       "        vertical-align: top;\n",
       "    }\n",
       "\n",
       "    .dataframe thead th {\n",
       "        text-align: right;\n",
       "    }\n",
       "</style>\n",
       "<table border=\"1\" class=\"dataframe\">\n",
       "  <thead>\n",
       "    <tr style=\"text-align: right;\">\n",
       "      <th></th>\n",
       "      <th>county</th>\n",
       "      <th>name</th>\n",
       "      <th>price</th>\n",
       "      <th>坪數</th>\n",
       "      <th>用途</th>\n",
       "    </tr>\n",
       "  </thead>\n",
       "  <tbody>\n",
       "    <tr>\n",
       "      <th>29</th>\n",
       "      <td>台北市大同區</td>\n",
       "      <td>延平北路一段69巷台北車站【月租飯店式】五星獨棟～電梯套房</td>\n",
       "      <td>33000</td>\n",
       "      <td>8.0</td>\n",
       "      <td>套房</td>\n",
       "    </tr>\n",
       "  </tbody>\n",
       "</table>\n",
       "</div>"
      ],
      "text/plain": [
       "    county                           name  price   坪數  用途\n",
       "29  台北市大同區  延平北路一段69巷台北車站【月租飯店式】五星獨棟～電梯套房  33000  8.0  套房"
      ]
     },
     "execution_count": 84,
     "metadata": {},
     "output_type": "execute_result"
    }
   ],
   "source": [
    "# 資料的條件篩選\n",
    "df[(df['price'] > 24000) &\n",
    "  (df['price'] < 40000) &\n",
    "  (df['用途'] == '套房')] # 注意每個條件需要小括號圈住"
   ]
  },
  {
   "cell_type": "code",
   "execution_count": null,
   "metadata": {},
   "outputs": [],
   "source": []
  }
 ],
 "metadata": {
  "kernelspec": {
   "display_name": "Python 3",
   "language": "python",
   "name": "python3"
  },
  "language_info": {
   "codemirror_mode": {
    "name": "ipython",
    "version": 3
   },
   "file_extension": ".py",
   "mimetype": "text/x-python",
   "name": "python",
   "nbconvert_exporter": "python",
   "pygments_lexer": "ipython3",
   "version": "3.7.0"
  }
 },
 "nbformat": 4,
 "nbformat_minor": 2
}
