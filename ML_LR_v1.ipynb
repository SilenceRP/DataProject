{
 "cells": [
  {
   "cell_type": "markdown",
   "metadata": {},
   "source": [
    "# 載入相關套件"
   ]
  },
  {
   "cell_type": "code",
   "execution_count": 34,
   "metadata": {},
   "outputs": [],
   "source": [
    "# -- 常用套件 -- #\n",
    "import pandas as pd\n",
    "import numpy as np\n",
    "\n",
    "# -- 機器學習相關套件 -- #\n",
    "\n",
    "# 一、資料預處理\n",
    "from sklearn.preprocessing import StandardScaler # Z-Score\n",
    "from sklearn.preprocessing import MinMaxScaler # 極值正規化\n",
    "from sklearn.preprocessing import Normalizer \n",
    "\n",
    "# 二、資料切分(學習資料 & 測試資料)\n",
    "from sklearn.model_selection import train_test_split # 切分資料\n",
    "from sklearn.model_selection import GridSearchCV, RandomizedSearchCV, cross_val_score # 交互驗證-超參數調優\n",
    "\n",
    "# 三、機器學習相關明件 ML演算法\n",
    "from sklearn.linear_model import LogisticRegression   # 邏輯迴歸\n",
    "from sklearn.tree import DecisionTreeClassifier       # 決策樹\n",
    "from sklearn.ensemble import RandomForestClassifier   # 隨機森林\n",
    "from sklearn.svm import SVC                           # SVM 支援向量機\n",
    "from sklearn.neighbors import KNeighborsClassifier    # KNN\n",
    "from sklearn.neural_network import MLPClassifier      # NN 神經網路\n",
    "from sklearn.naive_bayes import GaussianNB            # 天真貝氏\n",
    "\n",
    "# 四、模型評估\n",
    "from sklearn.metrics import confusion_matrix # 混淆矩陣\n",
    "from sklearn.metrics import accuracy_score, f1_score, recall_score, precision_score # 績效指標\n",
    "from sklearn.metrics import roc_auc_score, roc_curve, auc # ROC, AUC相關"
   ]
  },
  {
   "cell_type": "markdown",
   "metadata": {},
   "source": [
    "# iris資料集"
   ]
  },
  {
   "cell_type": "code",
   "execution_count": 2,
   "metadata": {},
   "outputs": [],
   "source": [
    "# 資料讀取\n",
    "iris = pd.read_csv('C:/Users/hsu/Desktop/data/iris.csv',    # 路徑\n",
    "                   sep = ',',                               # 逗號分隔\n",
    "                   encoding = 'utf-8',                      # 編碼\n",
    "                   engine = 'python')                       # 使用工具\n",
    "df = iris.copy()"
   ]
  },
  {
   "cell_type": "code",
   "execution_count": 3,
   "metadata": {},
   "outputs": [
    {
     "data": {
      "text/html": [
       "<div>\n",
       "<style scoped>\n",
       "    .dataframe tbody tr th:only-of-type {\n",
       "        vertical-align: middle;\n",
       "    }\n",
       "\n",
       "    .dataframe tbody tr th {\n",
       "        vertical-align: top;\n",
       "    }\n",
       "\n",
       "    .dataframe thead th {\n",
       "        text-align: right;\n",
       "    }\n",
       "</style>\n",
       "<table border=\"1\" class=\"dataframe\">\n",
       "  <thead>\n",
       "    <tr style=\"text-align: right;\">\n",
       "      <th></th>\n",
       "      <th>Sepal.Length</th>\n",
       "      <th>Sepal.Width</th>\n",
       "      <th>Petal.Length</th>\n",
       "      <th>Petal.Width</th>\n",
       "      <th>Species</th>\n",
       "    </tr>\n",
       "  </thead>\n",
       "  <tbody>\n",
       "    <tr>\n",
       "      <th>0</th>\n",
       "      <td>5.1</td>\n",
       "      <td>3.5</td>\n",
       "      <td>1.4</td>\n",
       "      <td>0.2</td>\n",
       "      <td>setosa</td>\n",
       "    </tr>\n",
       "    <tr>\n",
       "      <th>1</th>\n",
       "      <td>4.9</td>\n",
       "      <td>3.0</td>\n",
       "      <td>1.4</td>\n",
       "      <td>0.2</td>\n",
       "      <td>setosa</td>\n",
       "    </tr>\n",
       "    <tr>\n",
       "      <th>2</th>\n",
       "      <td>4.7</td>\n",
       "      <td>3.2</td>\n",
       "      <td>1.3</td>\n",
       "      <td>0.2</td>\n",
       "      <td>setosa</td>\n",
       "    </tr>\n",
       "    <tr>\n",
       "      <th>3</th>\n",
       "      <td>4.6</td>\n",
       "      <td>3.1</td>\n",
       "      <td>1.5</td>\n",
       "      <td>0.2</td>\n",
       "      <td>setosa</td>\n",
       "    </tr>\n",
       "    <tr>\n",
       "      <th>4</th>\n",
       "      <td>5.0</td>\n",
       "      <td>3.6</td>\n",
       "      <td>1.4</td>\n",
       "      <td>0.2</td>\n",
       "      <td>setosa</td>\n",
       "    </tr>\n",
       "  </tbody>\n",
       "</table>\n",
       "</div>"
      ],
      "text/plain": [
       "   Sepal.Length  Sepal.Width  Petal.Length  Petal.Width Species\n",
       "0           5.1          3.5           1.4          0.2  setosa\n",
       "1           4.9          3.0           1.4          0.2  setosa\n",
       "2           4.7          3.2           1.3          0.2  setosa\n",
       "3           4.6          3.1           1.5          0.2  setosa\n",
       "4           5.0          3.6           1.4          0.2  setosa"
      ]
     },
     "execution_count": 3,
     "metadata": {},
     "output_type": "execute_result"
    }
   ],
   "source": [
    "df.head()"
   ]
  },
  {
   "cell_type": "code",
   "execution_count": 4,
   "metadata": {},
   "outputs": [
    {
     "data": {
      "text/html": [
       "<div>\n",
       "<style scoped>\n",
       "    .dataframe tbody tr th:only-of-type {\n",
       "        vertical-align: middle;\n",
       "    }\n",
       "\n",
       "    .dataframe tbody tr th {\n",
       "        vertical-align: top;\n",
       "    }\n",
       "\n",
       "    .dataframe thead th {\n",
       "        text-align: right;\n",
       "    }\n",
       "</style>\n",
       "<table border=\"1\" class=\"dataframe\">\n",
       "  <thead>\n",
       "    <tr style=\"text-align: right;\">\n",
       "      <th></th>\n",
       "      <th>Sepal.Length</th>\n",
       "      <th>Sepal.Width</th>\n",
       "      <th>Petal.Length</th>\n",
       "      <th>Petal.Width</th>\n",
       "    </tr>\n",
       "  </thead>\n",
       "  <tbody>\n",
       "    <tr>\n",
       "      <th>0</th>\n",
       "      <td>-0.900681</td>\n",
       "      <td>1.019004</td>\n",
       "      <td>-1.340227</td>\n",
       "      <td>-1.315444</td>\n",
       "    </tr>\n",
       "    <tr>\n",
       "      <th>1</th>\n",
       "      <td>-1.143017</td>\n",
       "      <td>-0.131979</td>\n",
       "      <td>-1.340227</td>\n",
       "      <td>-1.315444</td>\n",
       "    </tr>\n",
       "    <tr>\n",
       "      <th>2</th>\n",
       "      <td>-1.385353</td>\n",
       "      <td>0.328414</td>\n",
       "      <td>-1.397064</td>\n",
       "      <td>-1.315444</td>\n",
       "    </tr>\n",
       "    <tr>\n",
       "      <th>3</th>\n",
       "      <td>-1.506521</td>\n",
       "      <td>0.098217</td>\n",
       "      <td>-1.283389</td>\n",
       "      <td>-1.315444</td>\n",
       "    </tr>\n",
       "    <tr>\n",
       "      <th>4</th>\n",
       "      <td>-1.021849</td>\n",
       "      <td>1.249201</td>\n",
       "      <td>-1.340227</td>\n",
       "      <td>-1.315444</td>\n",
       "    </tr>\n",
       "  </tbody>\n",
       "</table>\n",
       "</div>"
      ],
      "text/plain": [
       "   Sepal.Length  Sepal.Width  Petal.Length  Petal.Width\n",
       "0     -0.900681     1.019004     -1.340227    -1.315444\n",
       "1     -1.143017    -0.131979     -1.340227    -1.315444\n",
       "2     -1.385353     0.328414     -1.397064    -1.315444\n",
       "3     -1.506521     0.098217     -1.283389    -1.315444\n",
       "4     -1.021849     1.249201     -1.340227    -1.315444"
      ]
     },
     "execution_count": 4,
     "metadata": {},
     "output_type": "execute_result"
    }
   ],
   "source": [
    "# 資料處理-篩出特徵與目標變數\n",
    "X = df.iloc[:,0:4] # 特徵變數\n",
    "y = df.iloc[:,-1] # 目標變數\n",
    "\n",
    "# 資料處理-標準化(此處用 Z-Score)\n",
    "st = StandardScaler()\n",
    "X_s = st.fit_transform(X) \n",
    "df_SX = pd.DataFrame(X_s, columns=X.columns)\n",
    "df_SX.head()\n",
    "\n",
    "# 補充：不同寫法\n",
    "# StandardScaler().fit_transform(X)"
   ]
  },
  {
   "cell_type": "code",
   "execution_count": 5,
   "metadata": {},
   "outputs": [],
   "source": [
    "# 劃分訓練資料集 和 測試資料集\n",
    "X_train, X_test, y_train, y_test = train_test_split(df_SX,\n",
    "                                                    y,\n",
    "                                                    test_size = 0.2,\n",
    "                                                    random_state = 123)\n",
    "\n",
    "\n",
    "# 重要參數說明：stratify\n",
    "# stratify是為了保持split前類的分布。比如有100個數據，80個屬於A類，20個屬於B類。\n",
    "# 如果train_test_split(… test_size=0.25, stratify = y_all), 那麼split之後數據如下：\n",
    "# training: 75個數據，其中60個屬於A類，15個屬於B類。\n",
    "# testing: 25個數據，其中20個屬於A類，5個屬於B類。"
   ]
  },
  {
   "cell_type": "code",
   "execution_count": 6,
   "metadata": {},
   "outputs": [
    {
     "data": {
      "text/plain": [
       "LogisticRegression()"
      ]
     },
     "execution_count": 6,
     "metadata": {},
     "output_type": "execute_result"
    }
   ],
   "source": [
    "# 建立模型\n",
    "lrclf = LogisticRegression()\n",
    "lrclf.fit(X_train, y_train)"
   ]
  },
  {
   "cell_type": "code",
   "execution_count": 7,
   "metadata": {},
   "outputs": [],
   "source": [
    "# 預測\n",
    "lrclf_pred = lrclf.predict(X_test)           # 分出 0, 1, 2 對應 Species\n",
    "lrclf_predpro = lrclf.predict_proba(X_test)  # 分出 0, 1, 2 的可能機率"
   ]
  },
  {
   "cell_type": "code",
   "execution_count": 82,
   "metadata": {},
   "outputs": [
    {
     "name": "stdout",
     "output_type": "stream",
     "text": [
      "Confusion Matrix\n",
      " [[13  0  0]\n",
      " [ 0  6  0]\n",
      " [ 0  1 10]]\n",
      "Accuracy = 0.9666666666666667\n",
      "F1-Score = 0.9584859584859583\n",
      "ReCall = 0.9696969696969697\n",
      "Precision = 0.9523809523809524\n"
     ]
    }
   ],
   "source": [
    "## -- 績效指標 -- ##\n",
    "\n",
    "# 混淆矩陣\n",
    "print('Confusion Matrix\\n',confusion_matrix(y_test, lrclf_pred))\n",
    "\n",
    "# ACC, F1, Record Call, Precision\n",
    "print('Accuracy = {}'.format(accuracy_score(y_test, lrclf_pred)))\n",
    "print('F1-Score = {}'.format(f1_score(y_test, lrclf_pred, average='macro')))\n",
    "print('ReCall = {}'.format(recall_score(y_test, lrclf_pred, average='macro')))\n",
    "print('Precision = {}'.format(precision_score(y_test, lrclf_pred, average = 'macro')))\n",
    "\n",
    "# 如果目標變數為三類以上(含)，需調整參數 \"average = 'macro' \""
   ]
  },
  {
   "cell_type": "code",
   "execution_count": 69,
   "metadata": {},
   "outputs": [],
   "source": [
    "# 存出模型\n",
    "import pickle # 載入套件\n",
    "with open('C:/Users/hsu/Desktop/data/lr_model.pkl', mode='wb') as m:\n",
    "    pickle.dump(obj=lrclf, file=m)"
   ]
  },
  {
   "cell_type": "code",
   "execution_count": 70,
   "metadata": {},
   "outputs": [],
   "source": [
    "# 讀取模型\n",
    "with open('C:/Users/hsu/Desktop/data/lr_model.pkl', mode = 'rb') as lm:\n",
    "    model = pickle.load(file=lm)"
   ]
  },
  {
   "cell_type": "code",
   "execution_count": 81,
   "metadata": {},
   "outputs": [
    {
     "data": {
      "text/plain": [
       "array(['virginica', 'virginica', 'virginica', 'virginica', 'virginica'],\n",
       "      dtype=object)"
      ]
     },
     "execution_count": 81,
     "metadata": {},
     "output_type": "execute_result"
    }
   ],
   "source": [
    "# 模型運用\n",
    "model.predict([[1,2,3,4]]) # 單筆資料預測\n",
    "\n",
    "model.predict([[2,3,4,5],\n",
    "               [3,4,5,7],\n",
    "               [5,6,7,8],\n",
    "               [8,9,8,7],\n",
    "               [10,8,5,20]]) # 多筆資料預測"
   ]
  },
  {
   "cell_type": "code",
   "execution_count": null,
   "metadata": {},
   "outputs": [],
   "source": [
    " ## 上述為 ML 基礎流程 ##"
   ]
  },
  {
   "cell_type": "code",
   "execution_count": null,
   "metadata": {},
   "outputs": [],
   "source": []
  },
  {
   "cell_type": "code",
   "execution_count": null,
   "metadata": {},
   "outputs": [],
   "source": [
    "## 其它運用 ##"
   ]
  },
  {
   "cell_type": "code",
   "execution_count": 65,
   "metadata": {},
   "outputs": [
    {
     "data": {
      "text/html": [
       "<div>\n",
       "<style scoped>\n",
       "    .dataframe tbody tr th:only-of-type {\n",
       "        vertical-align: middle;\n",
       "    }\n",
       "\n",
       "    .dataframe tbody tr th {\n",
       "        vertical-align: top;\n",
       "    }\n",
       "\n",
       "    .dataframe thead th {\n",
       "        text-align: right;\n",
       "    }\n",
       "</style>\n",
       "<table border=\"1\" class=\"dataframe\">\n",
       "  <thead>\n",
       "    <tr style=\"text-align: right;\">\n",
       "      <th></th>\n",
       "      <th>Species</th>\n",
       "    </tr>\n",
       "  </thead>\n",
       "  <tbody>\n",
       "    <tr>\n",
       "      <th>0</th>\n",
       "      <td>versicolor</td>\n",
       "    </tr>\n",
       "    <tr>\n",
       "      <th>1</th>\n",
       "      <td>virginica</td>\n",
       "    </tr>\n",
       "    <tr>\n",
       "      <th>2</th>\n",
       "      <td>virginica</td>\n",
       "    </tr>\n",
       "    <tr>\n",
       "      <th>3</th>\n",
       "      <td>versicolor</td>\n",
       "    </tr>\n",
       "    <tr>\n",
       "      <th>4</th>\n",
       "      <td>setosa</td>\n",
       "    </tr>\n",
       "  </tbody>\n",
       "</table>\n",
       "</div>"
      ],
      "text/plain": [
       "      Species\n",
       "0  versicolor\n",
       "1   virginica\n",
       "2   virginica\n",
       "3  versicolor\n",
       "4      setosa"
      ]
     },
     "execution_count": 65,
     "metadata": {},
     "output_type": "execute_result"
    }
   ],
   "source": [
    "# 先將 y_test 的亂數 index 調整(此舉為了日後合併時，index不出錯)\n",
    "tag = pd.DataFrame(y_test)\n",
    "tag.index = pd.Series(range(0,30))\n",
    "tag.head() # 新目標變數的 index 有順序"
   ]
  },
  {
   "cell_type": "code",
   "execution_count": 68,
   "metadata": {},
   "outputs": [
    {
     "data": {
      "text/html": [
       "<div>\n",
       "<style scoped>\n",
       "    .dataframe tbody tr th:only-of-type {\n",
       "        vertical-align: middle;\n",
       "    }\n",
       "\n",
       "    .dataframe tbody tr th {\n",
       "        vertical-align: top;\n",
       "    }\n",
       "\n",
       "    .dataframe thead th {\n",
       "        text-align: right;\n",
       "    }\n",
       "</style>\n",
       "<table border=\"1\" class=\"dataframe\">\n",
       "  <thead>\n",
       "    <tr style=\"text-align: right;\">\n",
       "      <th></th>\n",
       "      <th>0</th>\n",
       "      <th>1</th>\n",
       "      <th>2</th>\n",
       "      <th>Species</th>\n",
       "    </tr>\n",
       "  </thead>\n",
       "  <tbody>\n",
       "    <tr>\n",
       "      <th>0</th>\n",
       "      <td>0.001038</td>\n",
       "      <td>0.563260</td>\n",
       "      <td>4.357011e-01</td>\n",
       "      <td>versicolor</td>\n",
       "    </tr>\n",
       "    <tr>\n",
       "      <th>1</th>\n",
       "      <td>0.000081</td>\n",
       "      <td>0.080388</td>\n",
       "      <td>9.195314e-01</td>\n",
       "      <td>virginica</td>\n",
       "    </tr>\n",
       "    <tr>\n",
       "      <th>2</th>\n",
       "      <td>0.000034</td>\n",
       "      <td>0.036082</td>\n",
       "      <td>9.638842e-01</td>\n",
       "      <td>virginica</td>\n",
       "    </tr>\n",
       "    <tr>\n",
       "      <th>3</th>\n",
       "      <td>0.080384</td>\n",
       "      <td>0.874408</td>\n",
       "      <td>4.520789e-02</td>\n",
       "      <td>versicolor</td>\n",
       "    </tr>\n",
       "    <tr>\n",
       "      <th>4</th>\n",
       "      <td>0.990891</td>\n",
       "      <td>0.009109</td>\n",
       "      <td>2.574244e-08</td>\n",
       "      <td>setosa</td>\n",
       "    </tr>\n",
       "  </tbody>\n",
       "</table>\n",
       "</div>"
      ],
      "text/plain": [
       "          0         1             2     Species\n",
       "0  0.001038  0.563260  4.357011e-01  versicolor\n",
       "1  0.000081  0.080388  9.195314e-01   virginica\n",
       "2  0.000034  0.036082  9.638842e-01   virginica\n",
       "3  0.080384  0.874408  4.520789e-02  versicolor\n",
       "4  0.990891  0.009109  2.574244e-08      setosa"
      ]
     },
     "execution_count": 68,
     "metadata": {},
     "output_type": "execute_result"
    }
   ],
   "source": [
    "pd.concat([pd.DataFrame(lrclf_predpro), tag], axis = 1).head()\n",
    "# 0, 1, 2 對應 setosa, versicolor, virginica\n",
    "# 可看機率看出那一類型"
   ]
  },
  {
   "cell_type": "code",
   "execution_count": 94,
   "metadata": {},
   "outputs": [
    {
     "name": "stderr",
     "output_type": "stream",
     "text": [
      "C:\\Anaconda3\\envs\\Tfpython\\lib\\site-packages\\sklearn\\model_selection\\_validation.py:552: FitFailedWarning: Estimator fit failed. The score on this train-test partition for these parameters will be set to nan. Details: \n",
      "Traceback (most recent call last):\n",
      "  File \"C:\\Anaconda3\\envs\\Tfpython\\lib\\site-packages\\sklearn\\model_selection\\_validation.py\", line 531, in _fit_and_score\n",
      "    estimator.fit(X_train, y_train, **fit_params)\n",
      "  File \"C:\\Anaconda3\\envs\\Tfpython\\lib\\site-packages\\sklearn\\linear_model\\_logistic.py\", line 1304, in fit\n",
      "    solver = _check_solver(self.solver, self.penalty, self.dual)\n",
      "  File \"C:\\Anaconda3\\envs\\Tfpython\\lib\\site-packages\\sklearn\\linear_model\\_logistic.py\", line 443, in _check_solver\n",
      "    \"got %s penalty.\" % (solver, penalty))\n",
      "ValueError: Solver lbfgs supports only 'l2' or 'none' penalties, got l1 penalty.\n",
      "\n",
      "  FitFailedWarning)\n"
     ]
    }
   ],
   "source": [
    "# GridSearchCV\n",
    "\n",
    "clflr = LogisticRegression()                         # 建立 ML 分類器\n",
    "parameters = {'penalty':['l1','l2']}                 # 針對此 ML 參數進行設定，運用字典及串列編寫參數\n",
    "\n",
    "grid_search = GridSearchCV(estimator = clflr,        # 將行3設定的分類器，放入此參數\n",
    "                           param_grid = parameters,  # 將參數表放入網格中\n",
    "                           cv = 10,                  # 交互驗證次數設定 \n",
    "                           scoring = 'accuracy')     # 輸出欲了解的績效指標\n",
    "\n",
    "optipar = grid_search.fit(X_train, y_train)"
   ]
  },
  {
   "cell_type": "code",
   "execution_count": 95,
   "metadata": {},
   "outputs": [
    {
     "name": "stdout",
     "output_type": "stream",
     "text": [
      "最佳參數 = {'penalty': 'l2'}\n",
      "Accuracy = 0.9583333333333334\n"
     ]
    }
   ],
   "source": [
    "# GridSearchCV 結果輸出\n",
    "\n",
    "print('最佳參數 = {}'.format(optipar.best_params_))\n",
    "print('Accuracy = {}'.format(optipar.best_score_))"
   ]
  },
  {
   "cell_type": "markdown",
   "metadata": {},
   "source": [
    "# Bank 資料集"
   ]
  },
  {
   "cell_type": "code",
   "execution_count": 35,
   "metadata": {},
   "outputs": [],
   "source": [
    "bank = pd.read_excel('C:/Users/hsu/Desktop/data/bank.xlsx',\n",
    "                     sep = ',',\n",
    "                     encoding = 'utf-8')\n",
    "dfb = bank.copy()"
   ]
  },
  {
   "cell_type": "code",
   "execution_count": 3,
   "metadata": {},
   "outputs": [
    {
     "name": "stdout",
     "output_type": "stream",
     "text": [
      "Index(['RowNumber', 'CustomerId', 'Surname', 'CreditScore', 'Geography',\n",
      "       'Gender', 'Age', 'Tenure', 'Balance', 'NumOfProducts', 'HasCrCard',\n",
      "       'IsActiveMember', 'EstimatedSalary', 'Exited'],\n",
      "      dtype='object')\n"
     ]
    },
    {
     "data": {
      "text/html": [
       "<div>\n",
       "<style scoped>\n",
       "    .dataframe tbody tr th:only-of-type {\n",
       "        vertical-align: middle;\n",
       "    }\n",
       "\n",
       "    .dataframe tbody tr th {\n",
       "        vertical-align: top;\n",
       "    }\n",
       "\n",
       "    .dataframe thead th {\n",
       "        text-align: right;\n",
       "    }\n",
       "</style>\n",
       "<table border=\"1\" class=\"dataframe\">\n",
       "  <thead>\n",
       "    <tr style=\"text-align: right;\">\n",
       "      <th></th>\n",
       "      <th>count</th>\n",
       "      <th>unique</th>\n",
       "      <th>top</th>\n",
       "      <th>freq</th>\n",
       "    </tr>\n",
       "  </thead>\n",
       "  <tbody>\n",
       "    <tr>\n",
       "      <th>CustomerId</th>\n",
       "      <td>10000</td>\n",
       "      <td>10000</td>\n",
       "      <td>15647842</td>\n",
       "      <td>1</td>\n",
       "    </tr>\n",
       "    <tr>\n",
       "      <th>Surname</th>\n",
       "      <td>10000</td>\n",
       "      <td>2932</td>\n",
       "      <td>Smith</td>\n",
       "      <td>32</td>\n",
       "    </tr>\n",
       "    <tr>\n",
       "      <th>Geography</th>\n",
       "      <td>10000</td>\n",
       "      <td>3</td>\n",
       "      <td>France</td>\n",
       "      <td>5014</td>\n",
       "    </tr>\n",
       "    <tr>\n",
       "      <th>Gender</th>\n",
       "      <td>10000</td>\n",
       "      <td>2</td>\n",
       "      <td>Male</td>\n",
       "      <td>5457</td>\n",
       "    </tr>\n",
       "  </tbody>\n",
       "</table>\n",
       "</div>"
      ],
      "text/plain": [
       "            count unique       top  freq\n",
       "CustomerId  10000  10000  15647842     1\n",
       "Surname     10000   2932     Smith    32\n",
       "Geography   10000      3    France  5014\n",
       "Gender      10000      2      Male  5457"
      ]
     },
     "execution_count": 3,
     "metadata": {},
     "output_type": "execute_result"
    }
   ],
   "source": [
    "# 一、資料初探\n",
    "print(dfb.columns)\n",
    "# 從CustomerId、Surname 判斷會不會有人重複\n",
    "\n",
    "dfb['CustomerId'] = dfb['CustomerId'].astype('object') # 先將 CustomerId 由原先數值型態，轉為類別型態\n",
    "\n",
    "dfb.select_dtypes(include = 'object').describe().T\n",
    "\n",
    "# 由資料可知，名字有重覆，但是 CustomerId 無重覆，因此每次均為獨立資料"
   ]
  },
  {
   "cell_type": "code",
   "execution_count": 58,
   "metadata": {},
   "outputs": [],
   "source": [
    "# 將不需要的欄位刪除\n",
    "dfb = dfb.drop(labels=['RowNumber','CustomerId','Surname'], axis=1)"
   ]
  },
  {
   "cell_type": "code",
   "execution_count": 5,
   "metadata": {},
   "outputs": [
    {
     "name": "stdout",
     "output_type": "stream",
     "text": [
      "           count unique     top  freq\n",
      "Geography  10000      3  France  5014\n",
      "Gender     10000      2    Male  5457\n",
      "\n",
      "\n",
      "                   count           mean           std     min       25%  \\\n",
      "CreditScore      10000.0     650.528800     96.653299  350.00    584.00   \n",
      "Age              10000.0      38.921800     10.487806   18.00     32.00   \n",
      "Tenure           10000.0       5.012800      2.892174    0.00      3.00   \n",
      "Balance          10000.0   76485.889288  62397.405202    0.00      0.00   \n",
      "NumOfProducts    10000.0       1.530200      0.581654    1.00      1.00   \n",
      "HasCrCard        10000.0       0.705500      0.455840    0.00      0.00   \n",
      "IsActiveMember   10000.0       0.515100      0.499797    0.00      0.00   \n",
      "EstimatedSalary  10000.0  100090.239881  57510.492818   11.58  51002.11   \n",
      "Exited           10000.0       0.203700      0.402769    0.00      0.00   \n",
      "\n",
      "                        50%          75%        max  \n",
      "CreditScore         652.000     718.0000     850.00  \n",
      "Age                  37.000      44.0000      92.00  \n",
      "Tenure                5.000       7.0000      10.00  \n",
      "Balance           97198.540  127644.2400  250898.09  \n",
      "NumOfProducts         1.000       2.0000       4.00  \n",
      "HasCrCard             1.000       1.0000       1.00  \n",
      "IsActiveMember        1.000       1.0000       1.00  \n",
      "EstimatedSalary  100193.915  149388.2475  199992.48  \n",
      "Exited                0.000       0.0000       1.00  \n"
     ]
    }
   ],
   "source": [
    "# 資料重新探索\n",
    "print(dfb.select_dtypes(include = 'object').describe().T) # 類別資料摘要\n",
    "print('\\n')\n",
    "print(dfb.select_dtypes(include = 'number').describe().T) # 數值資料摘要"
   ]
  },
  {
   "cell_type": "code",
   "execution_count": 6,
   "metadata": {},
   "outputs": [],
   "source": [
    "# 資料處理(切出特徵變數 與 目標變數)\n",
    "X = dfb.iloc[: , :-1]   # 特徵變數\n",
    "y = dfb.iloc[: , -1]    # 目標變數"
   ]
  },
  {
   "cell_type": "code",
   "execution_count": 7,
   "metadata": {},
   "outputs": [],
   "source": [
    "# 將特徵變數中的類別變項，轉為 One-Hot-Encoding : OHE\n",
    "X = pd.get_dummies(X)"
   ]
  },
  {
   "cell_type": "code",
   "execution_count": 8,
   "metadata": {},
   "outputs": [],
   "source": [
    "# 資料標準化\n",
    "st = StandardScaler()\n",
    "S_X = st.fit_transform(X)\n",
    "X_s = pd.DataFrame(S_X, columns = X.columns)"
   ]
  },
  {
   "cell_type": "code",
   "execution_count": 9,
   "metadata": {},
   "outputs": [],
   "source": [
    "# 資料切分(訓練資料集、測試資料集)\n",
    "X_train, X_test, y_train, y_test = train_test_split(X_s, y, test_size = 0.3, stratify = y)"
   ]
  },
  {
   "cell_type": "code",
   "execution_count": 10,
   "metadata": {},
   "outputs": [],
   "source": [
    "# 建立模型\n",
    "lrclf = LogisticRegression()"
   ]
  },
  {
   "cell_type": "code",
   "execution_count": 11,
   "metadata": {},
   "outputs": [
    {
     "data": {
      "text/plain": [
       "LogisticRegression()"
      ]
     },
     "execution_count": 11,
     "metadata": {},
     "output_type": "execute_result"
    }
   ],
   "source": [
    "# 訓練模型\n",
    "lrclf.fit(X_train, y_train)"
   ]
  },
  {
   "cell_type": "code",
   "execution_count": 12,
   "metadata": {},
   "outputs": [],
   "source": [
    "# 預測\n",
    "bank_pred = lrclf.predict(X_test)\n",
    "bank_predpro = lrclf.predict_proba(X_test)"
   ]
  },
  {
   "cell_type": "code",
   "execution_count": 13,
   "metadata": {},
   "outputs": [
    {
     "name": "stdout",
     "output_type": "stream",
     "text": [
      "Confusion Matrix\n",
      "[[2305   84]\n",
      " [ 476  135]] \n",
      "\n",
      "Performer\n",
      "Acc =  0.8133333333333334\n",
      "F1 =  0.6084919950595419\n",
      "Recall =  0.5928940541036762\n",
      "Precision =  0.7226384517247664\n"
     ]
    }
   ],
   "source": [
    "# 績效指標\n",
    "print('Confusion Matrix')\n",
    "print(confusion_matrix(y_test, bank_pred),'\\n')\n",
    "\n",
    "print('Performer')\n",
    "print('Acc = ', accuracy_score(y_test, bank_pred))\n",
    "print('F1 = ', f1_score(y_test, bank_pred, average='macro'))\n",
    "print('Recall = ', recall_score(y_test, bank_pred, average='macro'))\n",
    "print('Precision = ', precision_score(y_test, bank_pred, average='macro'))"
   ]
  },
  {
   "cell_type": "code",
   "execution_count": 14,
   "metadata": {},
   "outputs": [],
   "source": [
    "# AUC, ROC\n",
    "b_fpr, b_tpr, threshold = roc_curve(y_test, bank_pred)\n",
    "b_auc = auc(b_fpr, b_tpr)"
   ]
  },
  {
   "cell_type": "code",
   "execution_count": 15,
   "metadata": {},
   "outputs": [],
   "source": [
    "import matplotlib.pyplot as plt"
   ]
  },
  {
   "cell_type": "code",
   "execution_count": 16,
   "metadata": {},
   "outputs": [
    {
     "data": {
      "text/plain": [
       "<matplotlib.legend.Legend at 0x20e4b6f6b88>"
      ]
     },
     "execution_count": 16,
     "metadata": {},
     "output_type": "execute_result"
    },
    {
     "data": {
      "image/png": "[encoded data removed]",
      "text/plain": [
       "<Figure size 360x360 with 1 Axes>"
      ]
     },
     "metadata": {
      "needs_background": "light"
     },
     "output_type": "display_data"
    }
   ],
   "source": [
    "# 繪製 ROC\n",
    "plt.figure(figsize=[5,5])\n",
    "plt.title('Bank AUC')\n",
    "plt.plot(b_fpr, b_tpr, label = 'AUC = {}'.format(b_auc))\n",
    "plt.plot([0, 1], linestyle = '--')\n",
    "plt.xlim(0,1)\n",
    "plt.ylim(0,1)\n",
    "plt.legend()"
   ]
  },
  {
   "cell_type": "code",
   "execution_count": 19,
   "metadata": {},
   "outputs": [],
   "source": [
    "# 以機率為主的 ROC, AUC\n",
    "bank_predpro_trans = bank_predpro[:,1] # 先將機率資料輸出"
   ]
  },
  {
   "cell_type": "code",
   "execution_count": 28,
   "metadata": {},
   "outputs": [
    {
     "data": {
      "text/plain": [
       "0.7622860916680996"
      ]
     },
     "execution_count": 28,
     "metadata": {},
     "output_type": "execute_result"
    }
   ],
   "source": [
    "bpro_fpr, bpro_tpr, bpro_threshold = roc_curve(y_test, bank_predpro_trans)\n",
    "bpro_auc = auc(bpro_fpr, bpro_tpr)\n",
    "bpro_auc"
   ]
  },
  {
   "cell_type": "code",
   "execution_count": 29,
   "metadata": {},
   "outputs": [
    {
     "data": {
      "text/plain": [
       "<matplotlib.legend.Legend at 0x20e4c7c5348>"
      ]
     },
     "execution_count": 29,
     "metadata": {},
     "output_type": "execute_result"
    },
    {
     "data": {
      "image/png": "[encoded data removed]",
      "text/plain": [
       "<Figure size 360x360 with 1 Axes>"
      ]
     },
     "metadata": {
      "needs_background": "light"
     },
     "output_type": "display_data"
    }
   ],
   "source": [
    "# 繪製機率為主 ROC\n",
    "plt.figure(figsize=[5,5])\n",
    "plt.title('Bank AUC')\n",
    "plt.plot(bpro_fpr, bpro_tpr, label = 'AUC = {}'.format(bpro_auc))\n",
    "plt.plot([0, 1], linestyle = '--')\n",
    "plt.xlim(0,1)\n",
    "plt.ylim(0,1)\n",
    "plt.legend()"
   ]
  },
  {
   "cell_type": "code",
   "execution_count": null,
   "metadata": {},
   "outputs": [],
   "source": [
    "# .replace用法說明\n",
    "# dfb['Exited'] = dfb['Exited'].replace({1:'y', 0:'n'}) # 將目標變數轉為類別資料，以利後續分類模型運作"
   ]
  },
  {
   "cell_type": "code",
   "execution_count": 31,
   "metadata": {},
   "outputs": [
    {
     "name": "stdout",
     "output_type": "stream",
     "text": [
      "[[0.78082059 0.21917941]\n",
      " [0.72417271 0.27582729]\n",
      " [0.84493641 0.15506359]\n",
      " ...\n",
      " [0.75964611 0.24035389]\n",
      " [0.94249438 0.05750562]\n",
      " [0.49930239 0.50069761]]\n"
     ]
    },
    {
     "data": {
      "text/plain": [
       "array([0, 0, 0, ..., 0, 0, 1], dtype=int64)"
      ]
     },
     "execution_count": 31,
     "metadata": {},
     "output_type": "execute_result"
    }
   ],
   "source": [
    "# np.argmax() 用法說明：輸出內容中，數值最大的指數\n",
    "# print(bank_predpro) \n",
    "# bank_predpro.argmax(axis = 1)"
   ]
  },
  {
   "cell_type": "code",
   "execution_count": 132,
   "metadata": {},
   "outputs": [],
   "source": [
    "a = [1,2,3]"
   ]
  },
  {
   "cell_type": "code",
   "execution_count": 134,
   "metadata": {},
   "outputs": [
    {
     "data": {
      "text/plain": [
       "2"
      ]
     },
     "execution_count": 134,
     "metadata": {},
     "output_type": "execute_result"
    }
   ],
   "source": [
    "a[1]"
   ]
  },
  {
   "cell_type": "markdown",
   "metadata": {},
   "source": [
    "# 物件導向設計-FuncML"
   ]
  },
  {
   "cell_type": "code",
   "execution_count": 319,
   "metadata": {},
   "outputs": [],
   "source": [
    "class FuncML:\n",
    "    \n",
    "    def dataload(self, data):   # 資料基本摘要\n",
    "        self.data = data\n",
    "        print('DataColunms\\n', self.data.columns)\n",
    "        print('\\nCataLabel\\n', self.data.select_dtypes(include = 'object').describe().T)\n",
    "        print('\\nNumericLabel\\n', self.data.select_dtypes(include = 'number').describe().T)\n",
    "        return self.data\n",
    "        \n",
    "    def dataprocess(self, xlabel, ylabel, ST = None):       # 資料處理\n",
    "        self.X = self.data.iloc[:, xlabel[0] : xlabel[1]]   # 劃分特徵變數 \n",
    "        self.X = pd.get_dummies(self.X)                     # 將類別變數轉為 OHE     \n",
    "        self.y = self.data.iloc[:, ylabel]                  # 目標變數 \n",
    "        \n",
    "        if ST == True:                                      # 是否需要進行資料標準化\n",
    "            st = StandardScaler()\n",
    "            self.X = pd.DataFrame(st.fit_transform(self.X), columns=self.X.columns)\n",
    "        \n",
    "        print('Process OK')\n",
    "        \n",
    "    def datasplit(self, seed, random = None):               # 資料切分\n",
    "        self.__X_train, self.__X_test, self.__y_train, self.__y_test = train_test_split(self.X, \n",
    "                                                                                self.y, \n",
    "                                                                                test_size = seed, \n",
    "                                                                                random_state = random,\n",
    "                                                                                stratify = self.y)\n",
    "        print('Split OK')\n",
    "        \n",
    "        \n",
    "    def Model(self, ModelSelect, **kwag):                           # 建立模型\n",
    "        \n",
    "        ''' ModelSelect：                                           # 三種模型選擇\n",
    "        lr：LogitRegress\n",
    "        svm：KNN\n",
    "        rf：RandomForest\n",
    "        '''\n",
    "        \n",
    "        ModelDict = {'lr' : LogisticRegression,\n",
    "                     'svm' : SVC, \n",
    "                     'rf' : RandomForestClassifier}\n",
    "        \n",
    "        self.mldelclf = ModelDict[ModelSelect](**kwag)\n",
    "        self.mldelclf.fit(self.__X_train, self.__y_train)\n",
    "        \n",
    "        print('ModelTrain OK')\n",
    "        \n",
    "    def ModelPred(self):                                           # 模型預測與績效指標\n",
    "        self.mldpred = self.mldelclf.predict(self.__X_test)\n",
    "        \n",
    "        self.ACC = accuracy_score(self.__y_test,  self.mldpred)\n",
    "        self.F1 = f1_score(self.__y_test,  self.mldpred, average='macro')\n",
    "        self.Recall = recall_score(self.__y_test,  self.mldpred, average='macro')\n",
    "        self.Precision = precision_score(self.__y_test,  self.mldpred, average='macro')\n",
    "        \n",
    "        return self.ACC, self.F1, self.Recall, self.Precision\n",
    "    "
   ]
  },
  {
   "cell_type": "code",
   "execution_count": 320,
   "metadata": {},
   "outputs": [],
   "source": [
    "test = FuncML()"
   ]
  },
  {
   "cell_type": "code",
   "execution_count": 321,
   "metadata": {},
   "outputs": [
    {
     "name": "stdout",
     "output_type": "stream",
     "text": [
      "DataColunms\n",
      " Index(['CreditScore', 'Geography', 'Gender', 'Age', 'Tenure', 'Balance',\n",
      "       'NumOfProducts', 'HasCrCard', 'IsActiveMember', 'EstimatedSalary',\n",
      "       'Exited'],\n",
      "      dtype='object')\n",
      "\n",
      "CataLabel\n",
      "            count unique     top  freq\n",
      "Geography  10000      3  France  5014\n",
      "Gender     10000      2    Male  5457\n",
      "\n",
      "NumericLabel\n",
      "                    count           mean           std     min       25%  \\\n",
      "CreditScore      10000.0     650.528800     96.653299  350.00    584.00   \n",
      "Age              10000.0      38.921800     10.487806   18.00     32.00   \n",
      "Tenure           10000.0       5.012800      2.892174    0.00      3.00   \n",
      "Balance          10000.0   76485.889288  62397.405202    0.00      0.00   \n",
      "NumOfProducts    10000.0       1.530200      0.581654    1.00      1.00   \n",
      "HasCrCard        10000.0       0.705500      0.455840    0.00      0.00   \n",
      "IsActiveMember   10000.0       0.515100      0.499797    0.00      0.00   \n",
      "EstimatedSalary  10000.0  100090.239881  57510.492818   11.58  51002.11   \n",
      "Exited           10000.0       0.203700      0.402769    0.00      0.00   \n",
      "\n",
      "                        50%          75%        max  \n",
      "CreditScore         652.000     718.0000     850.00  \n",
      "Age                  37.000      44.0000      92.00  \n",
      "Tenure                5.000       7.0000      10.00  \n",
      "Balance           97198.540  127644.2400  250898.09  \n",
      "NumOfProducts         1.000       2.0000       4.00  \n",
      "HasCrCard             1.000       1.0000       1.00  \n",
      "IsActiveMember        1.000       1.0000       1.00  \n",
      "EstimatedSalary  100193.915  149388.2475  199992.48  \n",
      "Exited                0.000       0.0000       1.00  \n"
     ]
    },
    {
     "data": {
      "text/html": [
       "<div>\n",
       "<style scoped>\n",
       "    .dataframe tbody tr th:only-of-type {\n",
       "        vertical-align: middle;\n",
       "    }\n",
       "\n",
       "    .dataframe tbody tr th {\n",
       "        vertical-align: top;\n",
       "    }\n",
       "\n",
       "    .dataframe thead th {\n",
       "        text-align: right;\n",
       "    }\n",
       "</style>\n",
       "<table border=\"1\" class=\"dataframe\">\n",
       "  <thead>\n",
       "    <tr style=\"text-align: right;\">\n",
       "      <th></th>\n",
       "      <th>CreditScore</th>\n",
       "      <th>Geography</th>\n",
       "      <th>Gender</th>\n",
       "      <th>Age</th>\n",
       "      <th>Tenure</th>\n",
       "      <th>Balance</th>\n",
       "      <th>NumOfProducts</th>\n",
       "      <th>HasCrCard</th>\n",
       "      <th>IsActiveMember</th>\n",
       "      <th>EstimatedSalary</th>\n",
       "      <th>Exited</th>\n",
       "    </tr>\n",
       "  </thead>\n",
       "  <tbody>\n",
       "    <tr>\n",
       "      <th>0</th>\n",
       "      <td>619</td>\n",
       "      <td>France</td>\n",
       "      <td>Female</td>\n",
       "      <td>42</td>\n",
       "      <td>2</td>\n",
       "      <td>0.00</td>\n",
       "      <td>1</td>\n",
       "      <td>1</td>\n",
       "      <td>1</td>\n",
       "      <td>101348.88</td>\n",
       "      <td>1</td>\n",
       "    </tr>\n",
       "    <tr>\n",
       "      <th>1</th>\n",
       "      <td>608</td>\n",
       "      <td>Spain</td>\n",
       "      <td>Female</td>\n",
       "      <td>41</td>\n",
       "      <td>1</td>\n",
       "      <td>83807.86</td>\n",
       "      <td>1</td>\n",
       "      <td>0</td>\n",
       "      <td>1</td>\n",
       "      <td>112542.58</td>\n",
       "      <td>0</td>\n",
       "    </tr>\n",
       "    <tr>\n",
       "      <th>2</th>\n",
       "      <td>502</td>\n",
       "      <td>France</td>\n",
       "      <td>Female</td>\n",
       "      <td>42</td>\n",
       "      <td>8</td>\n",
       "      <td>159660.80</td>\n",
       "      <td>3</td>\n",
       "      <td>1</td>\n",
       "      <td>0</td>\n",
       "      <td>113931.57</td>\n",
       "      <td>1</td>\n",
       "    </tr>\n",
       "    <tr>\n",
       "      <th>3</th>\n",
       "      <td>699</td>\n",
       "      <td>France</td>\n",
       "      <td>Female</td>\n",
       "      <td>39</td>\n",
       "      <td>1</td>\n",
       "      <td>0.00</td>\n",
       "      <td>2</td>\n",
       "      <td>0</td>\n",
       "      <td>0</td>\n",
       "      <td>93826.63</td>\n",
       "      <td>0</td>\n",
       "    </tr>\n",
       "    <tr>\n",
       "      <th>4</th>\n",
       "      <td>850</td>\n",
       "      <td>Spain</td>\n",
       "      <td>Female</td>\n",
       "      <td>43</td>\n",
       "      <td>2</td>\n",
       "      <td>125510.82</td>\n",
       "      <td>1</td>\n",
       "      <td>1</td>\n",
       "      <td>1</td>\n",
       "      <td>79084.10</td>\n",
       "      <td>0</td>\n",
       "    </tr>\n",
       "    <tr>\n",
       "      <th>...</th>\n",
       "      <td>...</td>\n",
       "      <td>...</td>\n",
       "      <td>...</td>\n",
       "      <td>...</td>\n",
       "      <td>...</td>\n",
       "      <td>...</td>\n",
       "      <td>...</td>\n",
       "      <td>...</td>\n",
       "      <td>...</td>\n",
       "      <td>...</td>\n",
       "      <td>...</td>\n",
       "    </tr>\n",
       "    <tr>\n",
       "      <th>9995</th>\n",
       "      <td>771</td>\n",
       "      <td>France</td>\n",
       "      <td>Male</td>\n",
       "      <td>39</td>\n",
       "      <td>5</td>\n",
       "      <td>0.00</td>\n",
       "      <td>2</td>\n",
       "      <td>1</td>\n",
       "      <td>0</td>\n",
       "      <td>96270.64</td>\n",
       "      <td>0</td>\n",
       "    </tr>\n",
       "    <tr>\n",
       "      <th>9996</th>\n",
       "      <td>516</td>\n",
       "      <td>France</td>\n",
       "      <td>Male</td>\n",
       "      <td>35</td>\n",
       "      <td>10</td>\n",
       "      <td>57369.61</td>\n",
       "      <td>1</td>\n",
       "      <td>1</td>\n",
       "      <td>1</td>\n",
       "      <td>101699.77</td>\n",
       "      <td>0</td>\n",
       "    </tr>\n",
       "    <tr>\n",
       "      <th>9997</th>\n",
       "      <td>709</td>\n",
       "      <td>France</td>\n",
       "      <td>Female</td>\n",
       "      <td>36</td>\n",
       "      <td>7</td>\n",
       "      <td>0.00</td>\n",
       "      <td>1</td>\n",
       "      <td>0</td>\n",
       "      <td>1</td>\n",
       "      <td>42085.58</td>\n",
       "      <td>1</td>\n",
       "    </tr>\n",
       "    <tr>\n",
       "      <th>9998</th>\n",
       "      <td>772</td>\n",
       "      <td>Germany</td>\n",
       "      <td>Male</td>\n",
       "      <td>42</td>\n",
       "      <td>3</td>\n",
       "      <td>75075.31</td>\n",
       "      <td>2</td>\n",
       "      <td>1</td>\n",
       "      <td>0</td>\n",
       "      <td>92888.52</td>\n",
       "      <td>1</td>\n",
       "    </tr>\n",
       "    <tr>\n",
       "      <th>9999</th>\n",
       "      <td>792</td>\n",
       "      <td>France</td>\n",
       "      <td>Female</td>\n",
       "      <td>28</td>\n",
       "      <td>4</td>\n",
       "      <td>130142.79</td>\n",
       "      <td>1</td>\n",
       "      <td>1</td>\n",
       "      <td>0</td>\n",
       "      <td>38190.78</td>\n",
       "      <td>0</td>\n",
       "    </tr>\n",
       "  </tbody>\n",
       "</table>\n",
       "<p>10000 rows × 11 columns</p>\n",
       "</div>"
      ],
      "text/plain": [
       "      CreditScore Geography  Gender  Age  Tenure    Balance  NumOfProducts  \\\n",
       "0             619    France  Female   42       2       0.00              1   \n",
       "1             608     Spain  Female   41       1   83807.86              1   \n",
       "2             502    France  Female   42       8  159660.80              3   \n",
       "3             699    France  Female   39       1       0.00              2   \n",
       "4             850     Spain  Female   43       2  125510.82              1   \n",
       "...           ...       ...     ...  ...     ...        ...            ...   \n",
       "9995          771    France    Male   39       5       0.00              2   \n",
       "9996          516    France    Male   35      10   57369.61              1   \n",
       "9997          709    France  Female   36       7       0.00              1   \n",
       "9998          772   Germany    Male   42       3   75075.31              2   \n",
       "9999          792    France  Female   28       4  130142.79              1   \n",
       "\n",
       "      HasCrCard  IsActiveMember  EstimatedSalary  Exited  \n",
       "0             1               1        101348.88       1  \n",
       "1             0               1        112542.58       0  \n",
       "2             1               0        113931.57       1  \n",
       "3             0               0         93826.63       0  \n",
       "4             1               1         79084.10       0  \n",
       "...         ...             ...              ...     ...  \n",
       "9995          1               0         96270.64       0  \n",
       "9996          1               1        101699.77       0  \n",
       "9997          0               1         42085.58       1  \n",
       "9998          1               0         92888.52       1  \n",
       "9999          1               0         38190.78       0  \n",
       "\n",
       "[10000 rows x 11 columns]"
      ]
     },
     "execution_count": 321,
     "metadata": {},
     "output_type": "execute_result"
    }
   ],
   "source": [
    "test.dataload(dfb)"
   ]
  },
  {
   "cell_type": "code",
   "execution_count": 322,
   "metadata": {},
   "outputs": [
    {
     "name": "stdout",
     "output_type": "stream",
     "text": [
      "Process OK\n"
     ]
    }
   ],
   "source": [
    "test.dataprocess(xlabel=[0,9],ylabel=10, ST = True)"
   ]
  },
  {
   "cell_type": "code",
   "execution_count": 323,
   "metadata": {},
   "outputs": [
    {
     "name": "stdout",
     "output_type": "stream",
     "text": [
      "Split OK\n"
     ]
    }
   ],
   "source": [
    "test.datasplit(seed=0.3)"
   ]
  },
  {
   "cell_type": "code",
   "execution_count": 324,
   "metadata": {},
   "outputs": [
    {
     "name": "stdout",
     "output_type": "stream",
     "text": [
      "ModelTrain OK\n"
     ]
    }
   ],
   "source": [
    "test.Model(ModelSelect='rf', n_estimators=100)"
   ]
  },
  {
   "cell_type": "code",
   "execution_count": 327,
   "metadata": {},
   "outputs": [
    {
     "data": {
      "text/plain": [
       "(0.864, 0.7582816192919705, 0.7276339523963831, 0.816156426175694)"
      ]
     },
     "execution_count": 327,
     "metadata": {},
     "output_type": "execute_result"
    }
   ],
   "source": [
    "test.ModelPred()"
   ]
  },
  {
   "cell_type": "code",
   "execution_count": 328,
   "metadata": {},
   "outputs": [
    {
     "data": {
      "text/plain": [
       "array([0, 0, 0, ..., 0, 0, 0], dtype=int64)"
      ]
     },
     "execution_count": 328,
     "metadata": {},
     "output_type": "execute_result"
    }
   ],
   "source": [
    "test.mldpred"
   ]
  },
  {
   "cell_type": "code",
   "execution_count": 196,
   "metadata": {},
   "outputs": [],
   "source": [
    "ss = {'lr':LogisticRegression(),\n",
    "      'svm':SVC(),\n",
    "      'rf':RandomForestClassifier()}"
   ]
  },
  {
   "cell_type": "code",
   "execution_count": 287,
   "metadata": {},
   "outputs": [],
   "source": [
    "s = SVC()"
   ]
  },
  {
   "cell_type": "code",
   "execution_count": null,
   "metadata": {},
   "outputs": [],
   "source": []
  },
  {
   "cell_type": "code",
   "execution_count": 216,
   "metadata": {},
   "outputs": [
    {
     "ename": "TypeError",
     "evalue": "'RandomForestClassifier' object is not callable",
     "output_type": "error",
     "traceback": [
      "\u001b[1;31m---------------------------------------------------------------------------\u001b[0m",
      "\u001b[1;31mTypeError\u001b[0m                                 Traceback (most recent call last)",
      "\u001b[1;32m<ipython-input-216-ff0b55b1c024>\u001b[0m in \u001b[0;36m<module>\u001b[1;34m\u001b[0m\n\u001b[1;32m----> 1\u001b[1;33m \u001b[0msss\u001b[0m\u001b[1;33m(\u001b[0m\u001b[0mn_estimators\u001b[0m \u001b[1;33m=\u001b[0m \u001b[1;36m300\u001b[0m\u001b[1;33m)\u001b[0m\u001b[1;33m\u001b[0m\u001b[1;33m\u001b[0m\u001b[0m\n\u001b[0m",
      "\u001b[1;31mTypeError\u001b[0m: 'RandomForestClassifier' object is not callable"
     ]
    }
   ],
   "source": [
    "sss(n_estimators = 300)n_estimators=100"
   ]
  },
  {
   "cell_type": "code",
   "execution_count": null,
   "metadata": {},
   "outputs": [],
   "source": [
    "################# 其它 ##############################"
   ]
  },
  {
   "cell_type": "code",
   "execution_count": null,
   "metadata": {},
   "outputs": [],
   "source": [
    "重要參數說明：\n",
    "\n",
    "Init signature:\n",
    "LogisticRegression(\n",
    "    penalty='l2',            # 懲罰項：分為'l1', 'l2'\n",
    "    *,\n",
    "    dual=False,\n",
    "    tol=0.0001,\n",
    "    C=1.0,\n",
    "    fit_intercept=True,\n",
    "    intercept_scaling=1,\n",
    "    class_weight=None,       # 針對不衡資料權重調整，因應型一、型二誤差(trade-off)\n",
    "    random_state=None,\n",
    "    solver='lbfgs',          # loss-function 不同方法，可針對大、小樣本有不同參數\n",
    "    max_iter=100,\n",
    "    multi_class='auto',\n",
    "    verbose=0,\n",
    "    warm_start=False,\n",
    "    n_jobs=None,             # 多核心運作參數：-1 為全開核心運作\n",
    "    l1_ratio=None,\n",
    ")\n",
    "\n",
    "penalty：懲罰項，str類型，可選參數為l1和l2，默認為l2。用於指定懲罰項中使用的規範。newton-cg、sag和lbfgs求解演算法只支援L2規範。L1G規範假設的是模型的參數滿足拉普拉斯分佈，L2假設的模型參數滿足高斯分佈，所謂的範式就是加上對參數的約束，使得模型更不會過擬合(overfit)，但是如果要說是不是加了約束就會好，這個沒有人能回答，只能說，加約束的情況下，理論上應該可以獲得泛化能力更強的結果。\n",
    "\n",
    "class_weight：用於標示分類模型中各種類型的權重，可以是一個字典或者’balanced’字串，預設為不輸入，也就是不考慮權重，即為None。如果選擇輸入的話，可以選擇balanced讓類庫自己計算類型權重，或者自己輸入各個類型的權重。舉個例子，比如對於0,1的二元模型，我們可以定義class_weight={0:0.9,1:0.1}，這樣類型0的權重為90%，而類型1的權重為10%。如果class_weight選擇balanced，那麼類庫會根據訓練樣本量來計算權重。某種類型樣本量越多，則權重越低，樣本量越少，則權重越高。當class_weight為balanced時，類權重計算方法如下：n_samples / (n_classes * np.bincount(y))。n_samples為樣本數，n_classes為類別數量，np.bincount(y)會輸出每個類的樣本數，例如y=[1,0,0,1,1],則np.bincount(y)=[2,3]。\n",
    "那麼class_weight有什麼作用呢？\n",
    "\n",
    "n_jobs：並行數。int類型，默認為1。1的時候，用CPU的一個內核運行程式，2的時候，用CPU的2個內核運行程式。為-1的時候，用所有CPU的內核運行程式。"
   ]
  },
  {
   "cell_type": "code",
   "execution_count": null,
   "metadata": {},
   "outputs": [],
   "source": [
    "# 建立模型\n",
    "lrclf = LogisticRegression()"
   ]
  },
  {
   "cell_type": "code",
   "execution_count": 165,
   "metadata": {},
   "outputs": [],
   "source": [
    "S = SVC()"
   ]
  },
  {
   "cell_type": "code",
   "execution_count": 166,
   "metadata": {},
   "outputs": [
    {
     "data": {
      "text/plain": [
       "SVC()"
      ]
     },
     "execution_count": 166,
     "metadata": {},
     "output_type": "execute_result"
    }
   ],
   "source": [
    "S"
   ]
  },
  {
   "cell_type": "code",
   "execution_count": null,
   "metadata": {},
   "outputs": [],
   "source": [
    "train_test_split 函數\n",
    "簡單用法如下：\n",
    "X_train,X_test, y_train, y_test = train_test_split(train_data,train_target,test_size=0.4, random_state=0,stratify=y_train)\n",
    "train_data：所要劃分的樣本特徵集\n",
    "train_target：所要劃分的樣本結果\n",
    "test_size：樣本佔比，如果是整數的話就是樣本的數量\n",
    "random_state：是隨機數的種子。\n",
    "•\t隨機數種子：其實就是該組隨機數的編號，在需要重複試驗的時候，保證得到一組一樣的隨機數。比如你每次都填1，其他參數一樣的情況下你得到的隨機數組是一樣的。但填0或不填，每次都會不一樣。\n",
    "stratify是為了保持split前類的分布。比如有100個數據，80個屬於A類，20個屬於B類。如果train_test_split(… test_size=0.25, stratify = y_all), 那麼split之後數據如下：\n",
    "training: 75個數據，其中60個屬於A類，15個屬於B類。\n",
    "testing: 25個數據，其中20個屬於A類，5個屬於B類。\n"
   ]
  }
 ],
 "metadata": {
  "kernelspec": {
   "display_name": "Python 3",
   "language": "python",
   "name": "python3"
  },
  "language_info": {
   "codemirror_mode": {
    "name": "ipython",
    "version": 3
   },
   "file_extension": ".py",
   "mimetype": "text/x-python",
   "name": "python",
   "nbconvert_exporter": "python",
   "pygments_lexer": "ipython3",
   "version": "3.7.7"
  }
 },
 "nbformat": 4,
 "nbformat_minor": 4
}
